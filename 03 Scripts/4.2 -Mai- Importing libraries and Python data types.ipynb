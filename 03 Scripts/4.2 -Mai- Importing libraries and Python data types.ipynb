{
 "cells": [
  {
   "cell_type": "markdown",
   "id": "1a99d8bc",
   "metadata": {},
   "source": [
    "# 01. Importing libraries"
   ]
  },
  {
   "cell_type": "code",
   "execution_count": 1,
   "id": "09d738f4",
   "metadata": {},
   "outputs": [],
   "source": [
    "# Import Libraries\n",
    "import pandas as pd\n",
    "import numpy as np\n",
    "import os"
   ]
  },
  {
   "cell_type": "markdown",
   "id": "f5e42f5e",
   "metadata": {},
   "source": [
    "# 02. Data Types"
   ]
  },
  {
   "cell_type": "code",
   "execution_count": 3,
   "id": "21a7dd42",
   "metadata": {},
   "outputs": [],
   "source": [
    "x = 38"
   ]
  },
  {
   "cell_type": "code",
   "execution_count": 4,
   "id": "7823e096",
   "metadata": {},
   "outputs": [],
   "source": [
    "y = 62"
   ]
  },
  {
   "cell_type": "code",
   "execution_count": 5,
   "id": "8777bd4c",
   "metadata": {},
   "outputs": [
    {
     "data": {
      "text/plain": [
       "100"
      ]
     },
     "execution_count": 5,
     "metadata": {},
     "output_type": "execute_result"
    }
   ],
   "source": [
    "x + y"
   ]
  },
  {
   "cell_type": "code",
   "execution_count": 6,
   "id": "3656bb6f",
   "metadata": {},
   "outputs": [],
   "source": [
    "x = 5"
   ]
  },
  {
   "cell_type": "code",
   "execution_count": 7,
   "id": "42545e68",
   "metadata": {},
   "outputs": [],
   "source": [
    "y = 20"
   ]
  },
  {
   "cell_type": "code",
   "execution_count": 8,
   "id": "480e9f44",
   "metadata": {},
   "outputs": [
    {
     "data": {
      "text/plain": [
       "100"
      ]
     },
     "execution_count": 8,
     "metadata": {},
     "output_type": "execute_result"
    }
   ],
   "source": [
    "x*y"
   ]
  },
  {
   "cell_type": "code",
   "execution_count": 9,
   "id": "5cf36d68",
   "metadata": {},
   "outputs": [],
   "source": [
    "x = 20"
   ]
  },
  {
   "cell_type": "code",
   "execution_count": 10,
   "id": "0c5fb347",
   "metadata": {},
   "outputs": [],
   "source": [
    "y = 2"
   ]
  },
  {
   "cell_type": "code",
   "execution_count": 11,
   "id": "fc523538",
   "metadata": {},
   "outputs": [
    {
     "data": {
      "text/plain": [
       "100"
      ]
     },
     "execution_count": 11,
     "metadata": {},
     "output_type": "execute_result"
    }
   ],
   "source": [
    "x*y*y+x"
   ]
  },
  {
   "cell_type": "code",
   "execution_count": 12,
   "id": "0d8b17a7",
   "metadata": {},
   "outputs": [],
   "source": [
    "n = 5.567"
   ]
  },
  {
   "cell_type": "code",
   "execution_count": 13,
   "id": "48169ccd",
   "metadata": {},
   "outputs": [],
   "source": [
    "m = 6.557"
   ]
  },
  {
   "cell_type": "code",
   "execution_count": 14,
   "id": "01926826",
   "metadata": {},
   "outputs": [
    {
     "data": {
      "text/plain": [
       "36.502819"
      ]
     },
     "execution_count": 14,
     "metadata": {},
     "output_type": "execute_result"
    }
   ],
   "source": [
    "n*m"
   ]
  },
  {
   "cell_type": "code",
   "execution_count": 16,
   "id": "115da63d",
   "metadata": {},
   "outputs": [],
   "source": [
    "a = 'cup'"
   ]
  },
  {
   "cell_type": "code",
   "execution_count": 17,
   "id": "17d927c3",
   "metadata": {},
   "outputs": [],
   "source": [
    "b = 'cake'"
   ]
  },
  {
   "cell_type": "code",
   "execution_count": 19,
   "id": "a96d9aca",
   "metadata": {},
   "outputs": [
    {
     "data": {
      "text/plain": [
       "'cupcake'"
      ]
     },
     "execution_count": 19,
     "metadata": {},
     "output_type": "execute_result"
    }
   ],
   "source": [
    "a+b"
   ]
  },
  {
   "cell_type": "code",
   "execution_count": 32,
   "id": "8e9398c9",
   "metadata": {},
   "outputs": [],
   "source": [
    "h = 'I '"
   ]
  },
  {
   "cell_type": "code",
   "execution_count": 42,
   "id": "6df3c826",
   "metadata": {},
   "outputs": [],
   "source": [
    "i = 'like '"
   ]
  },
  {
   "cell_type": "code",
   "execution_count": 49,
   "id": "f50b1651",
   "metadata": {},
   "outputs": [],
   "source": [
    "j = 'icecream.'"
   ]
  },
  {
   "cell_type": "code",
   "execution_count": 47,
   "id": "9c1ec648",
   "metadata": {},
   "outputs": [],
   "source": [
    "k = 'strawberry '"
   ]
  },
  {
   "cell_type": "code",
   "execution_count": 50,
   "id": "550c7a65",
   "metadata": {},
   "outputs": [
    {
     "data": {
      "text/plain": [
       "'I like icecream.'"
      ]
     },
     "execution_count": 50,
     "metadata": {},
     "output_type": "execute_result"
    }
   ],
   "source": [
    "h + i + j"
   ]
  },
  {
   "cell_type": "code",
   "execution_count": 51,
   "id": "c9ff5f8a",
   "metadata": {},
   "outputs": [
    {
     "data": {
      "text/plain": [
       "'I like strawberry icecream.'"
      ]
     },
     "execution_count": 51,
     "metadata": {},
     "output_type": "execute_result"
    }
   ],
   "source": [
    " h + i + k + j"
   ]
  },
  {
   "cell_type": "code",
   "execution_count": null,
   "id": "155ce3c7",
   "metadata": {},
   "outputs": [],
   "source": []
  }
 ],
 "metadata": {
  "kernelspec": {
   "display_name": "Python 3 (ipykernel)",
   "language": "python",
   "name": "python3"
  },
  "language_info": {
   "codemirror_mode": {
    "name": "ipython",
    "version": 3
   },
   "file_extension": ".py",
   "mimetype": "text/x-python",
   "name": "python",
   "nbconvert_exporter": "python",
   "pygments_lexer": "ipython3",
   "version": "3.9.13"
  }
 },
 "nbformat": 4,
 "nbformat_minor": 5
}
