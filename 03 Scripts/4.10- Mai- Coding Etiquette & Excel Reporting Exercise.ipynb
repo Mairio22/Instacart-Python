{
 "cells": [
  {
   "cell_type": "markdown",
   "id": "3731449d",
   "metadata": {},
   "source": [
    "## Contents\n",
    "1. Importing Libraries and Data (orders_products_all.pkl)\n",
    "2. Data Security Check\n",
    "3. Spending Habits by Region\n",
    "4. Excluding Low-Activity Customers\n",
    "5. Customers Profiling Variables\n",
    "6. Profile Visualizations\n",
    "7. Profile Aggregation\n",
    "8. Customer Profiles by Region and Department¶\n",
    "9. Visualizations for Results\n",
    "10. Extra Analysis\n",
    "11. Questions from Project Brief\n",
    "12. Export Data"
   ]
  },
  {
   "cell_type": "code",
   "execution_count": 2,
   "id": "f44a8c8f",
   "metadata": {},
   "outputs": [],
   "source": [
    "# Import libraries\n",
    "import pandas as pd\n",
    "import numpy as np\n",
    "import os\n",
    "import matplotlib.pyplot as plt\n",
    "import seaborn as sns\n",
    "import scipy"
   ]
  },
  {
   "cell_type": "markdown",
   "id": "2b931c60",
   "metadata": {},
   "source": [
    "### Step 1: Import Dataset"
   ]
  },
  {
   "cell_type": "code",
   "execution_count": 3,
   "id": "c06d8375",
   "metadata": {},
   "outputs": [],
   "source": [
    "# Import Data\n",
    "path = r'/Users/maitran/Documents/Instacart Basket Analysis'"
   ]
  },
  {
   "cell_type": "code",
   "execution_count": 4,
   "id": "7e8be532",
   "metadata": {},
   "outputs": [],
   "source": [
    "# Import the customer_data_set dataframe\n",
    "df_ic_combined = pd.read_pickle(os.path.join(path, '02 Data', 'Prepared Data', 'customer_merged.pkl'))"
   ]
  },
  {
   "cell_type": "code",
   "execution_count": 6,
   "id": "2f6e8cee",
   "metadata": {},
   "outputs": [
    {
     "data": {
      "text/plain": [
       "(32404859, 36)"
      ]
     },
     "execution_count": 6,
     "metadata": {},
     "output_type": "execute_result"
    }
   ],
   "source": [
    "# Check df output\n",
    "df_ic_combined.shape"
   ]
  },
  {
   "cell_type": "markdown",
   "id": "4d89491a",
   "metadata": {},
   "source": [
    "### Step 2: Address PII data"
   ]
  },
  {
   "cell_type": "code",
   "execution_count": 7,
   "id": "b3de8ed0",
   "metadata": {},
   "outputs": [
    {
     "name": "stdout",
     "output_type": "stream",
     "text": [
      "<class 'pandas.core.frame.DataFrame'>\n",
      "Int64Index: 32404859 entries, 0 to 32404858\n",
      "Data columns (total 36 columns):\n",
      " #   Column                  Dtype   \n",
      "---  ------                  -----   \n",
      " 0   order_id                int64   \n",
      " 1   user_id                 object  \n",
      " 2   eval_set                object  \n",
      " 3   order_number            int64   \n",
      " 4   order_day_of_week       int64   \n",
      " 5   order_hour_of_day       int64   \n",
      " 6   days_since_prior_order  float64 \n",
      " 7   product_id              int64   \n",
      " 8   add_to_cart_order       int64   \n",
      " 9   reordered               int64   \n",
      " 10  Unnamed: 0              int64   \n",
      " 11  product_name            object  \n",
      " 12  aisle_id                int64   \n",
      " 13  department_id           int64   \n",
      " 14  prices                  float64 \n",
      " 15  _merge                  category\n",
      " 16  busiest_day             object  \n",
      " 17  busiest_days            object  \n",
      " 18  busiest_period_of_day   object  \n",
      " 19  price_range_loc         object  \n",
      " 20  max_order               int64   \n",
      " 21  loyalty_flag            object  \n",
      " 22  avg_order               float64 \n",
      " 23  spending_flag           object  \n",
      " 24  median_prior_order      float64 \n",
      " 25  order_frequency_flag    object  \n",
      " 26  first_name              object  \n",
      " 27  surname                 object  \n",
      " 28  gender                  object  \n",
      " 29  state                   object  \n",
      " 30  age                     int64   \n",
      " 31  date_joined             object  \n",
      " 32  number_of_dependants    int64   \n",
      " 33  fam_status              object  \n",
      " 34  income                  int64   \n",
      " 35  True                    category\n",
      "dtypes: category(2), float64(4), int64(14), object(16)\n",
      "memory usage: 8.5+ GB\n"
     ]
    }
   ],
   "source": [
    "df_ic_combined.info()"
   ]
  },
  {
   "cell_type": "markdown",
   "id": "9de72d6a",
   "metadata": {},
   "source": [
    "Observation: The dataset has customer's first name and surname which are elements of PII data. Therefore, we need to remove them. The steps are shown below:"
   ]
  },
  {
   "cell_type": "code",
   "execution_count": 215,
   "id": "87268d83",
   "metadata": {},
   "outputs": [],
   "source": [
    "# Create new dataframe in which columns \"first_name\" and \"surname\" are removed\n",
    "df_ic = df_ic_combined.drop(columns = ['first_name', 'surname'])"
   ]
  },
  {
   "cell_type": "markdown",
   "id": "34d570c6",
   "metadata": {},
   "source": [
    "### Step 3: Customer Spending behavior by Regions"
   ]
  },
  {
   "cell_type": "code",
   "execution_count": 8,
   "id": "e66bc9dd",
   "metadata": {},
   "outputs": [],
   "source": [
    "# Divide States into regions\n",
    "northeast = ['Maine', 'New Hampshire', 'Vermont', 'Massachusetts', 'Rhode Island', 'Connecticut', 'New York', 'Pennsylvania', 'New Jersey']\n",
    "midwest = ['Wisconsin', 'Michigan', 'Illinois', 'Indiana', 'Ohio', 'North Dakota', 'South Dakota', 'Nebraska', 'Kansas', 'Minnesota', 'Iowa', 'Missouri']\n",
    "south = ['Delaware', 'Maryland', 'District of Columbia', 'Virginia', 'West Virginia', 'North Carolina', 'South Carolina', 'Georgia', 'Florida', 'Kentucky', 'Tennessee', 'Mississippi', 'Alabama', 'Oklahoma', 'Texas', 'Arkansas', 'Louisiana']\n",
    "west = ['Idaho', 'Montana', 'Wyoming', 'Nevada', 'Utah', 'Colorado', 'Arizona', 'New Mexico', 'Alaska', 'Washington', 'Oregon', 'California', 'Hawaii']"
   ]
  },
  {
   "cell_type": "code",
   "execution_count": 9,
   "id": "1afbf59e",
   "metadata": {},
   "outputs": [],
   "source": [
    "# Assign each state to its region\n",
    "region =[]\n",
    "for value in df_ic['state']:\n",
    "    if value in northeast:\n",
    "        region.append('Northeast')\n",
    "    elif value in midwest:\n",
    "        region.append('Midwest')\n",
    "    elif value in south:\n",
    "        region.append('South')\n",
    "    elif value in west:\n",
    "        region.append('West')"
   ]
  },
  {
   "cell_type": "code",
   "execution_count": 10,
   "id": "11a6300c",
   "metadata": {},
   "outputs": [],
   "source": [
    "# Create \"region\" column\n",
    "df_ic['region'] = region"
   ]
  },
  {
   "cell_type": "code",
   "execution_count": 13,
   "id": "ac3a0fbc",
   "metadata": {
    "scrolled": true
   },
   "outputs": [
    {
     "data": {
      "text/plain": [
       "Index(['order_id', 'user_id', 'eval_set', 'order_number', 'order_day_of_week',\n",
       "       'order_hour_of_day', 'days_since_prior_order', 'product_id',\n",
       "       'add_to_cart_order', 'reordered', 'Unnamed: 0', 'product_name',\n",
       "       'aisle_id', 'department_id', 'prices', '_merge', 'busiest_day',\n",
       "       'busiest_days', 'busiest_period_of_day', 'price_range_loc', 'max_order',\n",
       "       'loyalty_flag', 'avg_order', 'spending_flag', 'median_prior_order',\n",
       "       'order_frequency_flag', 'gender', 'state', 'age', 'date_joined',\n",
       "       'number_of_dependants', 'fam_status', 'income', 'True', 'region'],\n",
       "      dtype='object')"
      ]
     },
     "execution_count": 13,
     "metadata": {},
     "output_type": "execute_result"
    }
   ],
   "source": [
    "# Check the df to see if the region column is added\n",
    "df_ic.columns"
   ]
  },
  {
   "cell_type": "code",
   "execution_count": 14,
   "id": "bf2a824a",
   "metadata": {},
   "outputs": [
    {
     "data": {
      "text/plain": [
       "South        10791885\n",
       "West          8292913\n",
       "Midwest       7597325\n",
       "Northeast     5722736\n",
       "Name: region, dtype: int64"
      ]
     },
     "execution_count": 14,
     "metadata": {},
     "output_type": "execute_result"
    }
   ],
   "source": [
    "# Check frequency distribution of 'region'\n",
    "df_ic['region'].value_counts(dropna = False)"
   ]
  },
  {
   "cell_type": "code",
   "execution_count": 11,
   "id": "9f70f762",
   "metadata": {},
   "outputs": [],
   "source": [
    "# Create a crosstab between region and spending_flag columns\n",
    "crosstab_region_spending = pd.crosstab(df_ic['region'], df_ic['spending_flag'], dropna = False)"
   ]
  },
  {
   "cell_type": "code",
   "execution_count": 12,
   "id": "d9f5bc74",
   "metadata": {},
   "outputs": [
    {
     "data": {
      "text/html": [
       "<div>\n",
       "<style scoped>\n",
       "    .dataframe tbody tr th:only-of-type {\n",
       "        vertical-align: middle;\n",
       "    }\n",
       "\n",
       "    .dataframe tbody tr th {\n",
       "        vertical-align: top;\n",
       "    }\n",
       "\n",
       "    .dataframe thead th {\n",
       "        text-align: right;\n",
       "    }\n",
       "</style>\n",
       "<table border=\"1\" class=\"dataframe\">\n",
       "  <thead>\n",
       "    <tr style=\"text-align: right;\">\n",
       "      <th>spending_flag</th>\n",
       "      <th>High spender</th>\n",
       "      <th>Low spender</th>\n",
       "    </tr>\n",
       "    <tr>\n",
       "      <th>region</th>\n",
       "      <th></th>\n",
       "      <th></th>\n",
       "    </tr>\n",
       "  </thead>\n",
       "  <tbody>\n",
       "    <tr>\n",
       "      <th>Midwest</th>\n",
       "      <td>155975</td>\n",
       "      <td>7441350</td>\n",
       "    </tr>\n",
       "    <tr>\n",
       "      <th>Northeast</th>\n",
       "      <td>108225</td>\n",
       "      <td>5614511</td>\n",
       "    </tr>\n",
       "    <tr>\n",
       "      <th>South</th>\n",
       "      <td>209691</td>\n",
       "      <td>10582194</td>\n",
       "    </tr>\n",
       "    <tr>\n",
       "      <th>West</th>\n",
       "      <td>160354</td>\n",
       "      <td>8132559</td>\n",
       "    </tr>\n",
       "  </tbody>\n",
       "</table>\n",
       "</div>"
      ],
      "text/plain": [
       "spending_flag  High spender  Low spender\n",
       "region                                  \n",
       "Midwest              155975      7441350\n",
       "Northeast            108225      5614511\n",
       "South                209691     10582194\n",
       "West                 160354      8132559"
      ]
     },
     "execution_count": 12,
     "metadata": {},
     "output_type": "execute_result"
    }
   ],
   "source": [
    "#Check output\n",
    "crosstab_region_spending"
   ]
  },
  {
   "cell_type": "markdown",
   "id": "cd680283",
   "metadata": {},
   "source": [
    "Observation: Based on the output, it does not appear to be a significant difference in spending habits between the different regions. The number of high spenders is relatively similar across all regions, ranging from 108225 in the Northeast to 209691 in the Midwest. Similarly, the number of low spenders is also quite similar, ranging from 5614511 in the Northeast to 10582194 in the South. "
   ]
  },
  {
   "cell_type": "markdown",
   "id": "4331048b",
   "metadata": {},
   "source": [
    "### Step 4: Exclue low-activity customers"
   ]
  },
  {
   "cell_type": "code",
   "execution_count": 216,
   "id": "4e4e4bec",
   "metadata": {},
   "outputs": [],
   "source": [
    "# Create an exclusion flag for low-activity customers\n",
    "exclusion_flag= df_ic[df_ic['max_order'] < 5]"
   ]
  },
  {
   "cell_type": "code",
   "execution_count": 18,
   "id": "da715b10",
   "metadata": {},
   "outputs": [],
   "source": [
    "# Set default value of 'exclusion' column to 'low activity'\n",
    "df_ic['exclusion'] = 'low activity'"
   ]
  },
  {
   "cell_type": "code",
   "execution_count": 19,
   "id": "acf6d395",
   "metadata": {},
   "outputs": [],
   "source": [
    "# Update rows where max_order is >= 5\n",
    "df_ic.loc[df_ic['max_order'] >= 5, 'exclusion'] = 'active'"
   ]
  },
  {
   "cell_type": "code",
   "execution_count": 20,
   "id": "96a54c50",
   "metadata": {},
   "outputs": [
    {
     "data": {
      "text/html": [
       "<div>\n",
       "<style scoped>\n",
       "    .dataframe tbody tr th:only-of-type {\n",
       "        vertical-align: middle;\n",
       "    }\n",
       "\n",
       "    .dataframe tbody tr th {\n",
       "        vertical-align: top;\n",
       "    }\n",
       "\n",
       "    .dataframe thead th {\n",
       "        text-align: right;\n",
       "    }\n",
       "</style>\n",
       "<table border=\"1\" class=\"dataframe\">\n",
       "  <thead>\n",
       "    <tr style=\"text-align: right;\">\n",
       "      <th></th>\n",
       "      <th>order_id</th>\n",
       "      <th>user_id</th>\n",
       "      <th>eval_set</th>\n",
       "      <th>order_number</th>\n",
       "      <th>order_day_of_week</th>\n",
       "      <th>order_hour_of_day</th>\n",
       "      <th>days_since_prior_order</th>\n",
       "      <th>product_id</th>\n",
       "      <th>add_to_cart_order</th>\n",
       "      <th>reordered</th>\n",
       "      <th>...</th>\n",
       "      <th>gender</th>\n",
       "      <th>state</th>\n",
       "      <th>age</th>\n",
       "      <th>date_joined</th>\n",
       "      <th>number_of_dependants</th>\n",
       "      <th>fam_status</th>\n",
       "      <th>income</th>\n",
       "      <th>True</th>\n",
       "      <th>region</th>\n",
       "      <th>exclusion</th>\n",
       "    </tr>\n",
       "  </thead>\n",
       "  <tbody>\n",
       "    <tr>\n",
       "      <th>0</th>\n",
       "      <td>2539329</td>\n",
       "      <td>1</td>\n",
       "      <td>prior</td>\n",
       "      <td>1</td>\n",
       "      <td>2</td>\n",
       "      <td>8</td>\n",
       "      <td>NaN</td>\n",
       "      <td>196</td>\n",
       "      <td>1</td>\n",
       "      <td>0</td>\n",
       "      <td>...</td>\n",
       "      <td>Female</td>\n",
       "      <td>Alabama</td>\n",
       "      <td>31</td>\n",
       "      <td>2/17/2019</td>\n",
       "      <td>3</td>\n",
       "      <td>married</td>\n",
       "      <td>40423</td>\n",
       "      <td>both</td>\n",
       "      <td>South</td>\n",
       "      <td>active</td>\n",
       "    </tr>\n",
       "    <tr>\n",
       "      <th>1</th>\n",
       "      <td>2398795</td>\n",
       "      <td>1</td>\n",
       "      <td>prior</td>\n",
       "      <td>2</td>\n",
       "      <td>3</td>\n",
       "      <td>7</td>\n",
       "      <td>15.0</td>\n",
       "      <td>196</td>\n",
       "      <td>1</td>\n",
       "      <td>1</td>\n",
       "      <td>...</td>\n",
       "      <td>Female</td>\n",
       "      <td>Alabama</td>\n",
       "      <td>31</td>\n",
       "      <td>2/17/2019</td>\n",
       "      <td>3</td>\n",
       "      <td>married</td>\n",
       "      <td>40423</td>\n",
       "      <td>both</td>\n",
       "      <td>South</td>\n",
       "      <td>active</td>\n",
       "    </tr>\n",
       "    <tr>\n",
       "      <th>2</th>\n",
       "      <td>473747</td>\n",
       "      <td>1</td>\n",
       "      <td>prior</td>\n",
       "      <td>3</td>\n",
       "      <td>3</td>\n",
       "      <td>12</td>\n",
       "      <td>21.0</td>\n",
       "      <td>196</td>\n",
       "      <td>1</td>\n",
       "      <td>1</td>\n",
       "      <td>...</td>\n",
       "      <td>Female</td>\n",
       "      <td>Alabama</td>\n",
       "      <td>31</td>\n",
       "      <td>2/17/2019</td>\n",
       "      <td>3</td>\n",
       "      <td>married</td>\n",
       "      <td>40423</td>\n",
       "      <td>both</td>\n",
       "      <td>South</td>\n",
       "      <td>active</td>\n",
       "    </tr>\n",
       "    <tr>\n",
       "      <th>3</th>\n",
       "      <td>2254736</td>\n",
       "      <td>1</td>\n",
       "      <td>prior</td>\n",
       "      <td>4</td>\n",
       "      <td>4</td>\n",
       "      <td>7</td>\n",
       "      <td>29.0</td>\n",
       "      <td>196</td>\n",
       "      <td>1</td>\n",
       "      <td>1</td>\n",
       "      <td>...</td>\n",
       "      <td>Female</td>\n",
       "      <td>Alabama</td>\n",
       "      <td>31</td>\n",
       "      <td>2/17/2019</td>\n",
       "      <td>3</td>\n",
       "      <td>married</td>\n",
       "      <td>40423</td>\n",
       "      <td>both</td>\n",
       "      <td>South</td>\n",
       "      <td>active</td>\n",
       "    </tr>\n",
       "    <tr>\n",
       "      <th>4</th>\n",
       "      <td>431534</td>\n",
       "      <td>1</td>\n",
       "      <td>prior</td>\n",
       "      <td>5</td>\n",
       "      <td>4</td>\n",
       "      <td>15</td>\n",
       "      <td>28.0</td>\n",
       "      <td>196</td>\n",
       "      <td>1</td>\n",
       "      <td>1</td>\n",
       "      <td>...</td>\n",
       "      <td>Female</td>\n",
       "      <td>Alabama</td>\n",
       "      <td>31</td>\n",
       "      <td>2/17/2019</td>\n",
       "      <td>3</td>\n",
       "      <td>married</td>\n",
       "      <td>40423</td>\n",
       "      <td>both</td>\n",
       "      <td>South</td>\n",
       "      <td>active</td>\n",
       "    </tr>\n",
       "  </tbody>\n",
       "</table>\n",
       "<p>5 rows × 36 columns</p>\n",
       "</div>"
      ],
      "text/plain": [
       "   order_id user_id eval_set  order_number  order_day_of_week  \\\n",
       "0   2539329       1    prior             1                  2   \n",
       "1   2398795       1    prior             2                  3   \n",
       "2    473747       1    prior             3                  3   \n",
       "3   2254736       1    prior             4                  4   \n",
       "4    431534       1    prior             5                  4   \n",
       "\n",
       "   order_hour_of_day  days_since_prior_order  product_id  add_to_cart_order  \\\n",
       "0                  8                     NaN         196                  1   \n",
       "1                  7                    15.0         196                  1   \n",
       "2                 12                    21.0         196                  1   \n",
       "3                  7                    29.0         196                  1   \n",
       "4                 15                    28.0         196                  1   \n",
       "\n",
       "   reordered  ...  gender    state  age  date_joined  number_of_dependants  \\\n",
       "0          0  ...  Female  Alabama   31    2/17/2019                     3   \n",
       "1          1  ...  Female  Alabama   31    2/17/2019                     3   \n",
       "2          1  ...  Female  Alabama   31    2/17/2019                     3   \n",
       "3          1  ...  Female  Alabama   31    2/17/2019                     3   \n",
       "4          1  ...  Female  Alabama   31    2/17/2019                     3   \n",
       "\n",
       "  fam_status income  True region exclusion  \n",
       "0    married  40423  both  South    active  \n",
       "1    married  40423  both  South    active  \n",
       "2    married  40423  both  South    active  \n",
       "3    married  40423  both  South    active  \n",
       "4    married  40423  both  South    active  \n",
       "\n",
       "[5 rows x 36 columns]"
      ]
     },
     "execution_count": 20,
     "metadata": {},
     "output_type": "execute_result"
    }
   ],
   "source": [
    "df_ic.head()"
   ]
  },
  {
   "cell_type": "code",
   "execution_count": 21,
   "id": "c4f3b681",
   "metadata": {},
   "outputs": [],
   "source": [
    "# Create a new dataframe df_ic_active_cus that only includes active customers, and exclude low activity customers\n",
    "df_ic_active_cus = df_ic.loc[df_ic['exclusion'] == 'active']"
   ]
  },
  {
   "cell_type": "code",
   "execution_count": 41,
   "id": "a12bce0a",
   "metadata": {},
   "outputs": [],
   "source": [
    "# Export the updated data\n",
    "df_ic_active_cus.to_pickle(os.path.join(path, '02 Data','Prepared Data', 'active_customers.pkl'))"
   ]
  },
  {
   "cell_type": "markdown",
   "id": "962d6cc6",
   "metadata": {},
   "source": [
    "### Step 5: Customer Profiling Variables"
   ]
  },
  {
   "cell_type": "markdown",
   "id": "43fd959a",
   "metadata": {},
   "source": [
    "### a. Age"
   ]
  },
  {
   "cell_type": "code",
   "execution_count": 5,
   "id": "158c72b2",
   "metadata": {},
   "outputs": [],
   "source": [
    "# Import the new dataframe\n",
    "df_ic_active_cus = pd.read_pickle(os.path.join(path, '02 Data', 'Prepared Data', 'active_customers.pkl'))"
   ]
  },
  {
   "cell_type": "code",
   "execution_count": 6,
   "id": "fb28f376",
   "metadata": {},
   "outputs": [],
   "source": [
    "# Create age group classifications\n",
    "df_ic_active_cus.loc[(df_ic_active_cus['age'] <= 25), 'age_group'] = 'Young'\n",
    "df_ic_active_cus.loc[(df_ic_active_cus['age'] > 25) & (df_ic_active_cus['age'] < 65), 'age_group'] = 'Mid-aged'\n",
    "df_ic_active_cus.loc[(df_ic_active_cus['age'] >= 65), 'age_group'] = 'Senior'\n",
    "df_ic_active_cus.loc[df_ic_active_cus['age_group'].isna(), 'age_group'] = 'Unknown'\n"
   ]
  },
  {
   "cell_type": "code",
   "execution_count": 42,
   "id": "33d783fd",
   "metadata": {
    "scrolled": true
   },
   "outputs": [
    {
     "data": {
      "text/plain": [
       "Mid-aged    18904502\n",
       "Senior       8195544\n",
       "Young        3864518\n",
       "Name: age_group, dtype: int64"
      ]
     },
     "execution_count": 42,
     "metadata": {},
     "output_type": "execute_result"
    }
   ],
   "source": [
    "# Check frequency distribution\n",
    "df_ic_active_cus.age_group.value_counts(dropna = False)"
   ]
  },
  {
   "cell_type": "markdown",
   "id": "7ab71125",
   "metadata": {},
   "source": [
    "### b. Income"
   ]
  },
  {
   "cell_type": "code",
   "execution_count": 7,
   "id": "272935d9",
   "metadata": {},
   "outputs": [],
   "source": [
    "# Create income_group classification\n",
    "df_ic_active_cus.loc[(df_ic_active_cus['income'] <75000), 'income_group'] = 'Low income'\n",
    "df_ic_active_cus.loc[(df_ic_active_cus['income'] >= 75000) & (df_ic_active_cus['income'] < 150000), 'income_group'] = 'Mid income'\n",
    "df_ic_active_cus.loc[(df_ic_active_cus['income'] >= 150000), 'income_group'] = 'High income'\n",
    "df_ic_active_cus.loc[df_ic_active_cus['income_group'].isna(), 'income_group'] = 'Unknown'"
   ]
  },
  {
   "cell_type": "code",
   "execution_count": 46,
   "id": "d9168c93",
   "metadata": {},
   "outputs": [
    {
     "data": {
      "text/plain": [
       "Mid income     17162609\n",
       "Low income      9906680\n",
       "High income     3895275\n",
       "Name: income_group, dtype: int64"
      ]
     },
     "execution_count": 46,
     "metadata": {},
     "output_type": "execute_result"
    }
   ],
   "source": [
    "# Check frequency distribution\n",
    "df_ic_active_cus.income_group.value_counts(dropna = False)"
   ]
  },
  {
   "cell_type": "markdown",
   "id": "862045b0",
   "metadata": {},
   "source": [
    "### c. Department - Veganism"
   ]
  },
  {
   "cell_type": "code",
   "execution_count": 8,
   "id": "2361d9e0",
   "metadata": {},
   "outputs": [],
   "source": [
    "# Import Department Dataframe\n",
    "df_ic_department = pd.read_csv(os.path.join(path, '02 Data', 'Prepared Data', 'departments_wrangled.csv'))"
   ]
  },
  {
   "cell_type": "code",
   "execution_count": 78,
   "id": "c0e14fef",
   "metadata": {},
   "outputs": [
    {
     "data": {
      "text/html": [
       "<div>\n",
       "<style scoped>\n",
       "    .dataframe tbody tr th:only-of-type {\n",
       "        vertical-align: middle;\n",
       "    }\n",
       "\n",
       "    .dataframe tbody tr th {\n",
       "        vertical-align: top;\n",
       "    }\n",
       "\n",
       "    .dataframe thead th {\n",
       "        text-align: right;\n",
       "    }\n",
       "</style>\n",
       "<table border=\"1\" class=\"dataframe\">\n",
       "  <thead>\n",
       "    <tr style=\"text-align: right;\">\n",
       "      <th></th>\n",
       "      <th>Unnamed: 0</th>\n",
       "      <th>department</th>\n",
       "    </tr>\n",
       "  </thead>\n",
       "  <tbody>\n",
       "    <tr>\n",
       "      <th>0</th>\n",
       "      <td>1</td>\n",
       "      <td>frozen</td>\n",
       "    </tr>\n",
       "    <tr>\n",
       "      <th>1</th>\n",
       "      <td>2</td>\n",
       "      <td>other</td>\n",
       "    </tr>\n",
       "    <tr>\n",
       "      <th>2</th>\n",
       "      <td>3</td>\n",
       "      <td>bakery</td>\n",
       "    </tr>\n",
       "    <tr>\n",
       "      <th>3</th>\n",
       "      <td>4</td>\n",
       "      <td>produce</td>\n",
       "    </tr>\n",
       "    <tr>\n",
       "      <th>4</th>\n",
       "      <td>5</td>\n",
       "      <td>alcohol</td>\n",
       "    </tr>\n",
       "    <tr>\n",
       "      <th>5</th>\n",
       "      <td>6</td>\n",
       "      <td>international</td>\n",
       "    </tr>\n",
       "    <tr>\n",
       "      <th>6</th>\n",
       "      <td>7</td>\n",
       "      <td>beverages</td>\n",
       "    </tr>\n",
       "    <tr>\n",
       "      <th>7</th>\n",
       "      <td>8</td>\n",
       "      <td>pets</td>\n",
       "    </tr>\n",
       "    <tr>\n",
       "      <th>8</th>\n",
       "      <td>9</td>\n",
       "      <td>dry goods pasta</td>\n",
       "    </tr>\n",
       "    <tr>\n",
       "      <th>9</th>\n",
       "      <td>10</td>\n",
       "      <td>bulk</td>\n",
       "    </tr>\n",
       "    <tr>\n",
       "      <th>10</th>\n",
       "      <td>11</td>\n",
       "      <td>personal care</td>\n",
       "    </tr>\n",
       "    <tr>\n",
       "      <th>11</th>\n",
       "      <td>12</td>\n",
       "      <td>meat seafood</td>\n",
       "    </tr>\n",
       "    <tr>\n",
       "      <th>12</th>\n",
       "      <td>13</td>\n",
       "      <td>pantry</td>\n",
       "    </tr>\n",
       "    <tr>\n",
       "      <th>13</th>\n",
       "      <td>14</td>\n",
       "      <td>breakfast</td>\n",
       "    </tr>\n",
       "    <tr>\n",
       "      <th>14</th>\n",
       "      <td>15</td>\n",
       "      <td>canned goods</td>\n",
       "    </tr>\n",
       "    <tr>\n",
       "      <th>15</th>\n",
       "      <td>16</td>\n",
       "      <td>dairy eggs</td>\n",
       "    </tr>\n",
       "    <tr>\n",
       "      <th>16</th>\n",
       "      <td>17</td>\n",
       "      <td>household</td>\n",
       "    </tr>\n",
       "    <tr>\n",
       "      <th>17</th>\n",
       "      <td>18</td>\n",
       "      <td>babies</td>\n",
       "    </tr>\n",
       "    <tr>\n",
       "      <th>18</th>\n",
       "      <td>19</td>\n",
       "      <td>snacks</td>\n",
       "    </tr>\n",
       "    <tr>\n",
       "      <th>19</th>\n",
       "      <td>20</td>\n",
       "      <td>deli</td>\n",
       "    </tr>\n",
       "    <tr>\n",
       "      <th>20</th>\n",
       "      <td>21</td>\n",
       "      <td>missing</td>\n",
       "    </tr>\n",
       "  </tbody>\n",
       "</table>\n",
       "</div>"
      ],
      "text/plain": [
       "    Unnamed: 0       department\n",
       "0            1           frozen\n",
       "1            2            other\n",
       "2            3           bakery\n",
       "3            4          produce\n",
       "4            5          alcohol\n",
       "5            6    international\n",
       "6            7        beverages\n",
       "7            8             pets\n",
       "8            9  dry goods pasta\n",
       "9           10             bulk\n",
       "10          11    personal care\n",
       "11          12     meat seafood\n",
       "12          13           pantry\n",
       "13          14        breakfast\n",
       "14          15     canned goods\n",
       "15          16       dairy eggs\n",
       "16          17        household\n",
       "17          18           babies\n",
       "18          19           snacks\n",
       "19          20             deli\n",
       "20          21          missing"
      ]
     },
     "execution_count": 78,
     "metadata": {},
     "output_type": "execute_result"
    }
   ],
   "source": [
    "# Check department's categories\n",
    "df_ic_department.head(25)"
   ]
  },
  {
   "cell_type": "markdown",
   "id": "e10ab192",
   "metadata": {},
   "source": [
    "I will create the customer's profile based on vegans and non-vegans customer.\n",
    "\n",
    "Vegans don't eat meat (department_id=12) and dairy (department_id=16)"
   ]
  },
  {
   "cell_type": "code",
   "execution_count": 9,
   "id": "ca94439c",
   "metadata": {},
   "outputs": [],
   "source": [
    "# Creating a crosstab between 'department_id' and 'user_id'\n",
    "crosstab_dep_user_cross = pd.crosstab(df_ic_active_cus['user_id'], df_ic_active_cus['department_id'], dropna = False)"
   ]
  },
  {
   "cell_type": "code",
   "execution_count": 10,
   "id": "fee2649b",
   "metadata": {},
   "outputs": [],
   "source": [
    "# Identify the department_ids that correspond to non-vegan products\n",
    "non_vegan_dept_ids = [12, 16]"
   ]
  },
  {
   "cell_type": "code",
   "execution_count": 11,
   "id": "2ed72e75",
   "metadata": {
    "scrolled": true
   },
   "outputs": [],
   "source": [
    "# Calculate the total number of non-vegan products each user has purchased:\n",
    "crosstab_dep_user_cross['non_vegan_count'] = crosstab_dep_user_cross[non_vegan_dept_ids].sum(axis=1)"
   ]
  },
  {
   "cell_type": "code",
   "execution_count": 12,
   "id": "d0473b43",
   "metadata": {},
   "outputs": [],
   "source": [
    "# Classify each user_id as either \"vegan\" or \"non-vegan\" based on their non-vegan product count\n",
    "crosstab_dep_user_cross.loc[crosstab_dep_user_cross['non_vegan_count'] == 0, 'veganism_group'] = 'vegan'\n",
    "crosstab_dep_user_cross.loc[crosstab_dep_user_cross['non_vegan_count'] > 0, 'veganism_group'] = 'non-vegan'"
   ]
  },
  {
   "cell_type": "code",
   "execution_count": 33,
   "id": "a8d7f018",
   "metadata": {
    "scrolled": true
   },
   "outputs": [
    {
     "data": {
      "text/html": [
       "<div>\n",
       "<style scoped>\n",
       "    .dataframe tbody tr th:only-of-type {\n",
       "        vertical-align: middle;\n",
       "    }\n",
       "\n",
       "    .dataframe tbody tr th {\n",
       "        vertical-align: top;\n",
       "    }\n",
       "\n",
       "    .dataframe thead th {\n",
       "        text-align: right;\n",
       "    }\n",
       "</style>\n",
       "<table border=\"1\" class=\"dataframe\">\n",
       "  <thead>\n",
       "    <tr style=\"text-align: right;\">\n",
       "      <th>department_id</th>\n",
       "      <th>1</th>\n",
       "      <th>2</th>\n",
       "      <th>3</th>\n",
       "      <th>4</th>\n",
       "      <th>5</th>\n",
       "      <th>6</th>\n",
       "      <th>7</th>\n",
       "      <th>8</th>\n",
       "      <th>9</th>\n",
       "      <th>10</th>\n",
       "      <th>...</th>\n",
       "      <th>14</th>\n",
       "      <th>15</th>\n",
       "      <th>16</th>\n",
       "      <th>17</th>\n",
       "      <th>18</th>\n",
       "      <th>19</th>\n",
       "      <th>20</th>\n",
       "      <th>21</th>\n",
       "      <th>non_vegan_count</th>\n",
       "      <th>veganism_group</th>\n",
       "    </tr>\n",
       "    <tr>\n",
       "      <th>user_id</th>\n",
       "      <th></th>\n",
       "      <th></th>\n",
       "      <th></th>\n",
       "      <th></th>\n",
       "      <th></th>\n",
       "      <th></th>\n",
       "      <th></th>\n",
       "      <th></th>\n",
       "      <th></th>\n",
       "      <th></th>\n",
       "      <th></th>\n",
       "      <th></th>\n",
       "      <th></th>\n",
       "      <th></th>\n",
       "      <th></th>\n",
       "      <th></th>\n",
       "      <th></th>\n",
       "      <th></th>\n",
       "      <th></th>\n",
       "      <th></th>\n",
       "      <th></th>\n",
       "    </tr>\n",
       "  </thead>\n",
       "  <tbody>\n",
       "    <tr>\n",
       "      <th>1</th>\n",
       "      <td>0</td>\n",
       "      <td>0</td>\n",
       "      <td>0</td>\n",
       "      <td>5</td>\n",
       "      <td>0</td>\n",
       "      <td>0</td>\n",
       "      <td>13</td>\n",
       "      <td>0</td>\n",
       "      <td>0</td>\n",
       "      <td>0</td>\n",
       "      <td>...</td>\n",
       "      <td>3</td>\n",
       "      <td>0</td>\n",
       "      <td>13</td>\n",
       "      <td>2</td>\n",
       "      <td>0</td>\n",
       "      <td>22</td>\n",
       "      <td>0</td>\n",
       "      <td>0</td>\n",
       "      <td>13</td>\n",
       "      <td>non-vegan</td>\n",
       "    </tr>\n",
       "    <tr>\n",
       "      <th>10</th>\n",
       "      <td>1</td>\n",
       "      <td>0</td>\n",
       "      <td>0</td>\n",
       "      <td>72</td>\n",
       "      <td>0</td>\n",
       "      <td>1</td>\n",
       "      <td>0</td>\n",
       "      <td>0</td>\n",
       "      <td>0</td>\n",
       "      <td>0</td>\n",
       "      <td>...</td>\n",
       "      <td>0</td>\n",
       "      <td>2</td>\n",
       "      <td>16</td>\n",
       "      <td>0</td>\n",
       "      <td>0</td>\n",
       "      <td>1</td>\n",
       "      <td>15</td>\n",
       "      <td>0</td>\n",
       "      <td>29</td>\n",
       "      <td>non-vegan</td>\n",
       "    </tr>\n",
       "    <tr>\n",
       "      <th>100</th>\n",
       "      <td>3</td>\n",
       "      <td>0</td>\n",
       "      <td>2</td>\n",
       "      <td>10</td>\n",
       "      <td>0</td>\n",
       "      <td>0</td>\n",
       "      <td>0</td>\n",
       "      <td>0</td>\n",
       "      <td>0</td>\n",
       "      <td>0</td>\n",
       "      <td>...</td>\n",
       "      <td>0</td>\n",
       "      <td>0</td>\n",
       "      <td>2</td>\n",
       "      <td>0</td>\n",
       "      <td>0</td>\n",
       "      <td>2</td>\n",
       "      <td>5</td>\n",
       "      <td>0</td>\n",
       "      <td>5</td>\n",
       "      <td>non-vegan</td>\n",
       "    </tr>\n",
       "    <tr>\n",
       "      <th>1000</th>\n",
       "      <td>5</td>\n",
       "      <td>0</td>\n",
       "      <td>1</td>\n",
       "      <td>34</td>\n",
       "      <td>0</td>\n",
       "      <td>0</td>\n",
       "      <td>19</td>\n",
       "      <td>0</td>\n",
       "      <td>0</td>\n",
       "      <td>0</td>\n",
       "      <td>...</td>\n",
       "      <td>0</td>\n",
       "      <td>4</td>\n",
       "      <td>32</td>\n",
       "      <td>0</td>\n",
       "      <td>0</td>\n",
       "      <td>2</td>\n",
       "      <td>3</td>\n",
       "      <td>2</td>\n",
       "      <td>32</td>\n",
       "      <td>non-vegan</td>\n",
       "    </tr>\n",
       "    <tr>\n",
       "      <th>10000</th>\n",
       "      <td>56</td>\n",
       "      <td>0</td>\n",
       "      <td>56</td>\n",
       "      <td>340</td>\n",
       "      <td>0</td>\n",
       "      <td>2</td>\n",
       "      <td>36</td>\n",
       "      <td>0</td>\n",
       "      <td>38</td>\n",
       "      <td>1</td>\n",
       "      <td>...</td>\n",
       "      <td>13</td>\n",
       "      <td>23</td>\n",
       "      <td>231</td>\n",
       "      <td>18</td>\n",
       "      <td>0</td>\n",
       "      <td>61</td>\n",
       "      <td>47</td>\n",
       "      <td>0</td>\n",
       "      <td>287</td>\n",
       "      <td>non-vegan</td>\n",
       "    </tr>\n",
       "    <tr>\n",
       "      <th>100000</th>\n",
       "      <td>0</td>\n",
       "      <td>0</td>\n",
       "      <td>8</td>\n",
       "      <td>51</td>\n",
       "      <td>2</td>\n",
       "      <td>1</td>\n",
       "      <td>1</td>\n",
       "      <td>0</td>\n",
       "      <td>1</td>\n",
       "      <td>0</td>\n",
       "      <td>...</td>\n",
       "      <td>1</td>\n",
       "      <td>0</td>\n",
       "      <td>16</td>\n",
       "      <td>0</td>\n",
       "      <td>0</td>\n",
       "      <td>5</td>\n",
       "      <td>2</td>\n",
       "      <td>0</td>\n",
       "      <td>32</td>\n",
       "      <td>non-vegan</td>\n",
       "    </tr>\n",
       "    <tr>\n",
       "      <th>100001</th>\n",
       "      <td>16</td>\n",
       "      <td>0</td>\n",
       "      <td>17</td>\n",
       "      <td>393</td>\n",
       "      <td>0</td>\n",
       "      <td>24</td>\n",
       "      <td>55</td>\n",
       "      <td>0</td>\n",
       "      <td>9</td>\n",
       "      <td>0</td>\n",
       "      <td>...</td>\n",
       "      <td>8</td>\n",
       "      <td>28</td>\n",
       "      <td>130</td>\n",
       "      <td>0</td>\n",
       "      <td>1</td>\n",
       "      <td>45</td>\n",
       "      <td>3</td>\n",
       "      <td>0</td>\n",
       "      <td>140</td>\n",
       "      <td>non-vegan</td>\n",
       "    </tr>\n",
       "    <tr>\n",
       "      <th>100002</th>\n",
       "      <td>7</td>\n",
       "      <td>0</td>\n",
       "      <td>1</td>\n",
       "      <td>0</td>\n",
       "      <td>0</td>\n",
       "      <td>0</td>\n",
       "      <td>2</td>\n",
       "      <td>0</td>\n",
       "      <td>0</td>\n",
       "      <td>0</td>\n",
       "      <td>...</td>\n",
       "      <td>4</td>\n",
       "      <td>5</td>\n",
       "      <td>21</td>\n",
       "      <td>0</td>\n",
       "      <td>0</td>\n",
       "      <td>5</td>\n",
       "      <td>1</td>\n",
       "      <td>0</td>\n",
       "      <td>21</td>\n",
       "      <td>non-vegan</td>\n",
       "    </tr>\n",
       "    <tr>\n",
       "      <th>100004</th>\n",
       "      <td>0</td>\n",
       "      <td>0</td>\n",
       "      <td>0</td>\n",
       "      <td>0</td>\n",
       "      <td>0</td>\n",
       "      <td>0</td>\n",
       "      <td>14</td>\n",
       "      <td>0</td>\n",
       "      <td>4</td>\n",
       "      <td>0</td>\n",
       "      <td>...</td>\n",
       "      <td>0</td>\n",
       "      <td>0</td>\n",
       "      <td>0</td>\n",
       "      <td>1</td>\n",
       "      <td>17</td>\n",
       "      <td>5</td>\n",
       "      <td>1</td>\n",
       "      <td>0</td>\n",
       "      <td>0</td>\n",
       "      <td>vegan</td>\n",
       "    </tr>\n",
       "    <tr>\n",
       "      <th>100005</th>\n",
       "      <td>12</td>\n",
       "      <td>0</td>\n",
       "      <td>2</td>\n",
       "      <td>14</td>\n",
       "      <td>0</td>\n",
       "      <td>3</td>\n",
       "      <td>15</td>\n",
       "      <td>3</td>\n",
       "      <td>8</td>\n",
       "      <td>0</td>\n",
       "      <td>...</td>\n",
       "      <td>3</td>\n",
       "      <td>1</td>\n",
       "      <td>12</td>\n",
       "      <td>25</td>\n",
       "      <td>0</td>\n",
       "      <td>14</td>\n",
       "      <td>0</td>\n",
       "      <td>0</td>\n",
       "      <td>12</td>\n",
       "      <td>non-vegan</td>\n",
       "    </tr>\n",
       "  </tbody>\n",
       "</table>\n",
       "<p>10 rows × 23 columns</p>\n",
       "</div>"
      ],
      "text/plain": [
       "department_id   1  2   3    4  5   6   7  8   9  10  ...  14  15   16  17  18  \\\n",
       "user_id                                              ...                        \n",
       "1               0  0   0    5  0   0  13  0   0   0  ...   3   0   13   2   0   \n",
       "10              1  0   0   72  0   1   0  0   0   0  ...   0   2   16   0   0   \n",
       "100             3  0   2   10  0   0   0  0   0   0  ...   0   0    2   0   0   \n",
       "1000            5  0   1   34  0   0  19  0   0   0  ...   0   4   32   0   0   \n",
       "10000          56  0  56  340  0   2  36  0  38   1  ...  13  23  231  18   0   \n",
       "100000          0  0   8   51  2   1   1  0   1   0  ...   1   0   16   0   0   \n",
       "100001         16  0  17  393  0  24  55  0   9   0  ...   8  28  130   0   1   \n",
       "100002          7  0   1    0  0   0   2  0   0   0  ...   4   5   21   0   0   \n",
       "100004          0  0   0    0  0   0  14  0   4   0  ...   0   0    0   1  17   \n",
       "100005         12  0   2   14  0   3  15  3   8   0  ...   3   1   12  25   0   \n",
       "\n",
       "department_id  19  20  21  non_vegan_count  veganism_group  \n",
       "user_id                                                     \n",
       "1              22   0   0               13       non-vegan  \n",
       "10              1  15   0               29       non-vegan  \n",
       "100             2   5   0                5       non-vegan  \n",
       "1000            2   3   2               32       non-vegan  \n",
       "10000          61  47   0              287       non-vegan  \n",
       "100000          5   2   0               32       non-vegan  \n",
       "100001         45   3   0              140       non-vegan  \n",
       "100002          5   1   0               21       non-vegan  \n",
       "100004          5   1   0                0           vegan  \n",
       "100005         14   0   0               12       non-vegan  \n",
       "\n",
       "[10 rows x 23 columns]"
      ]
     },
     "execution_count": 33,
     "metadata": {},
     "output_type": "execute_result"
    }
   ],
   "source": [
    "crosstab_dep_user_cross.head(10)"
   ]
  },
  {
   "cell_type": "code",
   "execution_count": 13,
   "id": "cbc5a457",
   "metadata": {},
   "outputs": [],
   "source": [
    "# Merge the \"veganism_group\" classification back into the original DataFrame\n",
    "df_ic_active = pd.merge(df_ic_active_cus, crosstab_dep_user_cross['veganism_group'], on='user_id', how='left')"
   ]
  },
  {
   "cell_type": "code",
   "execution_count": 15,
   "id": "259955b0",
   "metadata": {},
   "outputs": [
    {
     "data": {
      "text/plain": [
       "non-vegan    30654568\n",
       "vegan          309996\n",
       "Name: veganism_group, dtype: int64"
      ]
     },
     "execution_count": 15,
     "metadata": {},
     "output_type": "execute_result"
    }
   ],
   "source": [
    "# Check frequency distribution\n",
    "df_ic_active.veganism_group.value_counts(dropna = False)"
   ]
  },
  {
   "cell_type": "markdown",
   "id": "4af9ae9a",
   "metadata": {},
   "source": [
    "### d. Family Size\n"
   ]
  },
  {
   "cell_type": "code",
   "execution_count": 39,
   "id": "f327efc1",
   "metadata": {},
   "outputs": [
    {
     "data": {
      "text/html": [
       "<div>\n",
       "<style scoped>\n",
       "    .dataframe tbody tr th:only-of-type {\n",
       "        vertical-align: middle;\n",
       "    }\n",
       "\n",
       "    .dataframe tbody tr th {\n",
       "        vertical-align: top;\n",
       "    }\n",
       "\n",
       "    .dataframe thead th {\n",
       "        text-align: right;\n",
       "    }\n",
       "</style>\n",
       "<table border=\"1\" class=\"dataframe\">\n",
       "  <thead>\n",
       "    <tr style=\"text-align: right;\">\n",
       "      <th></th>\n",
       "      <th>order_id</th>\n",
       "      <th>user_id</th>\n",
       "      <th>eval_set</th>\n",
       "      <th>order_number</th>\n",
       "      <th>order_day_of_week</th>\n",
       "      <th>order_hour_of_day</th>\n",
       "      <th>days_since_prior_order</th>\n",
       "      <th>product_id</th>\n",
       "      <th>add_to_cart_order</th>\n",
       "      <th>reordered</th>\n",
       "      <th>...</th>\n",
       "      <th>state</th>\n",
       "      <th>age</th>\n",
       "      <th>date_joined</th>\n",
       "      <th>number_of_dependants</th>\n",
       "      <th>fam_status</th>\n",
       "      <th>income</th>\n",
       "      <th>True</th>\n",
       "      <th>region</th>\n",
       "      <th>exclusion</th>\n",
       "      <th>veganism_group</th>\n",
       "    </tr>\n",
       "  </thead>\n",
       "  <tbody>\n",
       "    <tr>\n",
       "      <th>0</th>\n",
       "      <td>2539329</td>\n",
       "      <td>1</td>\n",
       "      <td>prior</td>\n",
       "      <td>1</td>\n",
       "      <td>2</td>\n",
       "      <td>8</td>\n",
       "      <td>NaN</td>\n",
       "      <td>196</td>\n",
       "      <td>1</td>\n",
       "      <td>0</td>\n",
       "      <td>...</td>\n",
       "      <td>Alabama</td>\n",
       "      <td>31</td>\n",
       "      <td>2/17/2019</td>\n",
       "      <td>3</td>\n",
       "      <td>married</td>\n",
       "      <td>40423</td>\n",
       "      <td>both</td>\n",
       "      <td>South</td>\n",
       "      <td>active</td>\n",
       "      <td>non-vegan</td>\n",
       "    </tr>\n",
       "    <tr>\n",
       "      <th>1</th>\n",
       "      <td>2398795</td>\n",
       "      <td>1</td>\n",
       "      <td>prior</td>\n",
       "      <td>2</td>\n",
       "      <td>3</td>\n",
       "      <td>7</td>\n",
       "      <td>15.0</td>\n",
       "      <td>196</td>\n",
       "      <td>1</td>\n",
       "      <td>1</td>\n",
       "      <td>...</td>\n",
       "      <td>Alabama</td>\n",
       "      <td>31</td>\n",
       "      <td>2/17/2019</td>\n",
       "      <td>3</td>\n",
       "      <td>married</td>\n",
       "      <td>40423</td>\n",
       "      <td>both</td>\n",
       "      <td>South</td>\n",
       "      <td>active</td>\n",
       "      <td>non-vegan</td>\n",
       "    </tr>\n",
       "    <tr>\n",
       "      <th>2</th>\n",
       "      <td>473747</td>\n",
       "      <td>1</td>\n",
       "      <td>prior</td>\n",
       "      <td>3</td>\n",
       "      <td>3</td>\n",
       "      <td>12</td>\n",
       "      <td>21.0</td>\n",
       "      <td>196</td>\n",
       "      <td>1</td>\n",
       "      <td>1</td>\n",
       "      <td>...</td>\n",
       "      <td>Alabama</td>\n",
       "      <td>31</td>\n",
       "      <td>2/17/2019</td>\n",
       "      <td>3</td>\n",
       "      <td>married</td>\n",
       "      <td>40423</td>\n",
       "      <td>both</td>\n",
       "      <td>South</td>\n",
       "      <td>active</td>\n",
       "      <td>non-vegan</td>\n",
       "    </tr>\n",
       "    <tr>\n",
       "      <th>3</th>\n",
       "      <td>2254736</td>\n",
       "      <td>1</td>\n",
       "      <td>prior</td>\n",
       "      <td>4</td>\n",
       "      <td>4</td>\n",
       "      <td>7</td>\n",
       "      <td>29.0</td>\n",
       "      <td>196</td>\n",
       "      <td>1</td>\n",
       "      <td>1</td>\n",
       "      <td>...</td>\n",
       "      <td>Alabama</td>\n",
       "      <td>31</td>\n",
       "      <td>2/17/2019</td>\n",
       "      <td>3</td>\n",
       "      <td>married</td>\n",
       "      <td>40423</td>\n",
       "      <td>both</td>\n",
       "      <td>South</td>\n",
       "      <td>active</td>\n",
       "      <td>non-vegan</td>\n",
       "    </tr>\n",
       "    <tr>\n",
       "      <th>4</th>\n",
       "      <td>431534</td>\n",
       "      <td>1</td>\n",
       "      <td>prior</td>\n",
       "      <td>5</td>\n",
       "      <td>4</td>\n",
       "      <td>15</td>\n",
       "      <td>28.0</td>\n",
       "      <td>196</td>\n",
       "      <td>1</td>\n",
       "      <td>1</td>\n",
       "      <td>...</td>\n",
       "      <td>Alabama</td>\n",
       "      <td>31</td>\n",
       "      <td>2/17/2019</td>\n",
       "      <td>3</td>\n",
       "      <td>married</td>\n",
       "      <td>40423</td>\n",
       "      <td>both</td>\n",
       "      <td>South</td>\n",
       "      <td>active</td>\n",
       "      <td>non-vegan</td>\n",
       "    </tr>\n",
       "  </tbody>\n",
       "</table>\n",
       "<p>5 rows × 37 columns</p>\n",
       "</div>"
      ],
      "text/plain": [
       "   order_id user_id eval_set  order_number  order_day_of_week  \\\n",
       "0   2539329       1    prior             1                  2   \n",
       "1   2398795       1    prior             2                  3   \n",
       "2    473747       1    prior             3                  3   \n",
       "3   2254736       1    prior             4                  4   \n",
       "4    431534       1    prior             5                  4   \n",
       "\n",
       "   order_hour_of_day  days_since_prior_order  product_id  add_to_cart_order  \\\n",
       "0                  8                     NaN         196                  1   \n",
       "1                  7                    15.0         196                  1   \n",
       "2                 12                    21.0         196                  1   \n",
       "3                  7                    29.0         196                  1   \n",
       "4                 15                    28.0         196                  1   \n",
       "\n",
       "   reordered  ...    state age  date_joined  number_of_dependants  fam_status  \\\n",
       "0          0  ...  Alabama  31    2/17/2019                     3     married   \n",
       "1          1  ...  Alabama  31    2/17/2019                     3     married   \n",
       "2          1  ...  Alabama  31    2/17/2019                     3     married   \n",
       "3          1  ...  Alabama  31    2/17/2019                     3     married   \n",
       "4          1  ...  Alabama  31    2/17/2019                     3     married   \n",
       "\n",
       "  income  True region exclusion veganism_group  \n",
       "0  40423  both  South    active      non-vegan  \n",
       "1  40423  both  South    active      non-vegan  \n",
       "2  40423  both  South    active      non-vegan  \n",
       "3  40423  both  South    active      non-vegan  \n",
       "4  40423  both  South    active      non-vegan  \n",
       "\n",
       "[5 rows x 37 columns]"
      ]
     },
     "execution_count": 39,
     "metadata": {},
     "output_type": "execute_result"
    }
   ],
   "source": [
    "df_ic_active.head()"
   ]
  },
  {
   "cell_type": "code",
   "execution_count": 16,
   "id": "cffe3fed",
   "metadata": {},
   "outputs": [
    {
     "data": {
      "text/plain": [
       "married                             21743711\n",
       "single                               5094410\n",
       "divorced/widowed                     2645271\n",
       "living with parents and siblings     1481172\n",
       "Name: fam_status, dtype: int64"
      ]
     },
     "execution_count": 16,
     "metadata": {},
     "output_type": "execute_result"
    }
   ],
   "source": [
    "# Check frequency distribution\n",
    "df_ic_active.fam_status.value_counts(dropna = False)"
   ]
  },
  {
   "cell_type": "code",
   "execution_count": 14,
   "id": "93f66ddc",
   "metadata": {},
   "outputs": [],
   "source": [
    "# Create family_size classification\n",
    "def classify_customer(row):\n",
    "    if row['fam_status'] == 'married' and row['number_of_dependants'] == 0:\n",
    "        return 'married, no children'\n",
    "    elif row['fam_status'] == 'single' and row['number_of_dependants'] == 0:\n",
    "        return 'single, no children'\n",
    "    elif row['fam_status'] == 'married' and row['number_of_dependants'] > 0:\n",
    "        return 'married with children'\n",
    "    elif row['fam_status'] == 'single' and row['number_of_dependants'] > 0:\n",
    "        return 'single with children'\n",
    "    elif row['fam_status'] == 'divorced/widowed' and row['number_of_dependants'] == 0:\n",
    "        return 'divorced/widowed, no children'\n",
    "    elif row['fam_status'] == 'divorced/widowed' and row['number_of_dependants'] > 0:\n",
    "        return 'divorced/widowed with children'\n",
    "    else:\n",
    "        return 'unknown'\n"
   ]
  },
  {
   "cell_type": "code",
   "execution_count": 15,
   "id": "0bb4c68b",
   "metadata": {},
   "outputs": [],
   "source": [
    "# apply the function to each row of the dataframe df_ic_active\n",
    "df_ic_active['family_size'] = df_ic_active.apply(classify_customer, axis=1)"
   ]
  },
  {
   "cell_type": "code",
   "execution_count": 16,
   "id": "53a910ba",
   "metadata": {},
   "outputs": [
    {
     "data": {
      "text/html": [
       "<div>\n",
       "<style scoped>\n",
       "    .dataframe tbody tr th:only-of-type {\n",
       "        vertical-align: middle;\n",
       "    }\n",
       "\n",
       "    .dataframe tbody tr th {\n",
       "        vertical-align: top;\n",
       "    }\n",
       "\n",
       "    .dataframe thead th {\n",
       "        text-align: right;\n",
       "    }\n",
       "</style>\n",
       "<table border=\"1\" class=\"dataframe\">\n",
       "  <thead>\n",
       "    <tr style=\"text-align: right;\">\n",
       "      <th></th>\n",
       "      <th>order_id</th>\n",
       "      <th>user_id</th>\n",
       "      <th>eval_set</th>\n",
       "      <th>order_number</th>\n",
       "      <th>order_day_of_week</th>\n",
       "      <th>order_hour_of_day</th>\n",
       "      <th>days_since_prior_order</th>\n",
       "      <th>product_id</th>\n",
       "      <th>add_to_cart_order</th>\n",
       "      <th>reordered</th>\n",
       "      <th>...</th>\n",
       "      <th>number_of_dependants</th>\n",
       "      <th>fam_status</th>\n",
       "      <th>income</th>\n",
       "      <th>True</th>\n",
       "      <th>region</th>\n",
       "      <th>exclusion</th>\n",
       "      <th>age_group</th>\n",
       "      <th>income_group</th>\n",
       "      <th>veganism_group</th>\n",
       "      <th>family_size</th>\n",
       "    </tr>\n",
       "  </thead>\n",
       "  <tbody>\n",
       "    <tr>\n",
       "      <th>0</th>\n",
       "      <td>2539329</td>\n",
       "      <td>1</td>\n",
       "      <td>prior</td>\n",
       "      <td>1</td>\n",
       "      <td>2</td>\n",
       "      <td>8</td>\n",
       "      <td>NaN</td>\n",
       "      <td>196</td>\n",
       "      <td>1</td>\n",
       "      <td>0</td>\n",
       "      <td>...</td>\n",
       "      <td>3</td>\n",
       "      <td>married</td>\n",
       "      <td>40423</td>\n",
       "      <td>both</td>\n",
       "      <td>South</td>\n",
       "      <td>active</td>\n",
       "      <td>Mid-aged</td>\n",
       "      <td>Low income</td>\n",
       "      <td>non-vegan</td>\n",
       "      <td>married with children</td>\n",
       "    </tr>\n",
       "    <tr>\n",
       "      <th>1</th>\n",
       "      <td>2398795</td>\n",
       "      <td>1</td>\n",
       "      <td>prior</td>\n",
       "      <td>2</td>\n",
       "      <td>3</td>\n",
       "      <td>7</td>\n",
       "      <td>15.0</td>\n",
       "      <td>196</td>\n",
       "      <td>1</td>\n",
       "      <td>1</td>\n",
       "      <td>...</td>\n",
       "      <td>3</td>\n",
       "      <td>married</td>\n",
       "      <td>40423</td>\n",
       "      <td>both</td>\n",
       "      <td>South</td>\n",
       "      <td>active</td>\n",
       "      <td>Mid-aged</td>\n",
       "      <td>Low income</td>\n",
       "      <td>non-vegan</td>\n",
       "      <td>married with children</td>\n",
       "    </tr>\n",
       "    <tr>\n",
       "      <th>2</th>\n",
       "      <td>473747</td>\n",
       "      <td>1</td>\n",
       "      <td>prior</td>\n",
       "      <td>3</td>\n",
       "      <td>3</td>\n",
       "      <td>12</td>\n",
       "      <td>21.0</td>\n",
       "      <td>196</td>\n",
       "      <td>1</td>\n",
       "      <td>1</td>\n",
       "      <td>...</td>\n",
       "      <td>3</td>\n",
       "      <td>married</td>\n",
       "      <td>40423</td>\n",
       "      <td>both</td>\n",
       "      <td>South</td>\n",
       "      <td>active</td>\n",
       "      <td>Mid-aged</td>\n",
       "      <td>Low income</td>\n",
       "      <td>non-vegan</td>\n",
       "      <td>married with children</td>\n",
       "    </tr>\n",
       "    <tr>\n",
       "      <th>3</th>\n",
       "      <td>2254736</td>\n",
       "      <td>1</td>\n",
       "      <td>prior</td>\n",
       "      <td>4</td>\n",
       "      <td>4</td>\n",
       "      <td>7</td>\n",
       "      <td>29.0</td>\n",
       "      <td>196</td>\n",
       "      <td>1</td>\n",
       "      <td>1</td>\n",
       "      <td>...</td>\n",
       "      <td>3</td>\n",
       "      <td>married</td>\n",
       "      <td>40423</td>\n",
       "      <td>both</td>\n",
       "      <td>South</td>\n",
       "      <td>active</td>\n",
       "      <td>Mid-aged</td>\n",
       "      <td>Low income</td>\n",
       "      <td>non-vegan</td>\n",
       "      <td>married with children</td>\n",
       "    </tr>\n",
       "    <tr>\n",
       "      <th>4</th>\n",
       "      <td>431534</td>\n",
       "      <td>1</td>\n",
       "      <td>prior</td>\n",
       "      <td>5</td>\n",
       "      <td>4</td>\n",
       "      <td>15</td>\n",
       "      <td>28.0</td>\n",
       "      <td>196</td>\n",
       "      <td>1</td>\n",
       "      <td>1</td>\n",
       "      <td>...</td>\n",
       "      <td>3</td>\n",
       "      <td>married</td>\n",
       "      <td>40423</td>\n",
       "      <td>both</td>\n",
       "      <td>South</td>\n",
       "      <td>active</td>\n",
       "      <td>Mid-aged</td>\n",
       "      <td>Low income</td>\n",
       "      <td>non-vegan</td>\n",
       "      <td>married with children</td>\n",
       "    </tr>\n",
       "  </tbody>\n",
       "</table>\n",
       "<p>5 rows × 40 columns</p>\n",
       "</div>"
      ],
      "text/plain": [
       "   order_id user_id eval_set  order_number  order_day_of_week  \\\n",
       "0   2539329       1    prior             1                  2   \n",
       "1   2398795       1    prior             2                  3   \n",
       "2    473747       1    prior             3                  3   \n",
       "3   2254736       1    prior             4                  4   \n",
       "4    431534       1    prior             5                  4   \n",
       "\n",
       "   order_hour_of_day  days_since_prior_order  product_id  add_to_cart_order  \\\n",
       "0                  8                     NaN         196                  1   \n",
       "1                  7                    15.0         196                  1   \n",
       "2                 12                    21.0         196                  1   \n",
       "3                  7                    29.0         196                  1   \n",
       "4                 15                    28.0         196                  1   \n",
       "\n",
       "   reordered  ...  number_of_dependants fam_status  income  True  region  \\\n",
       "0          0  ...                     3    married   40423  both   South   \n",
       "1          1  ...                     3    married   40423  both   South   \n",
       "2          1  ...                     3    married   40423  both   South   \n",
       "3          1  ...                     3    married   40423  both   South   \n",
       "4          1  ...                     3    married   40423  both   South   \n",
       "\n",
       "  exclusion age_group income_group veganism_group            family_size  \n",
       "0    active  Mid-aged   Low income      non-vegan  married with children  \n",
       "1    active  Mid-aged   Low income      non-vegan  married with children  \n",
       "2    active  Mid-aged   Low income      non-vegan  married with children  \n",
       "3    active  Mid-aged   Low income      non-vegan  married with children  \n",
       "4    active  Mid-aged   Low income      non-vegan  married with children  \n",
       "\n",
       "[5 rows x 40 columns]"
      ]
     },
     "execution_count": 16,
     "metadata": {},
     "output_type": "execute_result"
    }
   ],
   "source": [
    "# Check output\n",
    "df_ic_active.head()"
   ]
  },
  {
   "cell_type": "code",
   "execution_count": 17,
   "id": "c8ca720c",
   "metadata": {},
   "outputs": [
    {
     "data": {
      "text/plain": [
       "married with children            21743711\n",
       "single, no children               5094410\n",
       "divorced/widowed, no children     2645271\n",
       "unknown                           1481172\n",
       "Name: family_size, dtype: int64"
      ]
     },
     "execution_count": 17,
     "metadata": {},
     "output_type": "execute_result"
    }
   ],
   "source": [
    "# Check frequency distribution\n",
    "df_ic_active.family_size.value_counts(dropna = False)"
   ]
  },
  {
   "cell_type": "code",
   "execution_count": 18,
   "id": "ae478f14",
   "metadata": {},
   "outputs": [],
   "source": [
    "# Export Data\n",
    "df_ic_active.to_pickle(os.path.join(path, '02 Data', 'Prepared Data', 'active_customer_profiles.pkl'))"
   ]
  },
  {
   "cell_type": "markdown",
   "id": "64738d2c",
   "metadata": {},
   "source": [
    "### Step 6: Profile Visualizations"
   ]
  },
  {
   "cell_type": "markdown",
   "id": "84c9ba52",
   "metadata": {},
   "source": [
    "### a. Age groups"
   ]
  },
  {
   "cell_type": "code",
   "execution_count": 49,
   "id": "beff9852",
   "metadata": {
    "scrolled": true
   },
   "outputs": [
    {
     "data": {
      "image/png": "[encoded data removed]",
      "text/plain": [
       "<Figure size 640x480 with 1 Axes>"
      ]
     },
     "metadata": {},
     "output_type": "display_data"
    }
   ],
   "source": [
    "# Create the bar plot and set the colors based on the age group\n",
    "age_group_bar = df_ic_active['age_group'].value_counts().plot.bar(rot=0, color=['orange', 'red', 'green'])"
   ]
  },
  {
   "cell_type": "code",
   "execution_count": 50,
   "id": "d75feeb2",
   "metadata": {},
   "outputs": [
    {
     "data": {
      "text/plain": [
       "Text(0.5, 1.0, 'Age Groups of Customers')"
      ]
     },
     "execution_count": 50,
     "metadata": {},
     "output_type": "execute_result"
    }
   ],
   "source": [
    "# Set the title of the chart\n",
    "age_group_bar.set_title('Age Groups of Customers')"
   ]
  },
  {
   "cell_type": "code",
   "execution_count": 51,
   "id": "518e9f2e",
   "metadata": {},
   "outputs": [],
   "source": [
    "# Exporting the viz\n",
    "age_group_bar.figure.savefig(os.path.join(path, '04 Analysis', 'Visualizations', 'age_group_bar.png'))"
   ]
  },
  {
   "cell_type": "markdown",
   "id": "fefb41e5",
   "metadata": {},
   "source": [
    "### b. Income groups"
   ]
  },
  {
   "cell_type": "code",
   "execution_count": 42,
   "id": "633312e6",
   "metadata": {},
   "outputs": [
    {
     "data": {
      "image/png": "[encoded data removed]",
      "text/plain": [
       "<Figure size 640x480 with 1 Axes>"
      ]
     },
     "metadata": {},
     "output_type": "display_data"
    }
   ],
   "source": [
    "# Create the bar plot and set the colors based on the income group\n",
    "income_group_bar = df_ic_active['income_group'].value_counts().plot.bar(rot=0, color=['green'])"
   ]
  },
  {
   "cell_type": "code",
   "execution_count": 43,
   "id": "74bb2e8b",
   "metadata": {},
   "outputs": [
    {
     "data": {
      "text/plain": [
       "Text(0.5, 1.0, 'Income Groups of Customers')"
      ]
     },
     "execution_count": 43,
     "metadata": {},
     "output_type": "execute_result"
    }
   ],
   "source": [
    "# Set the title of the chart\n",
    "income_group_bar.set_title('Income Groups of Customers')"
   ]
  },
  {
   "cell_type": "code",
   "execution_count": 44,
   "id": "c7694317",
   "metadata": {},
   "outputs": [],
   "source": [
    "# Exporting the viz\n",
    "\n",
    "income_group_bar.figure.savefig(os.path.join(path, '04 Analysis', 'Visualizations', 'income_group_bar.png'))"
   ]
  },
  {
   "cell_type": "markdown",
   "id": "4f6a323f",
   "metadata": {},
   "source": [
    "### c. Veganism"
   ]
  },
  {
   "cell_type": "code",
   "execution_count": 54,
   "id": "ed1aed06",
   "metadata": {
    "scrolled": true
   },
   "outputs": [
    {
     "data": {
      "image/png": "[encoded data removed]",
      "text/plain": [
       "<Figure size 640x480 with 1 Axes>"
      ]
     },
     "metadata": {},
     "output_type": "display_data"
    }
   ],
   "source": [
    "# create income_group bar chart\n",
    "veganism_group_bar = df_ic_active['veganism_group'].value_counts().plot.bar(rot=0, color=['green'])"
   ]
  },
  {
   "cell_type": "code",
   "execution_count": 57,
   "id": "148e6d14",
   "metadata": {},
   "outputs": [
    {
     "data": {
      "text/plain": [
       "Text(0.5, 1.0, 'Veganism Groups of Customers')"
      ]
     },
     "execution_count": 57,
     "metadata": {},
     "output_type": "execute_result"
    }
   ],
   "source": [
    "# Set the title of the chart\n",
    "veganism_group_bar.set_title('Veganism Groups of Customers')"
   ]
  },
  {
   "cell_type": "code",
   "execution_count": 58,
   "id": "c4d438ce",
   "metadata": {},
   "outputs": [],
   "source": [
    "# Exporting the viz\n",
    "\n",
    "veganism_group_bar.figure.savefig(os.path.join(path, '04 Analysis', 'Visualizations', 'veganism_group_bar.png'))"
   ]
  },
  {
   "cell_type": "markdown",
   "id": "087822de",
   "metadata": {},
   "source": [
    "### d. Family Size"
   ]
  },
  {
   "cell_type": "code",
   "execution_count": 125,
   "id": "6a9bd311",
   "metadata": {
    "scrolled": true
   },
   "outputs": [
    {
     "data": {
      "image/png": "[encoded data removed]",
      "text/plain": [
       "<Figure size 640x480 with 1 Axes>"
      ]
     },
     "metadata": {},
     "output_type": "display_data"
    }
   ],
   "source": [
    "# create family_size bar chart\n",
    "\n",
    "family_size_bar = df_ic_active['family_size'].value_counts().plot.bar()"
   ]
  },
  {
   "cell_type": "code",
   "execution_count": 60,
   "id": "5eabe66a",
   "metadata": {},
   "outputs": [
    {
     "data": {
      "text/plain": [
       "Text(0.5, 1.0, 'Family Sizes of Customers')"
      ]
     },
     "execution_count": 60,
     "metadata": {},
     "output_type": "execute_result"
    }
   ],
   "source": [
    "# Set the title of the chart\n",
    "family_size_bar.set_title('Family Sizes of Customers')"
   ]
  },
  {
   "cell_type": "code",
   "execution_count": 61,
   "id": "f1ef7f4a",
   "metadata": {},
   "outputs": [],
   "source": [
    "# Exporting the viz\n",
    "family_size_bar.figure.savefig(os.path.join(path, '04 Analysis', 'Visualizations', 'family_size_bar.png'))"
   ]
  },
  {
   "cell_type": "markdown",
   "id": "1daccc79",
   "metadata": {},
   "source": [
    "### Step 7: Profile Aggregation\n"
   ]
  },
  {
   "cell_type": "code",
   "execution_count": 62,
   "id": "8f7f0e67",
   "metadata": {},
   "outputs": [],
   "source": [
    "# Usage freq. and expenditure by Age groups\n",
    "crosstab_age_orderhabits = df_ic_active.groupby('age_group').agg({'prices': ['mean', 'min', 'max'], \n",
    "                                                              'days_since_prior_order': ['mean', 'min', 'max']})"
   ]
  },
  {
   "cell_type": "code",
   "execution_count": 63,
   "id": "3300a7ee",
   "metadata": {
    "scrolled": true
   },
   "outputs": [
    {
     "data": {
      "text/html": [
       "<div>\n",
       "<style scoped>\n",
       "    .dataframe tbody tr th:only-of-type {\n",
       "        vertical-align: middle;\n",
       "    }\n",
       "\n",
       "    .dataframe tbody tr th {\n",
       "        vertical-align: top;\n",
       "    }\n",
       "\n",
       "    .dataframe thead tr th {\n",
       "        text-align: left;\n",
       "    }\n",
       "\n",
       "    .dataframe thead tr:last-of-type th {\n",
       "        text-align: right;\n",
       "    }\n",
       "</style>\n",
       "<table border=\"1\" class=\"dataframe\">\n",
       "  <thead>\n",
       "    <tr>\n",
       "      <th></th>\n",
       "      <th colspan=\"3\" halign=\"left\">prices</th>\n",
       "      <th colspan=\"3\" halign=\"left\">days_since_prior_order</th>\n",
       "    </tr>\n",
       "    <tr>\n",
       "      <th></th>\n",
       "      <th>mean</th>\n",
       "      <th>min</th>\n",
       "      <th>max</th>\n",
       "      <th>mean</th>\n",
       "      <th>min</th>\n",
       "      <th>max</th>\n",
       "    </tr>\n",
       "    <tr>\n",
       "      <th>age_group</th>\n",
       "      <th></th>\n",
       "      <th></th>\n",
       "      <th></th>\n",
       "      <th></th>\n",
       "      <th></th>\n",
       "      <th></th>\n",
       "    </tr>\n",
       "  </thead>\n",
       "  <tbody>\n",
       "    <tr>\n",
       "      <th>Mid-aged</th>\n",
       "      <td>11.953327</td>\n",
       "      <td>1.0</td>\n",
       "      <td>99999.0</td>\n",
       "      <td>10.820618</td>\n",
       "      <td>0.0</td>\n",
       "      <td>30.0</td>\n",
       "    </tr>\n",
       "    <tr>\n",
       "      <th>Senior</th>\n",
       "      <td>11.757768</td>\n",
       "      <td>1.0</td>\n",
       "      <td>99999.0</td>\n",
       "      <td>10.791788</td>\n",
       "      <td>0.0</td>\n",
       "      <td>30.0</td>\n",
       "    </tr>\n",
       "    <tr>\n",
       "      <th>Young</th>\n",
       "      <td>12.209359</td>\n",
       "      <td>1.0</td>\n",
       "      <td>99999.0</td>\n",
       "      <td>10.799071</td>\n",
       "      <td>0.0</td>\n",
       "      <td>30.0</td>\n",
       "    </tr>\n",
       "  </tbody>\n",
       "</table>\n",
       "</div>"
      ],
      "text/plain": [
       "              prices               days_since_prior_order           \n",
       "                mean  min      max                   mean  min   max\n",
       "age_group                                                           \n",
       "Mid-aged   11.953327  1.0  99999.0              10.820618  0.0  30.0\n",
       "Senior     11.757768  1.0  99999.0              10.791788  0.0  30.0\n",
       "Young      12.209359  1.0  99999.0              10.799071  0.0  30.0"
      ]
     },
     "execution_count": 63,
     "metadata": {},
     "output_type": "execute_result"
    }
   ],
   "source": [
    "# Check output\n",
    "crosstab_age_orderhabits"
   ]
  },
  {
   "cell_type": "markdown",
   "id": "fc7c07ea",
   "metadata": {},
   "source": [
    "OObservation: The average expenditure on products is similar across all age groups, with young adults spending slightly more than mid-aged and senior individuals. Additionally, there is no significant difference in the range of prices paid by each age group, as indicated by the minimum and maximum values.\n",
    "\n",
    "When it comes to order habits, there is also no significant difference in the number of days since the prior order among the age groups. On average, all groups tend to order every 10-11 days. This implies that there is no strong correlation between age and the frequency of purchases made by customers.\n",
    "\n",
    "Overall, the data indicates that age is not a major factor influencing customers' spending and ordering habits. "
   ]
  },
  {
   "cell_type": "code",
   "execution_count": 65,
   "id": "b474f819",
   "metadata": {},
   "outputs": [],
   "source": [
    "# Usage freq. and expenditure by Income groups\n",
    "crosstab_income_orderhabits = df_ic_active.groupby('income_group').agg({'prices': ['mean', 'min', 'max'], \n",
    "                                                                    'days_since_prior_order': ['mean', 'min', 'max']})"
   ]
  },
  {
   "cell_type": "code",
   "execution_count": 67,
   "id": "81e2573c",
   "metadata": {
    "scrolled": true
   },
   "outputs": [
    {
     "data": {
      "text/html": [
       "<div>\n",
       "<style scoped>\n",
       "    .dataframe tbody tr th:only-of-type {\n",
       "        vertical-align: middle;\n",
       "    }\n",
       "\n",
       "    .dataframe tbody tr th {\n",
       "        vertical-align: top;\n",
       "    }\n",
       "\n",
       "    .dataframe thead tr th {\n",
       "        text-align: left;\n",
       "    }\n",
       "\n",
       "    .dataframe thead tr:last-of-type th {\n",
       "        text-align: right;\n",
       "    }\n",
       "</style>\n",
       "<table border=\"1\" class=\"dataframe\">\n",
       "  <thead>\n",
       "    <tr>\n",
       "      <th></th>\n",
       "      <th colspan=\"3\" halign=\"left\">prices</th>\n",
       "      <th colspan=\"3\" halign=\"left\">days_since_prior_order</th>\n",
       "    </tr>\n",
       "    <tr>\n",
       "      <th></th>\n",
       "      <th>mean</th>\n",
       "      <th>min</th>\n",
       "      <th>max</th>\n",
       "      <th>mean</th>\n",
       "      <th>min</th>\n",
       "      <th>max</th>\n",
       "    </tr>\n",
       "    <tr>\n",
       "      <th>income_group</th>\n",
       "      <th></th>\n",
       "      <th></th>\n",
       "      <th></th>\n",
       "      <th></th>\n",
       "      <th></th>\n",
       "      <th></th>\n",
       "    </tr>\n",
       "  </thead>\n",
       "  <tbody>\n",
       "    <tr>\n",
       "      <th>High income</th>\n",
       "      <td>32.615289</td>\n",
       "      <td>1.0</td>\n",
       "      <td>99999.0</td>\n",
       "      <td>10.684337</td>\n",
       "      <td>0.0</td>\n",
       "      <td>30.0</td>\n",
       "    </tr>\n",
       "    <tr>\n",
       "      <th>Low income</th>\n",
       "      <td>7.451187</td>\n",
       "      <td>1.0</td>\n",
       "      <td>14900.0</td>\n",
       "      <td>10.900972</td>\n",
       "      <td>0.0</td>\n",
       "      <td>30.0</td>\n",
       "    </tr>\n",
       "    <tr>\n",
       "      <th>Mid income</th>\n",
       "      <td>9.826842</td>\n",
       "      <td>1.0</td>\n",
       "      <td>99999.0</td>\n",
       "      <td>10.786651</td>\n",
       "      <td>0.0</td>\n",
       "      <td>30.0</td>\n",
       "    </tr>\n",
       "  </tbody>\n",
       "</table>\n",
       "</div>"
      ],
      "text/plain": [
       "                 prices               days_since_prior_order           \n",
       "                   mean  min      max                   mean  min   max\n",
       "income_group                                                           \n",
       "High income   32.615289  1.0  99999.0              10.684337  0.0  30.0\n",
       "Low income     7.451187  1.0  14900.0              10.900972  0.0  30.0\n",
       "Mid income     9.826842  1.0  99999.0              10.786651  0.0  30.0"
      ]
     },
     "execution_count": 67,
     "metadata": {},
     "output_type": "execute_result"
    }
   ],
   "source": [
    "# Check output\n",
    "crosstab_income_orderhabits"
   ]
  },
  {
   "cell_type": "markdown",
   "id": "a33f7baa",
   "metadata": {},
   "source": [
    "Observation: There is a notable difference in the average expenditure on products by income group. Customers in the high-income group spend significantly more on products, with an average price of 32.62 dollars per item. In contrast, customers in the low-income group have the lowest average price paid per item, at 7.45 dollars. Customers in the mid-income group fall in between, with an average price of 9.83 dollars per item.\n",
    "\n",
    "Moreover, the data indicates that there is a notable difference in the range of prices paid by each income group, as indicated by the minimum and maximum values. Customers in the high-income group pay a higher maximum price per item than those in the low-income group.\n",
    "\n",
    "Regarding ordering habits, there is no significant difference in the mean number of days since the prior order among the income groups. All groups tend to order products every 10-11 days on average, which indicates that the frequency of orders is not strongly correlated with the customers' income.\n",
    "\n",
    "Overall, income has a significant impact on customers' purchasing behavior, with high-income customers being more likely to spend more money on products. However, income does not appear to have a significant impact on the frequency of orders."
   ]
  },
  {
   "cell_type": "code",
   "execution_count": 71,
   "id": "3335bc58",
   "metadata": {},
   "outputs": [],
   "source": [
    "# Usage freq. and expenditure by Family size\n",
    "cross_family_orderhabits = df_ic_active.groupby('family_size').agg({'prices': ['mean', 'min', 'max'], \n",
    "                                                                  'days_since_prior_order': ['mean', 'min', 'max']})"
   ]
  },
  {
   "cell_type": "code",
   "execution_count": 72,
   "id": "7639bb8b",
   "metadata": {},
   "outputs": [
    {
     "data": {
      "text/html": [
       "<div>\n",
       "<style scoped>\n",
       "    .dataframe tbody tr th:only-of-type {\n",
       "        vertical-align: middle;\n",
       "    }\n",
       "\n",
       "    .dataframe tbody tr th {\n",
       "        vertical-align: top;\n",
       "    }\n",
       "\n",
       "    .dataframe thead tr th {\n",
       "        text-align: left;\n",
       "    }\n",
       "\n",
       "    .dataframe thead tr:last-of-type th {\n",
       "        text-align: right;\n",
       "    }\n",
       "</style>\n",
       "<table border=\"1\" class=\"dataframe\">\n",
       "  <thead>\n",
       "    <tr>\n",
       "      <th></th>\n",
       "      <th colspan=\"3\" halign=\"left\">prices</th>\n",
       "      <th colspan=\"3\" halign=\"left\">days_since_prior_order</th>\n",
       "    </tr>\n",
       "    <tr>\n",
       "      <th></th>\n",
       "      <th>mean</th>\n",
       "      <th>min</th>\n",
       "      <th>max</th>\n",
       "      <th>mean</th>\n",
       "      <th>min</th>\n",
       "      <th>max</th>\n",
       "    </tr>\n",
       "    <tr>\n",
       "      <th>family_size</th>\n",
       "      <th></th>\n",
       "      <th></th>\n",
       "      <th></th>\n",
       "      <th></th>\n",
       "      <th></th>\n",
       "      <th></th>\n",
       "    </tr>\n",
       "  </thead>\n",
       "  <tbody>\n",
       "    <tr>\n",
       "      <th>divorced/widowed, no children</th>\n",
       "      <td>11.532741</td>\n",
       "      <td>1.0</td>\n",
       "      <td>99999.0</td>\n",
       "      <td>10.750328</td>\n",
       "      <td>0.0</td>\n",
       "      <td>30.0</td>\n",
       "    </tr>\n",
       "    <tr>\n",
       "      <th>married with children</th>\n",
       "      <td>11.944390</td>\n",
       "      <td>1.0</td>\n",
       "      <td>99999.0</td>\n",
       "      <td>10.820875</td>\n",
       "      <td>0.0</td>\n",
       "      <td>30.0</td>\n",
       "    </tr>\n",
       "    <tr>\n",
       "      <th>single, no children</th>\n",
       "      <td>12.398586</td>\n",
       "      <td>1.0</td>\n",
       "      <td>99999.0</td>\n",
       "      <td>10.813571</td>\n",
       "      <td>0.0</td>\n",
       "      <td>30.0</td>\n",
       "    </tr>\n",
       "    <tr>\n",
       "      <th>unknown</th>\n",
       "      <td>10.890167</td>\n",
       "      <td>1.0</td>\n",
       "      <td>99999.0</td>\n",
       "      <td>10.750995</td>\n",
       "      <td>0.0</td>\n",
       "      <td>30.0</td>\n",
       "    </tr>\n",
       "  </tbody>\n",
       "</table>\n",
       "</div>"
      ],
      "text/plain": [
       "                                  prices               days_since_prior_order  \\\n",
       "                                    mean  min      max                   mean   \n",
       "family_size                                                                     \n",
       "divorced/widowed, no children  11.532741  1.0  99999.0              10.750328   \n",
       "married with children          11.944390  1.0  99999.0              10.820875   \n",
       "single, no children            12.398586  1.0  99999.0              10.813571   \n",
       "unknown                        10.890167  1.0  99999.0              10.750995   \n",
       "\n",
       "                                          \n",
       "                               min   max  \n",
       "family_size                               \n",
       "divorced/widowed, no children  0.0  30.0  \n",
       "married with children          0.0  30.0  \n",
       "single, no children            0.0  30.0  \n",
       "unknown                        0.0  30.0  "
      ]
     },
     "execution_count": 72,
     "metadata": {},
     "output_type": "execute_result"
    }
   ],
   "source": [
    "# Check output\n",
    "cross_family_orderhabits "
   ]
  },
  {
   "cell_type": "markdown",
   "id": "c5c4cef4",
   "metadata": {},
   "source": [
    "Observation: The data indicates that there is no significant difference in the mean prices paid per item by each family size group. All family size groups have similar average expenditure on products, with the mean price per item ranging from $10.89 to $12.40.\n",
    "\n",
    "Additionally, there is no notable difference in the range of prices paid by each family size group, as indicated by the minimum and maximum values.\n",
    "\n",
    "When it comes to ordering habits, there is no significant difference in the mean number of days since the prior order among the family size groups. All groups tend to order products every 10-11 days on average, which indicates that the frequency of orders is not strongly correlated with the customers' family size.\n",
    "\n",
    "Overall, the data suggests that family size does not have a significant impact on customers' purchasing behavior, and there is no strong correlation between family size and the frequency of orders or the prices paid per item.\n"
   ]
  },
  {
   "cell_type": "code",
   "execution_count": 73,
   "id": "0b04ffb9",
   "metadata": {},
   "outputs": [],
   "source": [
    "# Usage freq. and expenditure by veganism groups\n",
    "cross_vegan_orderhabits = df_ic_active.groupby('veganism_group').agg({'prices': ['mean', 'min', 'max'], \n",
    "                                                                'days_since_prior_order': ['mean', 'min', 'max']})"
   ]
  },
  {
   "cell_type": "code",
   "execution_count": 75,
   "id": "e1f73fab",
   "metadata": {},
   "outputs": [
    {
     "data": {
      "text/html": [
       "<div>\n",
       "<style scoped>\n",
       "    .dataframe tbody tr th:only-of-type {\n",
       "        vertical-align: middle;\n",
       "    }\n",
       "\n",
       "    .dataframe tbody tr th {\n",
       "        vertical-align: top;\n",
       "    }\n",
       "\n",
       "    .dataframe thead tr th {\n",
       "        text-align: left;\n",
       "    }\n",
       "\n",
       "    .dataframe thead tr:last-of-type th {\n",
       "        text-align: right;\n",
       "    }\n",
       "</style>\n",
       "<table border=\"1\" class=\"dataframe\">\n",
       "  <thead>\n",
       "    <tr>\n",
       "      <th></th>\n",
       "      <th colspan=\"3\" halign=\"left\">prices</th>\n",
       "      <th colspan=\"3\" halign=\"left\">days_since_prior_order</th>\n",
       "    </tr>\n",
       "    <tr>\n",
       "      <th></th>\n",
       "      <th>mean</th>\n",
       "      <th>min</th>\n",
       "      <th>max</th>\n",
       "      <th>mean</th>\n",
       "      <th>min</th>\n",
       "      <th>max</th>\n",
       "    </tr>\n",
       "    <tr>\n",
       "      <th>veganism_group</th>\n",
       "      <th></th>\n",
       "      <th></th>\n",
       "      <th></th>\n",
       "      <th></th>\n",
       "      <th></th>\n",
       "      <th></th>\n",
       "    </tr>\n",
       "  </thead>\n",
       "  <tbody>\n",
       "    <tr>\n",
       "      <th>non-vegan</th>\n",
       "      <td>11.983845</td>\n",
       "      <td>1.0</td>\n",
       "      <td>99999.0</td>\n",
       "      <td>10.781076</td>\n",
       "      <td>0.0</td>\n",
       "      <td>30.0</td>\n",
       "    </tr>\n",
       "    <tr>\n",
       "      <th>vegan</th>\n",
       "      <td>6.957126</td>\n",
       "      <td>1.0</td>\n",
       "      <td>20.0</td>\n",
       "      <td>13.800485</td>\n",
       "      <td>0.0</td>\n",
       "      <td>30.0</td>\n",
       "    </tr>\n",
       "  </tbody>\n",
       "</table>\n",
       "</div>"
      ],
      "text/plain": [
       "                   prices               days_since_prior_order           \n",
       "                     mean  min      max                   mean  min   max\n",
       "veganism_group                                                           \n",
       "non-vegan       11.983845  1.0  99999.0              10.781076  0.0  30.0\n",
       "vegan            6.957126  1.0     20.0              13.800485  0.0  30.0"
      ]
     },
     "execution_count": 75,
     "metadata": {},
     "output_type": "execute_result"
    }
   ],
   "source": [
    "# Check output\n",
    "cross_vegan_orderhabits"
   ]
  },
  {
   "cell_type": "markdown",
   "id": "d6fddbab",
   "metadata": {},
   "source": [
    "Observation: The data indicates that customers who identify as vegans tend to spend less on average per item compared to non-vegan customers, with a mean price per item of $6.96 for vegans and $11.98 for non-vegans. ]\n",
    "\n",
    "When it comes to ordering habits, vegans tend to order products less frequently on average than non-vegans, with a mean number of days since the prior order of 13.80 days for vegans and 10.78 days for non-vegans. \n",
    "\n",
    "Overall, the data suggests that customers' veganism status may have some influence on their purchasing behavior, with vegans tending to spend less on average per item and order products less frequently than non-vegans."
   ]
  },
  {
   "cell_type": "markdown",
   "id": "a0059b7a",
   "metadata": {},
   "source": [
    "### Step 8: Customer Profiles by Region and Department"
   ]
  },
  {
   "cell_type": "markdown",
   "id": "e12de0c7",
   "metadata": {},
   "source": [
    "### 1. Customer Profiles by Region"
   ]
  },
  {
   "cell_type": "markdown",
   "id": "99564375",
   "metadata": {},
   "source": [
    "### a. Age"
   ]
  },
  {
   "cell_type": "code",
   "execution_count": 77,
   "id": "03812d22",
   "metadata": {},
   "outputs": [],
   "source": [
    "# Creating a crosstab comparing 'age_profile' and 'region', looking at column percentages\n",
    "crosstab_age_region = pd.crosstab(df_ic_active['age_group'], df_ic_active['region'], normalize = 'columns')"
   ]
  },
  {
   "cell_type": "code",
   "execution_count": 78,
   "id": "d1ec4916",
   "metadata": {},
   "outputs": [
    {
     "data": {
      "text/html": [
       "<div>\n",
       "<style scoped>\n",
       "    .dataframe tbody tr th:only-of-type {\n",
       "        vertical-align: middle;\n",
       "    }\n",
       "\n",
       "    .dataframe tbody tr th {\n",
       "        vertical-align: top;\n",
       "    }\n",
       "\n",
       "    .dataframe thead th {\n",
       "        text-align: right;\n",
       "    }\n",
       "</style>\n",
       "<table border=\"1\" class=\"dataframe\">\n",
       "  <thead>\n",
       "    <tr style=\"text-align: right;\">\n",
       "      <th>region</th>\n",
       "      <th>Midwest</th>\n",
       "      <th>Northeast</th>\n",
       "      <th>South</th>\n",
       "      <th>West</th>\n",
       "    </tr>\n",
       "    <tr>\n",
       "      <th>age_group</th>\n",
       "      <th></th>\n",
       "      <th></th>\n",
       "      <th></th>\n",
       "      <th></th>\n",
       "    </tr>\n",
       "  </thead>\n",
       "  <tbody>\n",
       "    <tr>\n",
       "      <th>Mid-aged</th>\n",
       "      <td>0.614102</td>\n",
       "      <td>0.603872</td>\n",
       "      <td>0.609796</td>\n",
       "      <td>0.612766</td>\n",
       "    </tr>\n",
       "    <tr>\n",
       "      <th>Senior</th>\n",
       "      <td>0.262211</td>\n",
       "      <td>0.271710</td>\n",
       "      <td>0.262673</td>\n",
       "      <td>0.264687</td>\n",
       "    </tr>\n",
       "    <tr>\n",
       "      <th>Young</th>\n",
       "      <td>0.123687</td>\n",
       "      <td>0.124419</td>\n",
       "      <td>0.127531</td>\n",
       "      <td>0.122548</td>\n",
       "    </tr>\n",
       "  </tbody>\n",
       "</table>\n",
       "</div>"
      ],
      "text/plain": [
       "region      Midwest  Northeast     South      West\n",
       "age_group                                         \n",
       "Mid-aged   0.614102   0.603872  0.609796  0.612766\n",
       "Senior     0.262211   0.271710  0.262673  0.264687\n",
       "Young      0.123687   0.124419  0.127531  0.122548"
      ]
     },
     "execution_count": 78,
     "metadata": {},
     "output_type": "execute_result"
    }
   ],
   "source": [
    "crosstab_age_region"
   ]
  },
  {
   "cell_type": "markdown",
   "id": "9b6a36cb",
   "metadata": {},
   "source": [
    "Observation: There are some differences in the distribution of age groups across the four regions, but the differences are relatively small. For example, the column percentages for the three age groups are all within a few percentage points of each other across all four regions.\n"
   ]
  },
  {
   "cell_type": "markdown",
   "id": "c7c3f92e",
   "metadata": {},
   "source": [
    "### b. Income"
   ]
  },
  {
   "cell_type": "code",
   "execution_count": 80,
   "id": "59ec8762",
   "metadata": {},
   "outputs": [],
   "source": [
    "# Creating a crosstab comparing 'income_group' and 'region', looking at column percentages\n",
    "crosstab_income_region = pd.crosstab(df_ic_active['income_group'], df_ic_active['region'], normalize = 'columns')"
   ]
  },
  {
   "cell_type": "code",
   "execution_count": 81,
   "id": "56a8c88c",
   "metadata": {},
   "outputs": [
    {
     "data": {
      "text/html": [
       "<div>\n",
       "<style scoped>\n",
       "    .dataframe tbody tr th:only-of-type {\n",
       "        vertical-align: middle;\n",
       "    }\n",
       "\n",
       "    .dataframe tbody tr th {\n",
       "        vertical-align: top;\n",
       "    }\n",
       "\n",
       "    .dataframe thead th {\n",
       "        text-align: right;\n",
       "    }\n",
       "</style>\n",
       "<table border=\"1\" class=\"dataframe\">\n",
       "  <thead>\n",
       "    <tr style=\"text-align: right;\">\n",
       "      <th>region</th>\n",
       "      <th>Midwest</th>\n",
       "      <th>Northeast</th>\n",
       "      <th>South</th>\n",
       "      <th>West</th>\n",
       "    </tr>\n",
       "    <tr>\n",
       "      <th>income_group</th>\n",
       "      <th></th>\n",
       "      <th></th>\n",
       "      <th></th>\n",
       "      <th></th>\n",
       "    </tr>\n",
       "  </thead>\n",
       "  <tbody>\n",
       "    <tr>\n",
       "      <th>High income</th>\n",
       "      <td>0.126350</td>\n",
       "      <td>0.124020</td>\n",
       "      <td>0.125152</td>\n",
       "      <td>0.127357</td>\n",
       "    </tr>\n",
       "    <tr>\n",
       "      <th>Low income</th>\n",
       "      <td>0.316811</td>\n",
       "      <td>0.316579</td>\n",
       "      <td>0.321363</td>\n",
       "      <td>0.323257</td>\n",
       "    </tr>\n",
       "    <tr>\n",
       "      <th>Mid income</th>\n",
       "      <td>0.556838</td>\n",
       "      <td>0.559401</td>\n",
       "      <td>0.553485</td>\n",
       "      <td>0.549386</td>\n",
       "    </tr>\n",
       "  </tbody>\n",
       "</table>\n",
       "</div>"
      ],
      "text/plain": [
       "region         Midwest  Northeast     South      West\n",
       "income_group                                         \n",
       "High income   0.126350   0.124020  0.125152  0.127357\n",
       "Low income    0.316811   0.316579  0.321363  0.323257\n",
       "Mid income    0.556838   0.559401  0.553485  0.549386"
      ]
     },
     "execution_count": 81,
     "metadata": {},
     "output_type": "execute_result"
    }
   ],
   "source": [
    "crosstab_income_region"
   ]
  },
  {
   "cell_type": "markdown",
   "id": "2a9aed49",
   "metadata": {},
   "source": [
    "Observation: There are some differences in the distribution of income groups across the four regions, but the differences are relatively small. For example, the column percentages for the three income groups are all within a few percentage points of each other across all four regions."
   ]
  },
  {
   "cell_type": "markdown",
   "id": "9040676f",
   "metadata": {},
   "source": [
    "### c. Veganism"
   ]
  },
  {
   "cell_type": "code",
   "execution_count": 89,
   "id": "9b529014",
   "metadata": {},
   "outputs": [],
   "source": [
    "# Creating a crosstab comparing 'vegan_profile' and 'region', looking at column percentages\n",
    "crosstab_vegan_region = pd.crosstab(df_ic['veganism_group'], df_ic['region'], normalize = 'columns')"
   ]
  },
  {
   "cell_type": "code",
   "execution_count": 85,
   "id": "048e5218",
   "metadata": {},
   "outputs": [
    {
     "data": {
      "text/html": [
       "<div>\n",
       "<style scoped>\n",
       "    .dataframe tbody tr th:only-of-type {\n",
       "        vertical-align: middle;\n",
       "    }\n",
       "\n",
       "    .dataframe tbody tr th {\n",
       "        vertical-align: top;\n",
       "    }\n",
       "\n",
       "    .dataframe thead th {\n",
       "        text-align: right;\n",
       "    }\n",
       "</style>\n",
       "<table border=\"1\" class=\"dataframe\">\n",
       "  <thead>\n",
       "    <tr style=\"text-align: right;\">\n",
       "      <th>region</th>\n",
       "      <th>Midwest</th>\n",
       "      <th>Northeast</th>\n",
       "      <th>South</th>\n",
       "      <th>West</th>\n",
       "    </tr>\n",
       "    <tr>\n",
       "      <th>veganism_group</th>\n",
       "      <th></th>\n",
       "      <th></th>\n",
       "      <th></th>\n",
       "      <th></th>\n",
       "    </tr>\n",
       "  </thead>\n",
       "  <tbody>\n",
       "    <tr>\n",
       "      <th>non-vegan</th>\n",
       "      <td>0.989956</td>\n",
       "      <td>0.989988</td>\n",
       "      <td>0.990194</td>\n",
       "      <td>0.989753</td>\n",
       "    </tr>\n",
       "    <tr>\n",
       "      <th>vegan</th>\n",
       "      <td>0.010044</td>\n",
       "      <td>0.010012</td>\n",
       "      <td>0.009806</td>\n",
       "      <td>0.010247</td>\n",
       "    </tr>\n",
       "  </tbody>\n",
       "</table>\n",
       "</div>"
      ],
      "text/plain": [
       "region           Midwest  Northeast     South      West\n",
       "veganism_group                                         \n",
       "non-vegan       0.989956   0.989988  0.990194  0.989753\n",
       "vegan           0.010044   0.010012  0.009806  0.010247"
      ]
     },
     "execution_count": 85,
     "metadata": {},
     "output_type": "execute_result"
    }
   ],
   "source": [
    "crosstab_vegan_region"
   ]
  },
  {
   "cell_type": "markdown",
   "id": "4c859284",
   "metadata": {},
   "source": [
    "Observation: it seems that there are very small differences in the distribution of 'veganism_group' across the four regions. In all four regions, the vast majority of individuals (around 99%) are in the 'non-vegan' group, while only a small proportion (around 1%) are in the 'vegan' group."
   ]
  },
  {
   "cell_type": "markdown",
   "id": "6800db3e",
   "metadata": {},
   "source": [
    "### d. Family Status"
   ]
  },
  {
   "cell_type": "code",
   "execution_count": 86,
   "id": "e0b4acf9",
   "metadata": {},
   "outputs": [],
   "source": [
    "# Creating a crosstab comparing 'family_profile' and 'region', looking at column percentages\n",
    "crosstab_family_region = pd.crosstab(df_ic_active['family_size'], df_ic_active['region'], normalize = 'columns')\n"
   ]
  },
  {
   "cell_type": "code",
   "execution_count": 87,
   "id": "5c619f0a",
   "metadata": {},
   "outputs": [
    {
     "data": {
      "text/html": [
       "<div>\n",
       "<style scoped>\n",
       "    .dataframe tbody tr th:only-of-type {\n",
       "        vertical-align: middle;\n",
       "    }\n",
       "\n",
       "    .dataframe tbody tr th {\n",
       "        vertical-align: top;\n",
       "    }\n",
       "\n",
       "    .dataframe thead th {\n",
       "        text-align: right;\n",
       "    }\n",
       "</style>\n",
       "<table border=\"1\" class=\"dataframe\">\n",
       "  <thead>\n",
       "    <tr style=\"text-align: right;\">\n",
       "      <th>region</th>\n",
       "      <th>Midwest</th>\n",
       "      <th>Northeast</th>\n",
       "      <th>South</th>\n",
       "      <th>West</th>\n",
       "    </tr>\n",
       "    <tr>\n",
       "      <th>family_size</th>\n",
       "      <th></th>\n",
       "      <th></th>\n",
       "      <th></th>\n",
       "      <th></th>\n",
       "    </tr>\n",
       "  </thead>\n",
       "  <tbody>\n",
       "    <tr>\n",
       "      <th>divorced/widowed, no children</th>\n",
       "      <td>0.084996</td>\n",
       "      <td>0.087611</td>\n",
       "      <td>0.085084</td>\n",
       "      <td>0.084770</td>\n",
       "    </tr>\n",
       "    <tr>\n",
       "      <th>married with children</th>\n",
       "      <td>0.700579</td>\n",
       "      <td>0.705214</td>\n",
       "      <td>0.700577</td>\n",
       "      <td>0.703768</td>\n",
       "    </tr>\n",
       "    <tr>\n",
       "      <th>single, no children</th>\n",
       "      <td>0.166028</td>\n",
       "      <td>0.160250</td>\n",
       "      <td>0.165318</td>\n",
       "      <td>0.165059</td>\n",
       "    </tr>\n",
       "    <tr>\n",
       "      <th>unknown</th>\n",
       "      <td>0.048397</td>\n",
       "      <td>0.046925</td>\n",
       "      <td>0.049020</td>\n",
       "      <td>0.046403</td>\n",
       "    </tr>\n",
       "  </tbody>\n",
       "</table>\n",
       "</div>"
      ],
      "text/plain": [
       "region                          Midwest  Northeast     South      West\n",
       "family_size                                                           \n",
       "divorced/widowed, no children  0.084996   0.087611  0.085084  0.084770\n",
       "married with children          0.700579   0.705214  0.700577  0.703768\n",
       "single, no children            0.166028   0.160250  0.165318  0.165059\n",
       "unknown                        0.048397   0.046925  0.049020  0.046403"
      ]
     },
     "execution_count": 87,
     "metadata": {},
     "output_type": "execute_result"
    }
   ],
   "source": [
    "crosstab_family_region"
   ]
  },
  {
   "cell_type": "markdown",
   "id": "5f01ad17",
   "metadata": {},
   "source": [
    "Observation: There are not substantial differences in the distribution of family sizes across the four regions in terms of the proportion of individuals who are married with children, ranging from 70.1% in the Midwest to 70.5% in the Northeast.here are still some differences in the distribution of family sizes across the four regions. For example, the proportion of individuals in the 'single, no children' category is highest in the Midwest (16.6%) and lowest in the Northeast (16.0%). The proportion of individuals in the 'divorced/widowed, no children' category is also slightly higher in the Northeast (8.8%) compared to the other regions."
   ]
  },
  {
   "cell_type": "markdown",
   "id": "935515e4",
   "metadata": {},
   "source": [
    "###  2. Customer Profile by Department"
   ]
  },
  {
   "cell_type": "code",
   "execution_count": 172,
   "id": "a18cd2ca",
   "metadata": {},
   "outputs": [],
   "source": [
    "df_ic_department.rename(columns={'Unnamed: 0': 'department_id'}, inplace=True)"
   ]
  },
  {
   "cell_type": "code",
   "execution_count": 174,
   "id": "6e9dc8f8",
   "metadata": {},
   "outputs": [],
   "source": [
    "# Merge department column from df_ic_department to df_ic_department\n",
    "df_ic_active = pd.merge(df_ic_active, df_ic_department[['department_id', 'department']], on='department_id', how='left')"
   ]
  },
  {
   "cell_type": "markdown",
   "id": "402f6403",
   "metadata": {},
   "source": [
    "### a. Age"
   ]
  },
  {
   "cell_type": "code",
   "execution_count": 162,
   "id": "bb129363",
   "metadata": {},
   "outputs": [],
   "source": [
    "df_ic_department.rename(columns={'Unnamed': 'department_id'}, inplace=True)\n"
   ]
  },
  {
   "cell_type": "code",
   "execution_count": 175,
   "id": "3bf27e5e",
   "metadata": {},
   "outputs": [],
   "source": [
    "# Creating a crosstab comparing 'age_group' and 'department_id', looking at row percentages\n",
    "crosstab_age_department = pd.crosstab(df_ic_active['age_group'], df_ic_active['department'], normalize = 'index')  "
   ]
  },
  {
   "cell_type": "code",
   "execution_count": 176,
   "id": "09afb8cf",
   "metadata": {},
   "outputs": [
    {
     "data": {
      "text/html": [
       "<div>\n",
       "<style scoped>\n",
       "    .dataframe tbody tr th:only-of-type {\n",
       "        vertical-align: middle;\n",
       "    }\n",
       "\n",
       "    .dataframe tbody tr th {\n",
       "        vertical-align: top;\n",
       "    }\n",
       "\n",
       "    .dataframe thead th {\n",
       "        text-align: right;\n",
       "    }\n",
       "</style>\n",
       "<table border=\"1\" class=\"dataframe\">\n",
       "  <thead>\n",
       "    <tr style=\"text-align: right;\">\n",
       "      <th>department</th>\n",
       "      <th>alcohol</th>\n",
       "      <th>babies</th>\n",
       "      <th>bakery</th>\n",
       "      <th>beverages</th>\n",
       "      <th>breakfast</th>\n",
       "      <th>bulk</th>\n",
       "      <th>canned goods</th>\n",
       "      <th>dairy eggs</th>\n",
       "      <th>deli</th>\n",
       "      <th>dry goods pasta</th>\n",
       "      <th>frozen</th>\n",
       "      <th>household</th>\n",
       "      <th>international</th>\n",
       "      <th>meat seafood</th>\n",
       "      <th>missing</th>\n",
       "      <th>other</th>\n",
       "      <th>pantry</th>\n",
       "      <th>personal care</th>\n",
       "      <th>pets</th>\n",
       "      <th>produce</th>\n",
       "      <th>snacks</th>\n",
       "    </tr>\n",
       "    <tr>\n",
       "      <th>age_group</th>\n",
       "      <th></th>\n",
       "      <th></th>\n",
       "      <th></th>\n",
       "      <th></th>\n",
       "      <th></th>\n",
       "      <th></th>\n",
       "      <th></th>\n",
       "      <th></th>\n",
       "      <th></th>\n",
       "      <th></th>\n",
       "      <th></th>\n",
       "      <th></th>\n",
       "      <th></th>\n",
       "      <th></th>\n",
       "      <th></th>\n",
       "      <th></th>\n",
       "      <th></th>\n",
       "      <th></th>\n",
       "      <th></th>\n",
       "      <th></th>\n",
       "      <th></th>\n",
       "    </tr>\n",
       "  </thead>\n",
       "  <tbody>\n",
       "    <tr>\n",
       "      <th>Mid-aged</th>\n",
       "      <td>0.004694</td>\n",
       "      <td>0.013381</td>\n",
       "      <td>0.036233</td>\n",
       "      <td>0.083025</td>\n",
       "      <td>0.021692</td>\n",
       "      <td>0.001069</td>\n",
       "      <td>0.032704</td>\n",
       "      <td>0.167241</td>\n",
       "      <td>0.032483</td>\n",
       "      <td>0.026482</td>\n",
       "      <td>0.068322</td>\n",
       "      <td>0.022556</td>\n",
       "      <td>0.008274</td>\n",
       "      <td>0.021638</td>\n",
       "      <td>0.002088</td>\n",
       "      <td>0.001111</td>\n",
       "      <td>0.057565</td>\n",
       "      <td>0.013767</td>\n",
       "      <td>0.002927</td>\n",
       "      <td>0.293234</td>\n",
       "      <td>0.089515</td>\n",
       "    </tr>\n",
       "    <tr>\n",
       "      <th>Senior</th>\n",
       "      <td>0.004477</td>\n",
       "      <td>0.012959</td>\n",
       "      <td>0.036117</td>\n",
       "      <td>0.083462</td>\n",
       "      <td>0.021389</td>\n",
       "      <td>0.001091</td>\n",
       "      <td>0.032641</td>\n",
       "      <td>0.166929</td>\n",
       "      <td>0.032359</td>\n",
       "      <td>0.026516</td>\n",
       "      <td>0.068848</td>\n",
       "      <td>0.022772</td>\n",
       "      <td>0.008199</td>\n",
       "      <td>0.022103</td>\n",
       "      <td>0.002064</td>\n",
       "      <td>0.001092</td>\n",
       "      <td>0.057639</td>\n",
       "      <td>0.013550</td>\n",
       "      <td>0.003064</td>\n",
       "      <td>0.293831</td>\n",
       "      <td>0.088896</td>\n",
       "    </tr>\n",
       "    <tr>\n",
       "      <th>Young</th>\n",
       "      <td>0.004965</td>\n",
       "      <td>0.013258</td>\n",
       "      <td>0.036194</td>\n",
       "      <td>0.082376</td>\n",
       "      <td>0.022118</td>\n",
       "      <td>0.001114</td>\n",
       "      <td>0.032685</td>\n",
       "      <td>0.167548</td>\n",
       "      <td>0.032230</td>\n",
       "      <td>0.026963</td>\n",
       "      <td>0.068803</td>\n",
       "      <td>0.022464</td>\n",
       "      <td>0.008377</td>\n",
       "      <td>0.021886</td>\n",
       "      <td>0.002169</td>\n",
       "      <td>0.001153</td>\n",
       "      <td>0.057468</td>\n",
       "      <td>0.013713</td>\n",
       "      <td>0.003265</td>\n",
       "      <td>0.291815</td>\n",
       "      <td>0.089433</td>\n",
       "    </tr>\n",
       "  </tbody>\n",
       "</table>\n",
       "</div>"
      ],
      "text/plain": [
       "department   alcohol    babies    bakery  beverages  breakfast      bulk  \\\n",
       "age_group                                                                  \n",
       "Mid-aged    0.004694  0.013381  0.036233   0.083025   0.021692  0.001069   \n",
       "Senior      0.004477  0.012959  0.036117   0.083462   0.021389  0.001091   \n",
       "Young       0.004965  0.013258  0.036194   0.082376   0.022118  0.001114   \n",
       "\n",
       "department  canned goods  dairy eggs      deli  dry goods pasta    frozen  \\\n",
       "age_group                                                                   \n",
       "Mid-aged        0.032704    0.167241  0.032483         0.026482  0.068322   \n",
       "Senior          0.032641    0.166929  0.032359         0.026516  0.068848   \n",
       "Young           0.032685    0.167548  0.032230         0.026963  0.068803   \n",
       "\n",
       "department  household  international  meat seafood   missing     other  \\\n",
       "age_group                                                                \n",
       "Mid-aged     0.022556       0.008274      0.021638  0.002088  0.001111   \n",
       "Senior       0.022772       0.008199      0.022103  0.002064  0.001092   \n",
       "Young        0.022464       0.008377      0.021886  0.002169  0.001153   \n",
       "\n",
       "department    pantry  personal care      pets   produce    snacks  \n",
       "age_group                                                          \n",
       "Mid-aged    0.057565       0.013767  0.002927  0.293234  0.089515  \n",
       "Senior      0.057639       0.013550  0.003064  0.293831  0.088896  \n",
       "Young       0.057468       0.013713  0.003265  0.291815  0.089433  "
      ]
     },
     "execution_count": 176,
     "metadata": {},
     "output_type": "execute_result"
    }
   ],
   "source": [
    "crosstab_age_department"
   ]
  },
  {
   "cell_type": "markdown",
   "id": "0a0f902f",
   "metadata": {},
   "source": [
    "### b. Income"
   ]
  },
  {
   "cell_type": "code",
   "execution_count": 177,
   "id": "d17c33c3",
   "metadata": {},
   "outputs": [],
   "source": [
    "# Creating a crosstab comparing 'income_group' and 'department_id', looking at row percentages\n",
    "crosstab_income_department = pd.crosstab(df_ic_active['income_group'], df_ic_active['department'], normalize = 'index')"
   ]
  },
  {
   "cell_type": "code",
   "execution_count": 178,
   "id": "23f4b32f",
   "metadata": {},
   "outputs": [
    {
     "data": {
      "text/html": [
       "<div>\n",
       "<style scoped>\n",
       "    .dataframe tbody tr th:only-of-type {\n",
       "        vertical-align: middle;\n",
       "    }\n",
       "\n",
       "    .dataframe tbody tr th {\n",
       "        vertical-align: top;\n",
       "    }\n",
       "\n",
       "    .dataframe thead th {\n",
       "        text-align: right;\n",
       "    }\n",
       "</style>\n",
       "<table border=\"1\" class=\"dataframe\">\n",
       "  <thead>\n",
       "    <tr style=\"text-align: right;\">\n",
       "      <th>department</th>\n",
       "      <th>alcohol</th>\n",
       "      <th>babies</th>\n",
       "      <th>bakery</th>\n",
       "      <th>beverages</th>\n",
       "      <th>breakfast</th>\n",
       "      <th>bulk</th>\n",
       "      <th>canned goods</th>\n",
       "      <th>dairy eggs</th>\n",
       "      <th>deli</th>\n",
       "      <th>dry goods pasta</th>\n",
       "      <th>frozen</th>\n",
       "      <th>household</th>\n",
       "      <th>international</th>\n",
       "      <th>meat seafood</th>\n",
       "      <th>missing</th>\n",
       "      <th>other</th>\n",
       "      <th>pantry</th>\n",
       "      <th>personal care</th>\n",
       "      <th>pets</th>\n",
       "      <th>produce</th>\n",
       "      <th>snacks</th>\n",
       "    </tr>\n",
       "    <tr>\n",
       "      <th>income_group</th>\n",
       "      <th></th>\n",
       "      <th></th>\n",
       "      <th></th>\n",
       "      <th></th>\n",
       "      <th></th>\n",
       "      <th></th>\n",
       "      <th></th>\n",
       "      <th></th>\n",
       "      <th></th>\n",
       "      <th></th>\n",
       "      <th></th>\n",
       "      <th></th>\n",
       "      <th></th>\n",
       "      <th></th>\n",
       "      <th></th>\n",
       "      <th></th>\n",
       "      <th></th>\n",
       "      <th></th>\n",
       "      <th></th>\n",
       "      <th></th>\n",
       "      <th></th>\n",
       "    </tr>\n",
       "  </thead>\n",
       "  <tbody>\n",
       "    <tr>\n",
       "      <th>High income</th>\n",
       "      <td>0.006179</td>\n",
       "      <td>0.013606</td>\n",
       "      <td>0.038109</td>\n",
       "      <td>0.080451</td>\n",
       "      <td>0.021416</td>\n",
       "      <td>0.000942</td>\n",
       "      <td>0.033993</td>\n",
       "      <td>0.169243</td>\n",
       "      <td>0.032319</td>\n",
       "      <td>0.027302</td>\n",
       "      <td>0.070966</td>\n",
       "      <td>0.023793</td>\n",
       "      <td>0.008427</td>\n",
       "      <td>0.023496</td>\n",
       "      <td>0.002119</td>\n",
       "      <td>0.001169</td>\n",
       "      <td>0.059543</td>\n",
       "      <td>0.013743</td>\n",
       "      <td>0.003335</td>\n",
       "      <td>0.291341</td>\n",
       "      <td>0.078507</td>\n",
       "    </tr>\n",
       "    <tr>\n",
       "      <th>Low income</th>\n",
       "      <td>0.004500</td>\n",
       "      <td>0.011587</td>\n",
       "      <td>0.034469</td>\n",
       "      <td>0.091997</td>\n",
       "      <td>0.023525</td>\n",
       "      <td>0.001204</td>\n",
       "      <td>0.029791</td>\n",
       "      <td>0.161572</td>\n",
       "      <td>0.032182</td>\n",
       "      <td>0.024203</td>\n",
       "      <td>0.066628</td>\n",
       "      <td>0.023280</td>\n",
       "      <td>0.007699</td>\n",
       "      <td>0.017936</td>\n",
       "      <td>0.002100</td>\n",
       "      <td>0.001104</td>\n",
       "      <td>0.054859</td>\n",
       "      <td>0.013855</td>\n",
       "      <td>0.002838</td>\n",
       "      <td>0.280425</td>\n",
       "      <td>0.114245</td>\n",
       "    </tr>\n",
       "    <tr>\n",
       "      <th>Mid income</th>\n",
       "      <td>0.004427</td>\n",
       "      <td>0.014136</td>\n",
       "      <td>0.036761</td>\n",
       "      <td>0.078492</td>\n",
       "      <td>0.020648</td>\n",
       "      <td>0.001040</td>\n",
       "      <td>0.034058</td>\n",
       "      <td>0.169979</td>\n",
       "      <td>0.032578</td>\n",
       "      <td>0.027736</td>\n",
       "      <td>0.069059</td>\n",
       "      <td>0.021940</td>\n",
       "      <td>0.008559</td>\n",
       "      <td>0.023631</td>\n",
       "      <td>0.002081</td>\n",
       "      <td>0.001102</td>\n",
       "      <td>0.058691</td>\n",
       "      <td>0.013606</td>\n",
       "      <td>0.003027</td>\n",
       "      <td>0.301023</td>\n",
       "      <td>0.077425</td>\n",
       "    </tr>\n",
       "  </tbody>\n",
       "</table>\n",
       "</div>"
      ],
      "text/plain": [
       "department     alcohol    babies    bakery  beverages  breakfast      bulk  \\\n",
       "income_group                                                                 \n",
       "High income   0.006179  0.013606  0.038109   0.080451   0.021416  0.000942   \n",
       "Low income    0.004500  0.011587  0.034469   0.091997   0.023525  0.001204   \n",
       "Mid income    0.004427  0.014136  0.036761   0.078492   0.020648  0.001040   \n",
       "\n",
       "department    canned goods  dairy eggs      deli  dry goods pasta    frozen  \\\n",
       "income_group                                                                  \n",
       "High income       0.033993    0.169243  0.032319         0.027302  0.070966   \n",
       "Low income        0.029791    0.161572  0.032182         0.024203  0.066628   \n",
       "Mid income        0.034058    0.169979  0.032578         0.027736  0.069059   \n",
       "\n",
       "department    household  international  meat seafood   missing     other  \\\n",
       "income_group                                                               \n",
       "High income    0.023793       0.008427      0.023496  0.002119  0.001169   \n",
       "Low income     0.023280       0.007699      0.017936  0.002100  0.001104   \n",
       "Mid income     0.021940       0.008559      0.023631  0.002081  0.001102   \n",
       "\n",
       "department      pantry  personal care      pets   produce    snacks  \n",
       "income_group                                                         \n",
       "High income   0.059543       0.013743  0.003335  0.291341  0.078507  \n",
       "Low income    0.054859       0.013855  0.002838  0.280425  0.114245  \n",
       "Mid income    0.058691       0.013606  0.003027  0.301023  0.077425  "
      ]
     },
     "execution_count": 178,
     "metadata": {},
     "output_type": "execute_result"
    }
   ],
   "source": [
    "crosstab_income_department"
   ]
  },
  {
   "cell_type": "markdown",
   "id": "27205095",
   "metadata": {},
   "source": [
    "### c. Veganism"
   ]
  },
  {
   "cell_type": "code",
   "execution_count": 179,
   "id": "0b04be60",
   "metadata": {},
   "outputs": [],
   "source": [
    "# Creating a crosstab comparing 'vegan_profile' and 'department_id'\n",
    "crosstab_vegan_department = pd.crosstab(df_ic_active['veganism_group'], df_ic_active['department'], normalize = 'index')"
   ]
  },
  {
   "cell_type": "code",
   "execution_count": 180,
   "id": "271f13ea",
   "metadata": {},
   "outputs": [
    {
     "data": {
      "text/html": [
       "<div>\n",
       "<style scoped>\n",
       "    .dataframe tbody tr th:only-of-type {\n",
       "        vertical-align: middle;\n",
       "    }\n",
       "\n",
       "    .dataframe tbody tr th {\n",
       "        vertical-align: top;\n",
       "    }\n",
       "\n",
       "    .dataframe thead th {\n",
       "        text-align: right;\n",
       "    }\n",
       "</style>\n",
       "<table border=\"1\" class=\"dataframe\">\n",
       "  <thead>\n",
       "    <tr style=\"text-align: right;\">\n",
       "      <th>department</th>\n",
       "      <th>alcohol</th>\n",
       "      <th>babies</th>\n",
       "      <th>bakery</th>\n",
       "      <th>beverages</th>\n",
       "      <th>breakfast</th>\n",
       "      <th>bulk</th>\n",
       "      <th>canned goods</th>\n",
       "      <th>dairy eggs</th>\n",
       "      <th>deli</th>\n",
       "      <th>dry goods pasta</th>\n",
       "      <th>frozen</th>\n",
       "      <th>household</th>\n",
       "      <th>international</th>\n",
       "      <th>meat seafood</th>\n",
       "      <th>missing</th>\n",
       "      <th>other</th>\n",
       "      <th>pantry</th>\n",
       "      <th>personal care</th>\n",
       "      <th>pets</th>\n",
       "      <th>produce</th>\n",
       "      <th>snacks</th>\n",
       "    </tr>\n",
       "    <tr>\n",
       "      <th>veganism_group</th>\n",
       "      <th></th>\n",
       "      <th></th>\n",
       "      <th></th>\n",
       "      <th></th>\n",
       "      <th></th>\n",
       "      <th></th>\n",
       "      <th></th>\n",
       "      <th></th>\n",
       "      <th></th>\n",
       "      <th></th>\n",
       "      <th></th>\n",
       "      <th></th>\n",
       "      <th></th>\n",
       "      <th></th>\n",
       "      <th></th>\n",
       "      <th></th>\n",
       "      <th></th>\n",
       "      <th></th>\n",
       "      <th></th>\n",
       "      <th></th>\n",
       "      <th></th>\n",
       "    </tr>\n",
       "  </thead>\n",
       "  <tbody>\n",
       "    <tr>\n",
       "      <th>non-vegan</th>\n",
       "      <td>0.004371</td>\n",
       "      <td>0.013333</td>\n",
       "      <td>0.036396</td>\n",
       "      <td>0.081899</td>\n",
       "      <td>0.021669</td>\n",
       "      <td>0.001072</td>\n",
       "      <td>0.032861</td>\n",
       "      <td>0.168888</td>\n",
       "      <td>0.032577</td>\n",
       "      <td>0.026739</td>\n",
       "      <td>0.068655</td>\n",
       "      <td>0.022198</td>\n",
       "      <td>0.008312</td>\n",
       "      <td>0.022012</td>\n",
       "      <td>0.002095</td>\n",
       "      <td>0.001098</td>\n",
       "      <td>0.057723</td>\n",
       "      <td>0.013578</td>\n",
       "      <td>0.003007</td>\n",
       "      <td>0.293016</td>\n",
       "      <td>0.088501</td>\n",
       "    </tr>\n",
       "    <tr>\n",
       "      <th>vegan</th>\n",
       "      <td>0.034271</td>\n",
       "      <td>0.005426</td>\n",
       "      <td>0.016565</td>\n",
       "      <td>0.197812</td>\n",
       "      <td>0.021262</td>\n",
       "      <td>0.001871</td>\n",
       "      <td>0.015284</td>\n",
       "      <td>0.000000</td>\n",
       "      <td>0.016810</td>\n",
       "      <td>0.007919</td>\n",
       "      <td>0.055339</td>\n",
       "      <td>0.062546</td>\n",
       "      <td>0.003800</td>\n",
       "      <td>0.000000</td>\n",
       "      <td>0.001794</td>\n",
       "      <td>0.002410</td>\n",
       "      <td>0.042678</td>\n",
       "      <td>0.026042</td>\n",
       "      <td>0.002884</td>\n",
       "      <td>0.312920</td>\n",
       "      <td>0.172367</td>\n",
       "    </tr>\n",
       "  </tbody>\n",
       "</table>\n",
       "</div>"
      ],
      "text/plain": [
       "department       alcohol    babies    bakery  beverages  breakfast      bulk  \\\n",
       "veganism_group                                                                 \n",
       "non-vegan       0.004371  0.013333  0.036396   0.081899   0.021669  0.001072   \n",
       "vegan           0.034271  0.005426  0.016565   0.197812   0.021262  0.001871   \n",
       "\n",
       "department      canned goods  dairy eggs      deli  dry goods pasta    frozen  \\\n",
       "veganism_group                                                                  \n",
       "non-vegan           0.032861    0.168888  0.032577         0.026739  0.068655   \n",
       "vegan               0.015284    0.000000  0.016810         0.007919  0.055339   \n",
       "\n",
       "department      household  international  meat seafood   missing     other  \\\n",
       "veganism_group                                                               \n",
       "non-vegan        0.022198       0.008312      0.022012  0.002095  0.001098   \n",
       "vegan            0.062546       0.003800      0.000000  0.001794  0.002410   \n",
       "\n",
       "department        pantry  personal care      pets   produce    snacks  \n",
       "veganism_group                                                         \n",
       "non-vegan       0.057723       0.013578  0.003007  0.293016  0.088501  \n",
       "vegan           0.042678       0.026042  0.002884  0.312920  0.172367  "
      ]
     },
     "execution_count": 180,
     "metadata": {},
     "output_type": "execute_result"
    }
   ],
   "source": [
    "crosstab_vegan_department"
   ]
  },
  {
   "cell_type": "markdown",
   "id": "4e3cadd3",
   "metadata": {},
   "source": [
    "### d. Family Size"
   ]
  },
  {
   "cell_type": "code",
   "execution_count": 181,
   "id": "743698ef",
   "metadata": {},
   "outputs": [],
   "source": [
    "# Creating a crosstab comparing 'family_profile' and 'department_id'\n",
    "crosstab_family_department = pd.crosstab(df_ic_active['family_size'], df_ic_active['department'], normalize = 'index')"
   ]
  },
  {
   "cell_type": "code",
   "execution_count": 182,
   "id": "51317877",
   "metadata": {},
   "outputs": [
    {
     "data": {
      "text/html": [
       "<div>\n",
       "<style scoped>\n",
       "    .dataframe tbody tr th:only-of-type {\n",
       "        vertical-align: middle;\n",
       "    }\n",
       "\n",
       "    .dataframe tbody tr th {\n",
       "        vertical-align: top;\n",
       "    }\n",
       "\n",
       "    .dataframe thead th {\n",
       "        text-align: right;\n",
       "    }\n",
       "</style>\n",
       "<table border=\"1\" class=\"dataframe\">\n",
       "  <thead>\n",
       "    <tr style=\"text-align: right;\">\n",
       "      <th>department</th>\n",
       "      <th>alcohol</th>\n",
       "      <th>babies</th>\n",
       "      <th>bakery</th>\n",
       "      <th>beverages</th>\n",
       "      <th>breakfast</th>\n",
       "      <th>bulk</th>\n",
       "      <th>canned goods</th>\n",
       "      <th>dairy eggs</th>\n",
       "      <th>deli</th>\n",
       "      <th>dry goods pasta</th>\n",
       "      <th>frozen</th>\n",
       "      <th>household</th>\n",
       "      <th>international</th>\n",
       "      <th>meat seafood</th>\n",
       "      <th>missing</th>\n",
       "      <th>other</th>\n",
       "      <th>pantry</th>\n",
       "      <th>personal care</th>\n",
       "      <th>pets</th>\n",
       "      <th>produce</th>\n",
       "      <th>snacks</th>\n",
       "    </tr>\n",
       "    <tr>\n",
       "      <th>family_size</th>\n",
       "      <th></th>\n",
       "      <th></th>\n",
       "      <th></th>\n",
       "      <th></th>\n",
       "      <th></th>\n",
       "      <th></th>\n",
       "      <th></th>\n",
       "      <th></th>\n",
       "      <th></th>\n",
       "      <th></th>\n",
       "      <th></th>\n",
       "      <th></th>\n",
       "      <th></th>\n",
       "      <th></th>\n",
       "      <th></th>\n",
       "      <th></th>\n",
       "      <th></th>\n",
       "      <th></th>\n",
       "      <th></th>\n",
       "      <th></th>\n",
       "      <th></th>\n",
       "    </tr>\n",
       "  </thead>\n",
       "  <tbody>\n",
       "    <tr>\n",
       "      <th>divorced/widowed, no children</th>\n",
       "      <td>0.004483</td>\n",
       "      <td>0.012986</td>\n",
       "      <td>0.036191</td>\n",
       "      <td>0.083500</td>\n",
       "      <td>0.021393</td>\n",
       "      <td>0.001012</td>\n",
       "      <td>0.031856</td>\n",
       "      <td>0.167318</td>\n",
       "      <td>0.032794</td>\n",
       "      <td>0.026557</td>\n",
       "      <td>0.069542</td>\n",
       "      <td>0.022095</td>\n",
       "      <td>0.008246</td>\n",
       "      <td>0.021783</td>\n",
       "      <td>0.001914</td>\n",
       "      <td>0.001074</td>\n",
       "      <td>0.057420</td>\n",
       "      <td>0.013728</td>\n",
       "      <td>0.003034</td>\n",
       "      <td>0.293767</td>\n",
       "      <td>0.089308</td>\n",
       "    </tr>\n",
       "    <tr>\n",
       "      <th>married with children</th>\n",
       "      <td>0.004572</td>\n",
       "      <td>0.013231</td>\n",
       "      <td>0.036137</td>\n",
       "      <td>0.083125</td>\n",
       "      <td>0.021672</td>\n",
       "      <td>0.001095</td>\n",
       "      <td>0.032772</td>\n",
       "      <td>0.167064</td>\n",
       "      <td>0.032301</td>\n",
       "      <td>0.026596</td>\n",
       "      <td>0.068498</td>\n",
       "      <td>0.022772</td>\n",
       "      <td>0.008239</td>\n",
       "      <td>0.021917</td>\n",
       "      <td>0.002093</td>\n",
       "      <td>0.001098</td>\n",
       "      <td>0.057624</td>\n",
       "      <td>0.013701</td>\n",
       "      <td>0.002949</td>\n",
       "      <td>0.293110</td>\n",
       "      <td>0.089435</td>\n",
       "    </tr>\n",
       "    <tr>\n",
       "      <th>single, no children</th>\n",
       "      <td>0.004901</td>\n",
       "      <td>0.013540</td>\n",
       "      <td>0.036444</td>\n",
       "      <td>0.083319</td>\n",
       "      <td>0.021561</td>\n",
       "      <td>0.001045</td>\n",
       "      <td>0.032732</td>\n",
       "      <td>0.167198</td>\n",
       "      <td>0.032709</td>\n",
       "      <td>0.026312</td>\n",
       "      <td>0.067798</td>\n",
       "      <td>0.022164</td>\n",
       "      <td>0.008371</td>\n",
       "      <td>0.021250</td>\n",
       "      <td>0.002134</td>\n",
       "      <td>0.001153</td>\n",
       "      <td>0.057320</td>\n",
       "      <td>0.013719</td>\n",
       "      <td>0.003058</td>\n",
       "      <td>0.294116</td>\n",
       "      <td>0.089155</td>\n",
       "    </tr>\n",
       "    <tr>\n",
       "      <th>unknown</th>\n",
       "      <td>0.005657</td>\n",
       "      <td>0.013085</td>\n",
       "      <td>0.036244</td>\n",
       "      <td>0.080414</td>\n",
       "      <td>0.022413</td>\n",
       "      <td>0.001103</td>\n",
       "      <td>0.032729</td>\n",
       "      <td>0.168925</td>\n",
       "      <td>0.032487</td>\n",
       "      <td>0.026696</td>\n",
       "      <td>0.069535</td>\n",
       "      <td>0.022515</td>\n",
       "      <td>0.008368</td>\n",
       "      <td>0.021837</td>\n",
       "      <td>0.002239</td>\n",
       "      <td>0.001225</td>\n",
       "      <td>0.057957</td>\n",
       "      <td>0.013639</td>\n",
       "      <td>0.003604</td>\n",
       "      <td>0.290675</td>\n",
       "      <td>0.088653</td>\n",
       "    </tr>\n",
       "  </tbody>\n",
       "</table>\n",
       "</div>"
      ],
      "text/plain": [
       "department                      alcohol    babies    bakery  beverages  \\\n",
       "family_size                                                              \n",
       "divorced/widowed, no children  0.004483  0.012986  0.036191   0.083500   \n",
       "married with children          0.004572  0.013231  0.036137   0.083125   \n",
       "single, no children            0.004901  0.013540  0.036444   0.083319   \n",
       "unknown                        0.005657  0.013085  0.036244   0.080414   \n",
       "\n",
       "department                     breakfast      bulk  canned goods  dairy eggs  \\\n",
       "family_size                                                                    \n",
       "divorced/widowed, no children   0.021393  0.001012      0.031856    0.167318   \n",
       "married with children           0.021672  0.001095      0.032772    0.167064   \n",
       "single, no children             0.021561  0.001045      0.032732    0.167198   \n",
       "unknown                         0.022413  0.001103      0.032729    0.168925   \n",
       "\n",
       "department                         deli  dry goods pasta    frozen  household  \\\n",
       "family_size                                                                     \n",
       "divorced/widowed, no children  0.032794         0.026557  0.069542   0.022095   \n",
       "married with children          0.032301         0.026596  0.068498   0.022772   \n",
       "single, no children            0.032709         0.026312  0.067798   0.022164   \n",
       "unknown                        0.032487         0.026696  0.069535   0.022515   \n",
       "\n",
       "department                     international  meat seafood   missing  \\\n",
       "family_size                                                            \n",
       "divorced/widowed, no children       0.008246      0.021783  0.001914   \n",
       "married with children               0.008239      0.021917  0.002093   \n",
       "single, no children                 0.008371      0.021250  0.002134   \n",
       "unknown                             0.008368      0.021837  0.002239   \n",
       "\n",
       "department                        other    pantry  personal care      pets  \\\n",
       "family_size                                                                  \n",
       "divorced/widowed, no children  0.001074  0.057420       0.013728  0.003034   \n",
       "married with children          0.001098  0.057624       0.013701  0.002949   \n",
       "single, no children            0.001153  0.057320       0.013719  0.003058   \n",
       "unknown                        0.001225  0.057957       0.013639  0.003604   \n",
       "\n",
       "department                      produce    snacks  \n",
       "family_size                                        \n",
       "divorced/widowed, no children  0.293767  0.089308  \n",
       "married with children          0.293110  0.089435  \n",
       "single, no children            0.294116  0.089155  \n",
       "unknown                        0.290675  0.088653  "
      ]
     },
     "execution_count": 182,
     "metadata": {},
     "output_type": "execute_result"
    }
   ],
   "source": [
    "crosstab_family_department"
   ]
  },
  {
   "cell_type": "markdown",
   "id": "d9cad0c3",
   "metadata": {},
   "source": [
    "### Step 9: Produce suitable charts to illustrate your results and export them in your project folder"
   ]
  },
  {
   "cell_type": "markdown",
   "id": "a1f54b56",
   "metadata": {},
   "source": [
    "### 1. Customer Profiles by Region"
   ]
  },
  {
   "cell_type": "markdown",
   "id": "4067c78c",
   "metadata": {},
   "source": [
    "### a. Age"
   ]
  },
  {
   "cell_type": "code",
   "execution_count": 126,
   "id": "6d1ee6c6",
   "metadata": {},
   "outputs": [
    {
     "data": {
      "image/png": "[encoded data removed]",
      "text/plain": [
       "<Figure size 1000x600 with 1 Axes>"
      ]
     },
     "metadata": {},
     "output_type": "display_data"
    }
   ],
   "source": [
    "# Create grouped bar chart\n",
    "grouped_chart=crosstab_age_region.plot(kind='bar', figsize=(10,6), title='Age Groups by Regions', rot=0)"
   ]
  },
  {
   "cell_type": "code",
   "execution_count": 120,
   "id": "cbfacce1",
   "metadata": {},
   "outputs": [
    {
     "data": {
      "text/plain": [
       "Text(4.444444444444452, 0.5, 'Proportion')"
      ]
     },
     "execution_count": 120,
     "metadata": {},
     "output_type": "execute_result"
    }
   ],
   "source": [
    "# Set the x and y axis labels\n",
    "grouped_chart.set_xlabel(\"Region\")\n",
    "grouped_chart.set_ylabel(\"Proportion\")"
   ]
  },
  {
   "cell_type": "code",
   "execution_count": 127,
   "id": "f9a982a6",
   "metadata": {},
   "outputs": [],
   "source": [
    "# Exporting vizb\n",
    "grouped_chart.figure.savefig(os.path.join(path, '04 Analysis', 'Visualizations', 'age_region_grouped_bar.png'))\n"
   ]
  },
  {
   "cell_type": "markdown",
   "id": "797e48f1",
   "metadata": {},
   "source": [
    "### b. Income"
   ]
  },
  {
   "cell_type": "code",
   "execution_count": 129,
   "id": "9867ad16",
   "metadata": {},
   "outputs": [
    {
     "data": {
      "image/png": "[encoded data removed]",
      "text/plain": [
       "<Figure size 1000x600 with 1 Axes>"
      ]
     },
     "metadata": {},
     "output_type": "display_data"
    }
   ],
   "source": [
    "# Create grouped bar chart\n",
    "grouped_chart_income=crosstab_income_region.plot(kind='bar', figsize=(10,6), title='Income Groups by Regions', rot=0)"
   ]
  },
  {
   "cell_type": "code",
   "execution_count": 130,
   "id": "17296cc0",
   "metadata": {},
   "outputs": [],
   "source": [
    "# Exporting vizb\n",
    "grouped_chart_income.figure.savefig(os.path.join(path, '04 Analysis', 'Visualizations', 'income_region_grouped_bar.png'))"
   ]
  },
  {
   "cell_type": "markdown",
   "id": "cb1ad793",
   "metadata": {},
   "source": [
    "### c. Veganism"
   ]
  },
  {
   "cell_type": "code",
   "execution_count": 90,
   "id": "0b0a48a4",
   "metadata": {},
   "outputs": [
    {
     "data": {
      "image/png": "[encoded data removed]",
      "text/plain": [
       "<Figure size 1000x600 with 1 Axes>"
      ]
     },
     "metadata": {},
     "output_type": "display_data"
    }
   ],
   "source": [
    "# Create grouped bar chart\n",
    "grouped_chart_vegan=crosstab_vegan_region.plot(kind='bar', figsize=(10,6), title='Veganism Groups by Regions', rot=0)"
   ]
  },
  {
   "cell_type": "code",
   "execution_count": 91,
   "id": "1ef17b7c",
   "metadata": {},
   "outputs": [],
   "source": [
    "# Exporting vizb\n",
    "grouped_chart_vegan.figure.savefig(os.path.join(path, '04 Analysis', 'Visualizations', 'vegan_region_grouped_bar.png'))"
   ]
  },
  {
   "cell_type": "markdown",
   "id": "f2fa330f",
   "metadata": {},
   "source": [
    "### d. Family size"
   ]
  },
  {
   "cell_type": "code",
   "execution_count": 133,
   "id": "6e19852a",
   "metadata": {
    "scrolled": true
   },
   "outputs": [
    {
     "data": {
      "image/png": "[encoded data removed]",
      "text/plain": [
       "<Figure size 1000x600 with 1 Axes>"
      ]
     },
     "metadata": {},
     "output_type": "display_data"
    }
   ],
   "source": [
    "# Create grouped bar chart\n",
    "grouped_chart_family=crosstab_family_region.plot(kind='bar', figsize=(10,6), title='Family Size by Regions', rot=0)"
   ]
  },
  {
   "cell_type": "code",
   "execution_count": 134,
   "id": "8442c9ad",
   "metadata": {},
   "outputs": [],
   "source": [
    "# Exporting vizb\n",
    "grouped_chart_family.figure.savefig(os.path.join(path, '04 Analysis', 'Visualizations', 'family_region_grouped_bar.png'))"
   ]
  },
  {
   "cell_type": "markdown",
   "id": "c0ff3b6a",
   "metadata": {},
   "source": [
    "### 2. Customer Profiles by Dapartment"
   ]
  },
  {
   "cell_type": "markdown",
   "id": "b4c10f0b",
   "metadata": {},
   "source": [
    "### a. Age"
   ]
  },
  {
   "cell_type": "code",
   "execution_count": 184,
   "id": "e14eff8b",
   "metadata": {},
   "outputs": [
    {
     "data": {
      "text/plain": [
       "Text(0, 0.5, 'Proportion')"
      ]
     },
     "execution_count": 184,
     "metadata": {},
     "output_type": "execute_result"
    },
    {
     "data": {
      "image/png": "[encoded data removed]",
      "text/plain": [
       "<Figure size 1000x600 with 1 Axes>"
      ]
     },
     "metadata": {},
     "output_type": "display_data"
    }
   ],
   "source": [
    "# Create stacked chart\n",
    "stack_chart1=crosstab_age_department.T.plot(kind='bar', stacked=True, figsize=(10,6), title='Age Groups by Departments')\n",
    "plt.xlabel('Department')\n",
    "plt.ylabel('Proportion')"
   ]
  },
  {
   "cell_type": "markdown",
   "id": "62a00925",
   "metadata": {},
   "source": [
    "Observation: Produce is the most popular department among all age groups, with a proportion ranging from 29% to 30%.\n",
    "\n",
    "There are not much differences between age groups in terms of their ordering habits. Therefore, the company can continue to offer similar products across departments, and age group segmentation may not be an effective strategy to optimize sales."
   ]
  },
  {
   "cell_type": "code",
   "execution_count": 185,
   "id": "1d14b6e1",
   "metadata": {},
   "outputs": [],
   "source": [
    "# Exporting vizb\n",
    "stack_chart1.figure.savefig(os.path.join(path, '04 Analysis', 'Visualizations', 'age_department_stacked.png'))"
   ]
  },
  {
   "cell_type": "markdown",
   "id": "1d66715e",
   "metadata": {},
   "source": [
    "### b. Income"
   ]
  },
  {
   "cell_type": "code",
   "execution_count": 187,
   "id": "3cfb5b19",
   "metadata": {},
   "outputs": [
    {
     "data": {
      "text/plain": [
       "Text(0, 0.5, 'Proportion')"
      ]
     },
     "execution_count": 187,
     "metadata": {},
     "output_type": "execute_result"
    },
    {
     "data": {
      "image/png": "[encoded data removed]",
      "text/plain": [
       "<Figure size 1000x600 with 1 Axes>"
      ]
     },
     "metadata": {},
     "output_type": "display_data"
    }
   ],
   "source": [
    "# Create stacked chart\n",
    "stack_chart2=crosstab_income_department.T.plot(kind='bar', stacked=True, figsize=(10,6), title='Income Groups by Departments')\n",
    "plt.xlabel('Department')\n",
    "plt.ylabel('Proportion')"
   ]
  },
  {
   "cell_type": "markdown",
   "id": "a1fabf04",
   "metadata": {},
   "source": [
    "Observation: Tt appears that \"produce\" was the most frequently purchased department across all three age groups, followed by dairy eggs. There are not much differences on department preferences among 3 income groups."
   ]
  },
  {
   "cell_type": "code",
   "execution_count": 188,
   "id": "4f61608e",
   "metadata": {},
   "outputs": [],
   "source": [
    "# Exporting vizb\n",
    "stack_chart2.figure.savefig(os.path.join(path, '04 Analysis', 'Visualizations', 'income_department_stacked.png'))"
   ]
  },
  {
   "cell_type": "markdown",
   "id": "b3fdff2b",
   "metadata": {},
   "source": [
    "### c. Veganism"
   ]
  },
  {
   "cell_type": "code",
   "execution_count": 189,
   "id": "9d45d42d",
   "metadata": {
    "scrolled": false
   },
   "outputs": [
    {
     "data": {
      "text/plain": [
       "Text(0, 0.5, 'Proportion')"
      ]
     },
     "execution_count": 189,
     "metadata": {},
     "output_type": "execute_result"
    },
    {
     "data": {
      "image/png": "[encoded data removed]",
      "text/plain": [
       "<Figure size 1000x600 with 1 Axes>"
      ]
     },
     "metadata": {},
     "output_type": "display_data"
    }
   ],
   "source": [
    "# Create stacked chart\n",
    "stack_chart3=crosstab_vegan_department.T.plot(kind='bar', stacked=True, figsize=(10,6), title='Veganism Groups by Departments')\n",
    "plt.xlabel('Department')\n",
    "plt.ylabel('Proportion')"
   ]
  },
  {
   "cell_type": "markdown",
   "id": "b0d0a1ed",
   "metadata": {},
   "source": [
    "Obsrvation: We can see that the department buying behavior is quite different between the two veganism groups.\n",
    "\n",
    "For non-vegan group, the most commonly bought departments are produce, dairy eggs, canned goods, and bakery, while for vegan group, the most commonly bought departments are frozen, produce, snacks, and international.\n",
    "\n",
    "Additionally, it's interesting to note that the vegan group has a significantly higher percentage of spending on the frozen department compared to the non-vegan group, while the non-vegan group spends a higher percentage on alcohol compared to the vegan group."
   ]
  },
  {
   "cell_type": "code",
   "execution_count": 190,
   "id": "dd0fb896",
   "metadata": {},
   "outputs": [],
   "source": [
    "# Exporting vizb\n",
    "stack_chart3.figure.savefig(os.path.join(path, '04 Analysis', 'Visualizations', 'veganism_department_stacked.png'))"
   ]
  },
  {
   "cell_type": "markdown",
   "id": "3c377149",
   "metadata": {},
   "source": [
    "### d. Family Size"
   ]
  },
  {
   "cell_type": "code",
   "execution_count": 191,
   "id": "01769f26",
   "metadata": {
    "scrolled": true
   },
   "outputs": [
    {
     "data": {
      "text/plain": [
       "Text(0, 0.5, 'Proportion')"
      ]
     },
     "execution_count": 191,
     "metadata": {},
     "output_type": "execute_result"
    },
    {
     "data": {
      "image/png": "[encoded data removed]",
      "text/plain": [
       "<Figure size 1000x600 with 1 Axes>"
      ]
     },
     "metadata": {},
     "output_type": "display_data"
    }
   ],
   "source": [
    "# Create stacked chart\n",
    "stack_chart4=crosstab_family_department.T.plot(kind='bar', stacked=True, figsize=(10,6), title='Family Size by Departments')\n",
    "plt.xlabel('Department')\n",
    "plt.ylabel('Proportion')"
   ]
  },
  {
   "cell_type": "markdown",
   "id": "eb6ab5fe",
   "metadata": {},
   "source": [
    "Observation: There are some small differences in purchasing patterns across different family sizes, though it's not significant. Customers who are divorced/widowed with no children tend to purchase slightly more bulk items than other groups."
   ]
  },
  {
   "cell_type": "code",
   "execution_count": 192,
   "id": "d1457c43",
   "metadata": {},
   "outputs": [],
   "source": [
    "# Exporting vizb\n",
    "stack_chart4.figure.savefig(os.path.join(path, '04 Analysis', 'Visualizations', 'family_department_stacked.png'))"
   ]
  },
  {
   "cell_type": "markdown",
   "id": "5b982a8b",
   "metadata": {},
   "source": [
    "### 3. Extra Analysis"
   ]
  },
  {
   "cell_type": "markdown",
   "id": "efda4773",
   "metadata": {},
   "source": [
    "### Customer Profiling Variables by Spending"
   ]
  },
  {
   "cell_type": "code",
   "execution_count": 194,
   "id": "f4fbe8f9",
   "metadata": {
    "scrolled": false
   },
   "outputs": [
    {
     "data": {
      "text/html": [
       "<div>\n",
       "<style scoped>\n",
       "    .dataframe tbody tr th:only-of-type {\n",
       "        vertical-align: middle;\n",
       "    }\n",
       "\n",
       "    .dataframe tbody tr th {\n",
       "        vertical-align: top;\n",
       "    }\n",
       "\n",
       "    .dataframe thead th {\n",
       "        text-align: right;\n",
       "    }\n",
       "</style>\n",
       "<table border=\"1\" class=\"dataframe\">\n",
       "  <thead>\n",
       "    <tr style=\"text-align: right;\">\n",
       "      <th></th>\n",
       "      <th>order_id</th>\n",
       "      <th>user_id</th>\n",
       "      <th>eval_set</th>\n",
       "      <th>order_number</th>\n",
       "      <th>order_day_of_week</th>\n",
       "      <th>order_hour_of_day</th>\n",
       "      <th>days_since_prior_order</th>\n",
       "      <th>product_id</th>\n",
       "      <th>add_to_cart_order</th>\n",
       "      <th>reordered</th>\n",
       "      <th>Unnamed: 0</th>\n",
       "      <th>product_name</th>\n",
       "      <th>aisle_id</th>\n",
       "      <th>department_id</th>\n",
       "      <th>prices</th>\n",
       "      <th>_merge</th>\n",
       "      <th>busiest_day</th>\n",
       "      <th>busiest_days</th>\n",
       "      <th>busiest_period_of_day</th>\n",
       "      <th>price_range_loc</th>\n",
       "      <th>max_order</th>\n",
       "      <th>loyalty_flag</th>\n",
       "      <th>avg_order</th>\n",
       "      <th>spending_flag</th>\n",
       "      <th>median_prior_order</th>\n",
       "      <th>order_frequency_flag</th>\n",
       "      <th>gender</th>\n",
       "      <th>state</th>\n",
       "      <th>age</th>\n",
       "      <th>date_joined</th>\n",
       "      <th>number_of_dependants</th>\n",
       "      <th>fam_status</th>\n",
       "      <th>income</th>\n",
       "      <th>True</th>\n",
       "      <th>region</th>\n",
       "      <th>exclusion</th>\n",
       "      <th>age_group</th>\n",
       "      <th>income_group</th>\n",
       "      <th>veganism_group</th>\n",
       "      <th>family_size</th>\n",
       "      <th>department</th>\n",
       "    </tr>\n",
       "  </thead>\n",
       "  <tbody>\n",
       "    <tr>\n",
       "      <th>0</th>\n",
       "      <td>2539329</td>\n",
       "      <td>1</td>\n",
       "      <td>prior</td>\n",
       "      <td>1</td>\n",
       "      <td>2</td>\n",
       "      <td>8</td>\n",
       "      <td>NaN</td>\n",
       "      <td>196</td>\n",
       "      <td>1</td>\n",
       "      <td>0</td>\n",
       "      <td>195</td>\n",
       "      <td>Soda</td>\n",
       "      <td>77</td>\n",
       "      <td>7</td>\n",
       "      <td>9.0</td>\n",
       "      <td>both</td>\n",
       "      <td>Regularly busy</td>\n",
       "      <td>Regularly days</td>\n",
       "      <td>Average orders</td>\n",
       "      <td>Mid-range product</td>\n",
       "      <td>10</td>\n",
       "      <td>New customer</td>\n",
       "      <td>6.367797</td>\n",
       "      <td>Low spender</td>\n",
       "      <td>20.5</td>\n",
       "      <td>Non-frequent customer</td>\n",
       "      <td>Female</td>\n",
       "      <td>Alabama</td>\n",
       "      <td>31</td>\n",
       "      <td>2/17/2019</td>\n",
       "      <td>3</td>\n",
       "      <td>married</td>\n",
       "      <td>40423</td>\n",
       "      <td>both</td>\n",
       "      <td>South</td>\n",
       "      <td>active</td>\n",
       "      <td>Mid-aged</td>\n",
       "      <td>Low income</td>\n",
       "      <td>non-vegan</td>\n",
       "      <td>married with children</td>\n",
       "      <td>beverages</td>\n",
       "    </tr>\n",
       "    <tr>\n",
       "      <th>1</th>\n",
       "      <td>2398795</td>\n",
       "      <td>1</td>\n",
       "      <td>prior</td>\n",
       "      <td>2</td>\n",
       "      <td>3</td>\n",
       "      <td>7</td>\n",
       "      <td>15.0</td>\n",
       "      <td>196</td>\n",
       "      <td>1</td>\n",
       "      <td>1</td>\n",
       "      <td>195</td>\n",
       "      <td>Soda</td>\n",
       "      <td>77</td>\n",
       "      <td>7</td>\n",
       "      <td>9.0</td>\n",
       "      <td>both</td>\n",
       "      <td>Regularly busy</td>\n",
       "      <td>Slowest days</td>\n",
       "      <td>Average orders</td>\n",
       "      <td>Mid-range product</td>\n",
       "      <td>10</td>\n",
       "      <td>New customer</td>\n",
       "      <td>6.367797</td>\n",
       "      <td>Low spender</td>\n",
       "      <td>20.5</td>\n",
       "      <td>Non-frequent customer</td>\n",
       "      <td>Female</td>\n",
       "      <td>Alabama</td>\n",
       "      <td>31</td>\n",
       "      <td>2/17/2019</td>\n",
       "      <td>3</td>\n",
       "      <td>married</td>\n",
       "      <td>40423</td>\n",
       "      <td>both</td>\n",
       "      <td>South</td>\n",
       "      <td>active</td>\n",
       "      <td>Mid-aged</td>\n",
       "      <td>Low income</td>\n",
       "      <td>non-vegan</td>\n",
       "      <td>married with children</td>\n",
       "      <td>beverages</td>\n",
       "    </tr>\n",
       "    <tr>\n",
       "      <th>2</th>\n",
       "      <td>473747</td>\n",
       "      <td>1</td>\n",
       "      <td>prior</td>\n",
       "      <td>3</td>\n",
       "      <td>3</td>\n",
       "      <td>12</td>\n",
       "      <td>21.0</td>\n",
       "      <td>196</td>\n",
       "      <td>1</td>\n",
       "      <td>1</td>\n",
       "      <td>195</td>\n",
       "      <td>Soda</td>\n",
       "      <td>77</td>\n",
       "      <td>7</td>\n",
       "      <td>9.0</td>\n",
       "      <td>both</td>\n",
       "      <td>Regularly busy</td>\n",
       "      <td>Slowest days</td>\n",
       "      <td>Most orders</td>\n",
       "      <td>Mid-range product</td>\n",
       "      <td>10</td>\n",
       "      <td>New customer</td>\n",
       "      <td>6.367797</td>\n",
       "      <td>Low spender</td>\n",
       "      <td>20.5</td>\n",
       "      <td>Non-frequent customer</td>\n",
       "      <td>Female</td>\n",
       "      <td>Alabama</td>\n",
       "      <td>31</td>\n",
       "      <td>2/17/2019</td>\n",
       "      <td>3</td>\n",
       "      <td>married</td>\n",
       "      <td>40423</td>\n",
       "      <td>both</td>\n",
       "      <td>South</td>\n",
       "      <td>active</td>\n",
       "      <td>Mid-aged</td>\n",
       "      <td>Low income</td>\n",
       "      <td>non-vegan</td>\n",
       "      <td>married with children</td>\n",
       "      <td>beverages</td>\n",
       "    </tr>\n",
       "    <tr>\n",
       "      <th>3</th>\n",
       "      <td>2254736</td>\n",
       "      <td>1</td>\n",
       "      <td>prior</td>\n",
       "      <td>4</td>\n",
       "      <td>4</td>\n",
       "      <td>7</td>\n",
       "      <td>29.0</td>\n",
       "      <td>196</td>\n",
       "      <td>1</td>\n",
       "      <td>1</td>\n",
       "      <td>195</td>\n",
       "      <td>Soda</td>\n",
       "      <td>77</td>\n",
       "      <td>7</td>\n",
       "      <td>9.0</td>\n",
       "      <td>both</td>\n",
       "      <td>Least busy</td>\n",
       "      <td>Slowest days</td>\n",
       "      <td>Average orders</td>\n",
       "      <td>Mid-range product</td>\n",
       "      <td>10</td>\n",
       "      <td>New customer</td>\n",
       "      <td>6.367797</td>\n",
       "      <td>Low spender</td>\n",
       "      <td>20.5</td>\n",
       "      <td>Non-frequent customer</td>\n",
       "      <td>Female</td>\n",
       "      <td>Alabama</td>\n",
       "      <td>31</td>\n",
       "      <td>2/17/2019</td>\n",
       "      <td>3</td>\n",
       "      <td>married</td>\n",
       "      <td>40423</td>\n",
       "      <td>both</td>\n",
       "      <td>South</td>\n",
       "      <td>active</td>\n",
       "      <td>Mid-aged</td>\n",
       "      <td>Low income</td>\n",
       "      <td>non-vegan</td>\n",
       "      <td>married with children</td>\n",
       "      <td>beverages</td>\n",
       "    </tr>\n",
       "    <tr>\n",
       "      <th>4</th>\n",
       "      <td>431534</td>\n",
       "      <td>1</td>\n",
       "      <td>prior</td>\n",
       "      <td>5</td>\n",
       "      <td>4</td>\n",
       "      <td>15</td>\n",
       "      <td>28.0</td>\n",
       "      <td>196</td>\n",
       "      <td>1</td>\n",
       "      <td>1</td>\n",
       "      <td>195</td>\n",
       "      <td>Soda</td>\n",
       "      <td>77</td>\n",
       "      <td>7</td>\n",
       "      <td>9.0</td>\n",
       "      <td>both</td>\n",
       "      <td>Least busy</td>\n",
       "      <td>Slowest days</td>\n",
       "      <td>Most orders</td>\n",
       "      <td>Mid-range product</td>\n",
       "      <td>10</td>\n",
       "      <td>New customer</td>\n",
       "      <td>6.367797</td>\n",
       "      <td>Low spender</td>\n",
       "      <td>20.5</td>\n",
       "      <td>Non-frequent customer</td>\n",
       "      <td>Female</td>\n",
       "      <td>Alabama</td>\n",
       "      <td>31</td>\n",
       "      <td>2/17/2019</td>\n",
       "      <td>3</td>\n",
       "      <td>married</td>\n",
       "      <td>40423</td>\n",
       "      <td>both</td>\n",
       "      <td>South</td>\n",
       "      <td>active</td>\n",
       "      <td>Mid-aged</td>\n",
       "      <td>Low income</td>\n",
       "      <td>non-vegan</td>\n",
       "      <td>married with children</td>\n",
       "      <td>beverages</td>\n",
       "    </tr>\n",
       "  </tbody>\n",
       "</table>\n",
       "</div>"
      ],
      "text/plain": [
       "   order_id user_id eval_set  order_number  order_day_of_week  \\\n",
       "0   2539329       1    prior             1                  2   \n",
       "1   2398795       1    prior             2                  3   \n",
       "2    473747       1    prior             3                  3   \n",
       "3   2254736       1    prior             4                  4   \n",
       "4    431534       1    prior             5                  4   \n",
       "\n",
       "   order_hour_of_day  days_since_prior_order  product_id  add_to_cart_order  \\\n",
       "0                  8                     NaN         196                  1   \n",
       "1                  7                    15.0         196                  1   \n",
       "2                 12                    21.0         196                  1   \n",
       "3                  7                    29.0         196                  1   \n",
       "4                 15                    28.0         196                  1   \n",
       "\n",
       "   reordered  Unnamed: 0 product_name  aisle_id  department_id  prices _merge  \\\n",
       "0          0         195         Soda        77              7     9.0   both   \n",
       "1          1         195         Soda        77              7     9.0   both   \n",
       "2          1         195         Soda        77              7     9.0   both   \n",
       "3          1         195         Soda        77              7     9.0   both   \n",
       "4          1         195         Soda        77              7     9.0   both   \n",
       "\n",
       "      busiest_day    busiest_days busiest_period_of_day    price_range_loc  \\\n",
       "0  Regularly busy  Regularly days        Average orders  Mid-range product   \n",
       "1  Regularly busy    Slowest days        Average orders  Mid-range product   \n",
       "2  Regularly busy    Slowest days           Most orders  Mid-range product   \n",
       "3      Least busy    Slowest days        Average orders  Mid-range product   \n",
       "4      Least busy    Slowest days           Most orders  Mid-range product   \n",
       "\n",
       "   max_order  loyalty_flag  avg_order spending_flag  median_prior_order  \\\n",
       "0         10  New customer   6.367797   Low spender                20.5   \n",
       "1         10  New customer   6.367797   Low spender                20.5   \n",
       "2         10  New customer   6.367797   Low spender                20.5   \n",
       "3         10  New customer   6.367797   Low spender                20.5   \n",
       "4         10  New customer   6.367797   Low spender                20.5   \n",
       "\n",
       "    order_frequency_flag  gender    state  age date_joined  \\\n",
       "0  Non-frequent customer  Female  Alabama   31   2/17/2019   \n",
       "1  Non-frequent customer  Female  Alabama   31   2/17/2019   \n",
       "2  Non-frequent customer  Female  Alabama   31   2/17/2019   \n",
       "3  Non-frequent customer  Female  Alabama   31   2/17/2019   \n",
       "4  Non-frequent customer  Female  Alabama   31   2/17/2019   \n",
       "\n",
       "   number_of_dependants fam_status  income  True region exclusion age_group  \\\n",
       "0                     3    married   40423  both  South    active  Mid-aged   \n",
       "1                     3    married   40423  both  South    active  Mid-aged   \n",
       "2                     3    married   40423  both  South    active  Mid-aged   \n",
       "3                     3    married   40423  both  South    active  Mid-aged   \n",
       "4                     3    married   40423  both  South    active  Mid-aged   \n",
       "\n",
       "  income_group veganism_group            family_size department  \n",
       "0   Low income      non-vegan  married with children  beverages  \n",
       "1   Low income      non-vegan  married with children  beverages  \n",
       "2   Low income      non-vegan  married with children  beverages  \n",
       "3   Low income      non-vegan  married with children  beverages  \n",
       "4   Low income      non-vegan  married with children  beverages  "
      ]
     },
     "execution_count": 194,
     "metadata": {},
     "output_type": "execute_result"
    }
   ],
   "source": [
    "df_ic_active.head()"
   ]
  },
  {
   "cell_type": "markdown",
   "id": "2a9da797",
   "metadata": {},
   "source": [
    "### a. Age"
   ]
  },
  {
   "cell_type": "code",
   "execution_count": 199,
   "id": "3f0d3c85",
   "metadata": {},
   "outputs": [],
   "source": [
    "# Creating a crosstab comparing 'age_group' and 'spending_flag', looking at row percentages\n",
    "crosstab_age_spending = pd.crosstab(df_ic_active['age_group'], df_ic_active['spending_flag'], normalize = 'index')"
   ]
  },
  {
   "cell_type": "code",
   "execution_count": 200,
   "id": "04841b3a",
   "metadata": {},
   "outputs": [
    {
     "data": {
      "text/html": [
       "<div>\n",
       "<style scoped>\n",
       "    .dataframe tbody tr th:only-of-type {\n",
       "        vertical-align: middle;\n",
       "    }\n",
       "\n",
       "    .dataframe tbody tr th {\n",
       "        vertical-align: top;\n",
       "    }\n",
       "\n",
       "    .dataframe thead th {\n",
       "        text-align: right;\n",
       "    }\n",
       "</style>\n",
       "<table border=\"1\" class=\"dataframe\">\n",
       "  <thead>\n",
       "    <tr style=\"text-align: right;\">\n",
       "      <th>spending_flag</th>\n",
       "      <th>High spender</th>\n",
       "      <th>Low spender</th>\n",
       "    </tr>\n",
       "    <tr>\n",
       "      <th>age_group</th>\n",
       "      <th></th>\n",
       "      <th></th>\n",
       "    </tr>\n",
       "  </thead>\n",
       "  <tbody>\n",
       "    <tr>\n",
       "      <th>Mid-aged</th>\n",
       "      <td>0.019706</td>\n",
       "      <td>0.980294</td>\n",
       "    </tr>\n",
       "    <tr>\n",
       "      <th>Senior</th>\n",
       "      <td>0.019143</td>\n",
       "      <td>0.980857</td>\n",
       "    </tr>\n",
       "    <tr>\n",
       "      <th>Young</th>\n",
       "      <td>0.019149</td>\n",
       "      <td>0.980851</td>\n",
       "    </tr>\n",
       "  </tbody>\n",
       "</table>\n",
       "</div>"
      ],
      "text/plain": [
       "spending_flag  High spender  Low spender\n",
       "age_group                               \n",
       "Mid-aged           0.019706     0.980294\n",
       "Senior             0.019143     0.980857\n",
       "Young              0.019149     0.980851"
      ]
     },
     "execution_count": 200,
     "metadata": {},
     "output_type": "execute_result"
    }
   ],
   "source": [
    "crosstab_age_spending"
   ]
  },
  {
   "cell_type": "markdown",
   "id": "106db023",
   "metadata": {},
   "source": [
    "Observation: The data suggests that there is no significant difference in spending habits between age groups, as the proportion of high spenders and low spenders is very similar across all three groups. Overall, the customers tend to be low spenders."
   ]
  },
  {
   "cell_type": "code",
   "execution_count": 201,
   "id": "6d56c660",
   "metadata": {},
   "outputs": [
    {
     "data": {
      "image/png": "[encoded data removed]",
      "text/plain": [
       "<Figure size 1000x600 with 1 Axes>"
      ]
     },
     "metadata": {},
     "output_type": "display_data"
    }
   ],
   "source": [
    "# Create grouped bar chart\n",
    "grouped_chart_spending1=crosstab_age_spending.plot(kind='bar', figsize=(10,6), title='Age Groups by Spending', rot=0)"
   ]
  },
  {
   "cell_type": "code",
   "execution_count": 202,
   "id": "befc91e8",
   "metadata": {},
   "outputs": [],
   "source": [
    "# Exporting vizb\n",
    "grouped_chart_spending1.figure.savefig(os.path.join(path, '04 Analysis', 'Visualizations', 'age_spending_grouped_bar.png'))"
   ]
  },
  {
   "cell_type": "markdown",
   "id": "1a879335",
   "metadata": {},
   "source": [
    "### b. Income"
   ]
  },
  {
   "cell_type": "code",
   "execution_count": 195,
   "id": "362022b4",
   "metadata": {},
   "outputs": [],
   "source": [
    "# Creating a crosstab comparing 'income_group' and 'spending_flag', looking at row percentages\n",
    "crosstab_income_spending = pd.crosstab(df_ic_active['income_group'], df_ic_active['spending_flag'], normalize = 'index')"
   ]
  },
  {
   "cell_type": "code",
   "execution_count": 196,
   "id": "e76f7ba3",
   "metadata": {},
   "outputs": [
    {
     "data": {
      "text/html": [
       "<div>\n",
       "<style scoped>\n",
       "    .dataframe tbody tr th:only-of-type {\n",
       "        vertical-align: middle;\n",
       "    }\n",
       "\n",
       "    .dataframe tbody tr th {\n",
       "        vertical-align: top;\n",
       "    }\n",
       "\n",
       "    .dataframe thead th {\n",
       "        text-align: right;\n",
       "    }\n",
       "</style>\n",
       "<table border=\"1\" class=\"dataframe\">\n",
       "  <thead>\n",
       "    <tr style=\"text-align: right;\">\n",
       "      <th>spending_flag</th>\n",
       "      <th>High spender</th>\n",
       "      <th>Low spender</th>\n",
       "    </tr>\n",
       "    <tr>\n",
       "      <th>income_group</th>\n",
       "      <th></th>\n",
       "      <th></th>\n",
       "    </tr>\n",
       "  </thead>\n",
       "  <tbody>\n",
       "    <tr>\n",
       "      <th>High income</th>\n",
       "      <td>0.099840</td>\n",
       "      <td>0.900160</td>\n",
       "    </tr>\n",
       "    <tr>\n",
       "      <th>Low income</th>\n",
       "      <td>0.003048</td>\n",
       "      <td>0.996952</td>\n",
       "    </tr>\n",
       "    <tr>\n",
       "      <th>Mid income</th>\n",
       "      <td>0.010740</td>\n",
       "      <td>0.989260</td>\n",
       "    </tr>\n",
       "  </tbody>\n",
       "</table>\n",
       "</div>"
      ],
      "text/plain": [
       "spending_flag  High spender  Low spender\n",
       "income_group                            \n",
       "High income        0.099840     0.900160\n",
       "Low income         0.003048     0.996952\n",
       "Mid income         0.010740     0.989260"
      ]
     },
     "execution_count": 196,
     "metadata": {},
     "output_type": "execute_result"
    }
   ],
   "source": [
    "crosstab_income_spending"
   ]
  },
  {
   "cell_type": "markdown",
   "id": "4d174cc7",
   "metadata": {},
   "source": [
    "Observation: The table indicates that a much higher proportion of customers in the high-income group are classified as \"High spender\" (9.98%) compared to customers in the low-income group (0.30%) and mid-income group (1.07%). Conversely, a much higher proportion of customers in the low-income group are classified as \"Low spender\" (99.70%) compared to customers in the high-income group (90.02%) and mid-income group (98.93%).\n",
    "\n",
    "These results suggest that there is a strong correlation between a customer's income level and their spending behavior. Customers with high incomes are more likely to spend more money on their purchases compared to customers with low incomes or mid-incomes."
   ]
  },
  {
   "cell_type": "code",
   "execution_count": 197,
   "id": "84ce6b89",
   "metadata": {},
   "outputs": [
    {
     "data": {
      "image/png": "[encoded data removed]",
      "text/plain": [
       "<Figure size 1000x600 with 1 Axes>"
      ]
     },
     "metadata": {},
     "output_type": "display_data"
    }
   ],
   "source": [
    "# Create grouped bar chart\n",
    "grouped_chart_spending=crosstab_income_spending.plot(kind='bar', figsize=(10,6), title='Income Groups by Spending', rot=0)"
   ]
  },
  {
   "cell_type": "code",
   "execution_count": 198,
   "id": "5a6d3e4c",
   "metadata": {},
   "outputs": [],
   "source": [
    "# Exporting vizb\n",
    "grouped_chart_spending.figure.savefig(os.path.join(path, '04 Analysis', 'Visualizations', 'income_spending_grouped_bar.png'))"
   ]
  },
  {
   "cell_type": "markdown",
   "id": "d7353ffb",
   "metadata": {},
   "source": [
    "### c. Veganism"
   ]
  },
  {
   "cell_type": "code",
   "execution_count": 204,
   "id": "4506e466",
   "metadata": {},
   "outputs": [],
   "source": [
    "# Creating a crosstab comparing 'veganism_group' and 'spending_flag', looking at row percentages\n",
    "crosstab_veganism_spending= pd.crosstab(df_ic_active['veganism_group'], df_ic_active['spending_flag'], normalize = 'index')"
   ]
  },
  {
   "cell_type": "code",
   "execution_count": 205,
   "id": "b8e069ec",
   "metadata": {},
   "outputs": [
    {
     "data": {
      "text/html": [
       "<div>\n",
       "<style scoped>\n",
       "    .dataframe tbody tr th:only-of-type {\n",
       "        vertical-align: middle;\n",
       "    }\n",
       "\n",
       "    .dataframe tbody tr th {\n",
       "        vertical-align: top;\n",
       "    }\n",
       "\n",
       "    .dataframe thead th {\n",
       "        text-align: right;\n",
       "    }\n",
       "</style>\n",
       "<table border=\"1\" class=\"dataframe\">\n",
       "  <thead>\n",
       "    <tr style=\"text-align: right;\">\n",
       "      <th>spending_flag</th>\n",
       "      <th>High spender</th>\n",
       "      <th>Low spender</th>\n",
       "    </tr>\n",
       "    <tr>\n",
       "      <th>veganism_group</th>\n",
       "      <th></th>\n",
       "      <th></th>\n",
       "    </tr>\n",
       "  </thead>\n",
       "  <tbody>\n",
       "    <tr>\n",
       "      <th>non-vegan</th>\n",
       "      <td>0.019484</td>\n",
       "      <td>0.980516</td>\n",
       "    </tr>\n",
       "    <tr>\n",
       "      <th>vegan</th>\n",
       "      <td>0.019884</td>\n",
       "      <td>0.980116</td>\n",
       "    </tr>\n",
       "  </tbody>\n",
       "</table>\n",
       "</div>"
      ],
      "text/plain": [
       "spending_flag   High spender  Low spender\n",
       "veganism_group                           \n",
       "non-vegan           0.019484     0.980516\n",
       "vegan               0.019884     0.980116"
      ]
     },
     "execution_count": 205,
     "metadata": {},
     "output_type": "execute_result"
    }
   ],
   "source": [
    "crosstab_veganism_spending"
   ]
  },
  {
   "cell_type": "markdown",
   "id": "f3c3b3f8",
   "metadata": {},
   "source": [
    "Observation: we can see that the proportion of high spenders to low spenders is very similar between non-vegan and veganism groups. Both groups have a higher proportion of low spenders (around 98%) compared to high spenders (around 2%)"
   ]
  },
  {
   "cell_type": "code",
   "execution_count": 207,
   "id": "aae8c333",
   "metadata": {},
   "outputs": [
    {
     "data": {
      "image/png": "[encoded data removed]",
      "text/plain": [
       "<Figure size 1000x600 with 1 Axes>"
      ]
     },
     "metadata": {},
     "output_type": "display_data"
    }
   ],
   "source": [
    "# Create grouped bar chart\n",
    "grouped_chart_spending2=crosstab_veganism_spending.plot(kind='bar', figsize=(10,6), title='Veganism Groups by Spending', rot=0)"
   ]
  },
  {
   "cell_type": "code",
   "execution_count": 208,
   "id": "54df7c02",
   "metadata": {},
   "outputs": [],
   "source": [
    "# Exporting viz\n",
    "grouped_chart_spending2.figure.savefig(os.path.join(path, '04 Analysis', 'Visualizations', 'veganism_spending_grouped_bar.png'))"
   ]
  },
  {
   "cell_type": "markdown",
   "id": "350732e8",
   "metadata": {},
   "source": [
    "### d. Family size"
   ]
  },
  {
   "cell_type": "code",
   "execution_count": 209,
   "id": "837af894",
   "metadata": {},
   "outputs": [],
   "source": [
    "# Creating a crosstab comparing 'family_size' and 'spending_flag', looking at row percentages\n",
    "crosstab_family_spending= pd.crosstab(df_ic_active['family_size'], df_ic_active['spending_flag'], normalize = 'index')"
   ]
  },
  {
   "cell_type": "code",
   "execution_count": 210,
   "id": "9ece1240",
   "metadata": {},
   "outputs": [
    {
     "data": {
      "text/html": [
       "<div>\n",
       "<style scoped>\n",
       "    .dataframe tbody tr th:only-of-type {\n",
       "        vertical-align: middle;\n",
       "    }\n",
       "\n",
       "    .dataframe tbody tr th {\n",
       "        vertical-align: top;\n",
       "    }\n",
       "\n",
       "    .dataframe thead th {\n",
       "        text-align: right;\n",
       "    }\n",
       "</style>\n",
       "<table border=\"1\" class=\"dataframe\">\n",
       "  <thead>\n",
       "    <tr style=\"text-align: right;\">\n",
       "      <th>spending_flag</th>\n",
       "      <th>High spender</th>\n",
       "      <th>Low spender</th>\n",
       "    </tr>\n",
       "    <tr>\n",
       "      <th>family_size</th>\n",
       "      <th></th>\n",
       "      <th></th>\n",
       "    </tr>\n",
       "  </thead>\n",
       "  <tbody>\n",
       "    <tr>\n",
       "      <th>divorced/widowed, no children</th>\n",
       "      <td>0.019023</td>\n",
       "      <td>0.980977</td>\n",
       "    </tr>\n",
       "    <tr>\n",
       "      <th>married with children</th>\n",
       "      <td>0.019751</td>\n",
       "      <td>0.980249</td>\n",
       "    </tr>\n",
       "    <tr>\n",
       "      <th>single, no children</th>\n",
       "      <td>0.018789</td>\n",
       "      <td>0.981211</td>\n",
       "    </tr>\n",
       "    <tr>\n",
       "      <th>unknown</th>\n",
       "      <td>0.018854</td>\n",
       "      <td>0.981146</td>\n",
       "    </tr>\n",
       "  </tbody>\n",
       "</table>\n",
       "</div>"
      ],
      "text/plain": [
       "spending_flag                  High spender  Low spender\n",
       "family_size                                             \n",
       "divorced/widowed, no children      0.019023     0.980977\n",
       "married with children              0.019751     0.980249\n",
       "single, no children                0.018789     0.981211\n",
       "unknown                            0.018854     0.981146"
      ]
     },
     "execution_count": 210,
     "metadata": {},
     "output_type": "execute_result"
    }
   ],
   "source": [
    "crosstab_family_spending"
   ]
  },
  {
   "cell_type": "markdown",
   "id": "b728c726",
   "metadata": {},
   "source": [
    "Observation: There is not a significant difference in the proportion of high spenders and low spenders across the different family size groups. All of the proportions are very similar, with high spenders representing about 1.9% and low spenders representing about 98.1% of all customers in each group"
   ]
  },
  {
   "cell_type": "code",
   "execution_count": 212,
   "id": "bf7a8312",
   "metadata": {
    "scrolled": true
   },
   "outputs": [
    {
     "data": {
      "image/png": "[encoded data removed]",
      "text/plain": [
       "<Figure size 1000x600 with 1 Axes>"
      ]
     },
     "metadata": {},
     "output_type": "display_data"
    }
   ],
   "source": [
    "# Create grouped bar chart\n",
    "grouped_chart_spending3=crosstab_family_spending.plot(kind='bar', figsize=(10,6), title='Family Size by Spending', rot=0)"
   ]
  },
  {
   "cell_type": "markdown",
   "id": "cc73a85e",
   "metadata": {},
   "source": [
    "## Questions from Project Brief"
   ]
  },
  {
   "cell_type": "markdown",
   "id": "aecca3f6",
   "metadata": {},
   "source": [
    "### Instacart has a lot of products with different price tags. Marketing and sales want to use simpler price range groupings to help direct their efforts"
   ]
  },
  {
   "cell_type": "code",
   "execution_count": 4,
   "id": "821b2de5",
   "metadata": {},
   "outputs": [],
   "source": [
    "# Import the customer_data_set dataframe\n",
    "df_ic_cus = pd.read_pickle(os.path.join(path, '02 Data', 'Prepared Data', 'active_customer_profiles.pkl'))"
   ]
  },
  {
   "cell_type": "code",
   "execution_count": 5,
   "id": "8ab22ae9",
   "metadata": {},
   "outputs": [],
   "source": [
    "# Set the option to display all columns\n",
    "pd.set_option('display.max_columns', None)"
   ]
  },
  {
   "cell_type": "code",
   "execution_count": 12,
   "id": "e0038f80",
   "metadata": {},
   "outputs": [
    {
     "data": {
      "text/html": [
       "<div>\n",
       "<style scoped>\n",
       "    .dataframe tbody tr th:only-of-type {\n",
       "        vertical-align: middle;\n",
       "    }\n",
       "\n",
       "    .dataframe tbody tr th {\n",
       "        vertical-align: top;\n",
       "    }\n",
       "\n",
       "    .dataframe thead th {\n",
       "        text-align: right;\n",
       "    }\n",
       "</style>\n",
       "<table border=\"1\" class=\"dataframe\">\n",
       "  <thead>\n",
       "    <tr style=\"text-align: right;\">\n",
       "      <th></th>\n",
       "      <th>order_id</th>\n",
       "      <th>user_id</th>\n",
       "      <th>eval_set</th>\n",
       "      <th>order_number</th>\n",
       "      <th>order_day_of_week</th>\n",
       "      <th>order_hour_of_day</th>\n",
       "      <th>days_since_prior_order</th>\n",
       "      <th>product_id</th>\n",
       "      <th>add_to_cart_order</th>\n",
       "      <th>reordered</th>\n",
       "      <th>Unnamed: 0</th>\n",
       "      <th>product_name</th>\n",
       "      <th>aisle_id</th>\n",
       "      <th>department_id</th>\n",
       "      <th>prices</th>\n",
       "      <th>_merge</th>\n",
       "      <th>busiest_day</th>\n",
       "      <th>busiest_days</th>\n",
       "      <th>busiest_period_of_day</th>\n",
       "      <th>price_range_loc</th>\n",
       "      <th>max_order</th>\n",
       "      <th>loyalty_flag</th>\n",
       "      <th>avg_order</th>\n",
       "      <th>spending_flag</th>\n",
       "      <th>median_prior_order</th>\n",
       "      <th>order_frequency_flag</th>\n",
       "      <th>gender</th>\n",
       "      <th>state</th>\n",
       "      <th>age</th>\n",
       "      <th>date_joined</th>\n",
       "      <th>number_of_dependants</th>\n",
       "      <th>fam_status</th>\n",
       "      <th>income</th>\n",
       "      <th>True</th>\n",
       "      <th>region</th>\n",
       "      <th>exclusion</th>\n",
       "      <th>age_group</th>\n",
       "      <th>income_group</th>\n",
       "      <th>veganism_group</th>\n",
       "      <th>family_size</th>\n",
       "    </tr>\n",
       "  </thead>\n",
       "  <tbody>\n",
       "    <tr>\n",
       "      <th>0</th>\n",
       "      <td>2539329</td>\n",
       "      <td>1</td>\n",
       "      <td>prior</td>\n",
       "      <td>1</td>\n",
       "      <td>2</td>\n",
       "      <td>8</td>\n",
       "      <td>NaN</td>\n",
       "      <td>196</td>\n",
       "      <td>1</td>\n",
       "      <td>0</td>\n",
       "      <td>195</td>\n",
       "      <td>Soda</td>\n",
       "      <td>77</td>\n",
       "      <td>7</td>\n",
       "      <td>9.0</td>\n",
       "      <td>both</td>\n",
       "      <td>Regularly busy</td>\n",
       "      <td>Regularly days</td>\n",
       "      <td>Average orders</td>\n",
       "      <td>Mid-range product</td>\n",
       "      <td>10</td>\n",
       "      <td>New customer</td>\n",
       "      <td>6.367797</td>\n",
       "      <td>Low spender</td>\n",
       "      <td>20.5</td>\n",
       "      <td>Non-frequent customer</td>\n",
       "      <td>Female</td>\n",
       "      <td>Alabama</td>\n",
       "      <td>31</td>\n",
       "      <td>2/17/2019</td>\n",
       "      <td>3</td>\n",
       "      <td>married</td>\n",
       "      <td>40423</td>\n",
       "      <td>both</td>\n",
       "      <td>South</td>\n",
       "      <td>active</td>\n",
       "      <td>Mid-aged</td>\n",
       "      <td>Low income</td>\n",
       "      <td>non-vegan</td>\n",
       "      <td>married with children</td>\n",
       "    </tr>\n",
       "    <tr>\n",
       "      <th>1</th>\n",
       "      <td>2398795</td>\n",
       "      <td>1</td>\n",
       "      <td>prior</td>\n",
       "      <td>2</td>\n",
       "      <td>3</td>\n",
       "      <td>7</td>\n",
       "      <td>15.0</td>\n",
       "      <td>196</td>\n",
       "      <td>1</td>\n",
       "      <td>1</td>\n",
       "      <td>195</td>\n",
       "      <td>Soda</td>\n",
       "      <td>77</td>\n",
       "      <td>7</td>\n",
       "      <td>9.0</td>\n",
       "      <td>both</td>\n",
       "      <td>Regularly busy</td>\n",
       "      <td>Slowest days</td>\n",
       "      <td>Average orders</td>\n",
       "      <td>Mid-range product</td>\n",
       "      <td>10</td>\n",
       "      <td>New customer</td>\n",
       "      <td>6.367797</td>\n",
       "      <td>Low spender</td>\n",
       "      <td>20.5</td>\n",
       "      <td>Non-frequent customer</td>\n",
       "      <td>Female</td>\n",
       "      <td>Alabama</td>\n",
       "      <td>31</td>\n",
       "      <td>2/17/2019</td>\n",
       "      <td>3</td>\n",
       "      <td>married</td>\n",
       "      <td>40423</td>\n",
       "      <td>both</td>\n",
       "      <td>South</td>\n",
       "      <td>active</td>\n",
       "      <td>Mid-aged</td>\n",
       "      <td>Low income</td>\n",
       "      <td>non-vegan</td>\n",
       "      <td>married with children</td>\n",
       "    </tr>\n",
       "    <tr>\n",
       "      <th>2</th>\n",
       "      <td>473747</td>\n",
       "      <td>1</td>\n",
       "      <td>prior</td>\n",
       "      <td>3</td>\n",
       "      <td>3</td>\n",
       "      <td>12</td>\n",
       "      <td>21.0</td>\n",
       "      <td>196</td>\n",
       "      <td>1</td>\n",
       "      <td>1</td>\n",
       "      <td>195</td>\n",
       "      <td>Soda</td>\n",
       "      <td>77</td>\n",
       "      <td>7</td>\n",
       "      <td>9.0</td>\n",
       "      <td>both</td>\n",
       "      <td>Regularly busy</td>\n",
       "      <td>Slowest days</td>\n",
       "      <td>Most orders</td>\n",
       "      <td>Mid-range product</td>\n",
       "      <td>10</td>\n",
       "      <td>New customer</td>\n",
       "      <td>6.367797</td>\n",
       "      <td>Low spender</td>\n",
       "      <td>20.5</td>\n",
       "      <td>Non-frequent customer</td>\n",
       "      <td>Female</td>\n",
       "      <td>Alabama</td>\n",
       "      <td>31</td>\n",
       "      <td>2/17/2019</td>\n",
       "      <td>3</td>\n",
       "      <td>married</td>\n",
       "      <td>40423</td>\n",
       "      <td>both</td>\n",
       "      <td>South</td>\n",
       "      <td>active</td>\n",
       "      <td>Mid-aged</td>\n",
       "      <td>Low income</td>\n",
       "      <td>non-vegan</td>\n",
       "      <td>married with children</td>\n",
       "    </tr>\n",
       "    <tr>\n",
       "      <th>3</th>\n",
       "      <td>2254736</td>\n",
       "      <td>1</td>\n",
       "      <td>prior</td>\n",
       "      <td>4</td>\n",
       "      <td>4</td>\n",
       "      <td>7</td>\n",
       "      <td>29.0</td>\n",
       "      <td>196</td>\n",
       "      <td>1</td>\n",
       "      <td>1</td>\n",
       "      <td>195</td>\n",
       "      <td>Soda</td>\n",
       "      <td>77</td>\n",
       "      <td>7</td>\n",
       "      <td>9.0</td>\n",
       "      <td>both</td>\n",
       "      <td>Least busy</td>\n",
       "      <td>Slowest days</td>\n",
       "      <td>Average orders</td>\n",
       "      <td>Mid-range product</td>\n",
       "      <td>10</td>\n",
       "      <td>New customer</td>\n",
       "      <td>6.367797</td>\n",
       "      <td>Low spender</td>\n",
       "      <td>20.5</td>\n",
       "      <td>Non-frequent customer</td>\n",
       "      <td>Female</td>\n",
       "      <td>Alabama</td>\n",
       "      <td>31</td>\n",
       "      <td>2/17/2019</td>\n",
       "      <td>3</td>\n",
       "      <td>married</td>\n",
       "      <td>40423</td>\n",
       "      <td>both</td>\n",
       "      <td>South</td>\n",
       "      <td>active</td>\n",
       "      <td>Mid-aged</td>\n",
       "      <td>Low income</td>\n",
       "      <td>non-vegan</td>\n",
       "      <td>married with children</td>\n",
       "    </tr>\n",
       "    <tr>\n",
       "      <th>4</th>\n",
       "      <td>431534</td>\n",
       "      <td>1</td>\n",
       "      <td>prior</td>\n",
       "      <td>5</td>\n",
       "      <td>4</td>\n",
       "      <td>15</td>\n",
       "      <td>28.0</td>\n",
       "      <td>196</td>\n",
       "      <td>1</td>\n",
       "      <td>1</td>\n",
       "      <td>195</td>\n",
       "      <td>Soda</td>\n",
       "      <td>77</td>\n",
       "      <td>7</td>\n",
       "      <td>9.0</td>\n",
       "      <td>both</td>\n",
       "      <td>Least busy</td>\n",
       "      <td>Slowest days</td>\n",
       "      <td>Most orders</td>\n",
       "      <td>Mid-range product</td>\n",
       "      <td>10</td>\n",
       "      <td>New customer</td>\n",
       "      <td>6.367797</td>\n",
       "      <td>Low spender</td>\n",
       "      <td>20.5</td>\n",
       "      <td>Non-frequent customer</td>\n",
       "      <td>Female</td>\n",
       "      <td>Alabama</td>\n",
       "      <td>31</td>\n",
       "      <td>2/17/2019</td>\n",
       "      <td>3</td>\n",
       "      <td>married</td>\n",
       "      <td>40423</td>\n",
       "      <td>both</td>\n",
       "      <td>South</td>\n",
       "      <td>active</td>\n",
       "      <td>Mid-aged</td>\n",
       "      <td>Low income</td>\n",
       "      <td>non-vegan</td>\n",
       "      <td>married with children</td>\n",
       "    </tr>\n",
       "  </tbody>\n",
       "</table>\n",
       "</div>"
      ],
      "text/plain": [
       "   order_id user_id eval_set  order_number  order_day_of_week  \\\n",
       "0   2539329       1    prior             1                  2   \n",
       "1   2398795       1    prior             2                  3   \n",
       "2    473747       1    prior             3                  3   \n",
       "3   2254736       1    prior             4                  4   \n",
       "4    431534       1    prior             5                  4   \n",
       "\n",
       "   order_hour_of_day  days_since_prior_order  product_id  add_to_cart_order  \\\n",
       "0                  8                     NaN         196                  1   \n",
       "1                  7                    15.0         196                  1   \n",
       "2                 12                    21.0         196                  1   \n",
       "3                  7                    29.0         196                  1   \n",
       "4                 15                    28.0         196                  1   \n",
       "\n",
       "   reordered  Unnamed: 0 product_name  aisle_id  department_id  prices _merge  \\\n",
       "0          0         195         Soda        77              7     9.0   both   \n",
       "1          1         195         Soda        77              7     9.0   both   \n",
       "2          1         195         Soda        77              7     9.0   both   \n",
       "3          1         195         Soda        77              7     9.0   both   \n",
       "4          1         195         Soda        77              7     9.0   both   \n",
       "\n",
       "      busiest_day    busiest_days busiest_period_of_day    price_range_loc  \\\n",
       "0  Regularly busy  Regularly days        Average orders  Mid-range product   \n",
       "1  Regularly busy    Slowest days        Average orders  Mid-range product   \n",
       "2  Regularly busy    Slowest days           Most orders  Mid-range product   \n",
       "3      Least busy    Slowest days        Average orders  Mid-range product   \n",
       "4      Least busy    Slowest days           Most orders  Mid-range product   \n",
       "\n",
       "   max_order  loyalty_flag  avg_order spending_flag  median_prior_order  \\\n",
       "0         10  New customer   6.367797   Low spender                20.5   \n",
       "1         10  New customer   6.367797   Low spender                20.5   \n",
       "2         10  New customer   6.367797   Low spender                20.5   \n",
       "3         10  New customer   6.367797   Low spender                20.5   \n",
       "4         10  New customer   6.367797   Low spender                20.5   \n",
       "\n",
       "    order_frequency_flag  gender    state  age date_joined  \\\n",
       "0  Non-frequent customer  Female  Alabama   31   2/17/2019   \n",
       "1  Non-frequent customer  Female  Alabama   31   2/17/2019   \n",
       "2  Non-frequent customer  Female  Alabama   31   2/17/2019   \n",
       "3  Non-frequent customer  Female  Alabama   31   2/17/2019   \n",
       "4  Non-frequent customer  Female  Alabama   31   2/17/2019   \n",
       "\n",
       "   number_of_dependants fam_status  income  True region exclusion age_group  \\\n",
       "0                     3    married   40423  both  South    active  Mid-aged   \n",
       "1                     3    married   40423  both  South    active  Mid-aged   \n",
       "2                     3    married   40423  both  South    active  Mid-aged   \n",
       "3                     3    married   40423  both  South    active  Mid-aged   \n",
       "4                     3    married   40423  both  South    active  Mid-aged   \n",
       "\n",
       "  income_group veganism_group            family_size  \n",
       "0   Low income      non-vegan  married with children  \n",
       "1   Low income      non-vegan  married with children  \n",
       "2   Low income      non-vegan  married with children  \n",
       "3   Low income      non-vegan  married with children  \n",
       "4   Low income      non-vegan  married with children  "
      ]
     },
     "execution_count": 12,
     "metadata": {},
     "output_type": "execute_result"
    }
   ],
   "source": [
    "df_ic_cus.head()"
   ]
  },
  {
   "cell_type": "code",
   "execution_count": 69,
   "id": "fb818dcc",
   "metadata": {
    "scrolled": true
   },
   "outputs": [
    {
     "data": {
      "text/plain": [
       "Text(0.5, 1.0, 'Price Range Distribution')"
      ]
     },
     "execution_count": 69,
     "metadata": {},
     "output_type": "execute_result"
    },
    {
     "data": {
      "image/png": "[encoded data removed]",
      "text/plain": [
       "<Figure size 640x480 with 1 Axes>"
      ]
     },
     "metadata": {},
     "output_type": "display_data"
    }
   ],
   "source": [
    "# Create a pie chart for price range\n",
    "\n",
    "value_counts = df_ic_cus['price_range_loc'].value_counts()\n",
    "labels = value_counts.index\n",
    "counts = value_counts.values\n",
    "percentages = counts / counts.sum() * 100\n",
    "colors = ['pink', 'green', 'orange']\n",
    "\n",
    "plt.pie(percentages, labels=labels, colors=colors, autopct='%1.1f%%', startangle=90)\n",
    "plt.title(\"Price Range Distribution\")\n"
   ]
  },
  {
   "cell_type": "code",
   "execution_count": 68,
   "id": "67994d2d",
   "metadata": {},
   "outputs": [
    {
     "data": {
      "text/plain": [
       "<Figure size 640x480 with 0 Axes>"
      ]
     },
     "metadata": {},
     "output_type": "display_data"
    }
   ],
   "source": [
    "# Exporting the viz\n",
    "plt.savefig(os.path.join(path, '04 Analysis', 'Visualizations', 'price_range_pie.png'))"
   ]
  },
  {
   "cell_type": "code",
   "execution_count": 67,
   "id": "13a13516",
   "metadata": {},
   "outputs": [],
   "source": [
    "# Show the plot\n",
    "plt.show()"
   ]
  },
  {
   "cell_type": "markdown",
   "id": "d7afe608",
   "metadata": {},
   "source": [
    "### Are there certain types of products that are more popular than others?   \n",
    "### The marketing and sales teams want to know which departments have the highest frequency of product orders."
   ]
  },
  {
   "cell_type": "code",
   "execution_count": 47,
   "id": "88b272de",
   "metadata": {},
   "outputs": [
    {
     "data": {
      "text/plain": [
       "4     9079273\n",
       "16    5177182\n",
       "19    2766406\n",
       "7     2571901\n",
       "1     2121731\n",
       "13    1782705\n",
       "3     1120828\n",
       "15    1012074\n",
       "20    1003834\n",
       "9      822136\n",
       "17     699857\n",
       "12     674781\n",
       "14     670850\n",
       "11     424306\n",
       "18     410392\n",
       "6      255991\n",
       "5      144627\n",
       "8       93060\n",
       "21      64768\n",
       "2       34411\n",
       "10      33451\n",
       "Name: department_id, dtype: int64"
      ]
     },
     "execution_count": 47,
     "metadata": {},
     "output_type": "execute_result"
    }
   ],
   "source": [
    "df_ic_cus['department_id'].value_counts(dropna = False)"
   ]
  },
  {
   "cell_type": "code",
   "execution_count": 48,
   "id": "1abfc233",
   "metadata": {},
   "outputs": [
    {
     "data": {
      "image/png": "[encoded data removed]",
      "text/plain": [
       "<Figure size 640x480 with 1 Axes>"
      ]
     },
     "metadata": {},
     "output_type": "display_data"
    }
   ],
   "source": [
    "#bar chart for departments with the highest frequency of product orders\n",
    "popular_dept_count = df_ic_cus['department_id'].value_counts(dropna=False)\n",
    "popular_dept = popular_dept_count.plot.bar()\n",
    "plt.title('Popularity of Departments', fontweight='bold')\n",
    "plt.xlabel('Department')\n",
    "plt.ylabel('Number of Orders')\n",
    "plt.show()"
   ]
  },
  {
   "cell_type": "code",
   "execution_count": 51,
   "id": "94eeade1",
   "metadata": {},
   "outputs": [],
   "source": [
    "# Exporting viz\n",
    "popular_dept.figure.savefig(os.path.join(path, '04 Analysis', 'Visualizations', 'populrity_by_department.png'))"
   ]
  },
  {
   "cell_type": "code",
   "execution_count": null,
   "id": "16e86cf5",
   "metadata": {},
   "outputs": [],
   "source": []
  },
  {
   "cell_type": "markdown",
   "id": "e5280c87",
   "metadata": {},
   "source": [
    "### Are there differences in ordering habits based on a customer’s loyalty status? "
   ]
  },
  {
   "cell_type": "code",
   "execution_count": 37,
   "id": "58a696b1",
   "metadata": {},
   "outputs": [],
   "source": [
    "# Creating a crosstab comparing 'loyalty_flag' and 'department'\n",
    "crosstab_department_loyal= pd.crosstab(df_ic_cus['department_id'], df_ic_cus['loyalty_flag'])"
   ]
  },
  {
   "cell_type": "code",
   "execution_count": 33,
   "id": "73b1561c",
   "metadata": {},
   "outputs": [
    {
     "data": {
      "image/png": "[encoded data removed]",
      "text/plain": [
       "<Figure size 1000x600 with 1 Axes>"
      ]
     },
     "metadata": {},
     "output_type": "display_data"
    }
   ],
   "source": [
    "# Creating a crosstab comparing 'loyalty_flag' and 'department'\n",
    "crosstab_department_loyal= pd.crosstab(df_ic_cus['department_id'], df_ic_cus['loyalty_flag'])# Create grouped bar chart\n",
    "grouped_chart_loyal_department=crosstab_department_loyal.plot(kind='bar', figsize=(10,6), title='Orders by Department and Loyalty Status', rot=0)"
   ]
  },
  {
   "cell_type": "code",
   "execution_count": 34,
   "id": "55b88aa1",
   "metadata": {},
   "outputs": [],
   "source": [
    "# Exporting viz\n",
    "grouped_chart_loyal_department.figure.savefig(os.path.join(path, '04 Analysis', 'Visualizations', 'orders_by_department_loyalty_status_bar.png'))"
   ]
  },
  {
   "cell_type": "code",
   "execution_count": 39,
   "id": "d00916dc",
   "metadata": {},
   "outputs": [],
   "source": [
    "# Creating a crosstab comparing 'loyalty_flag' and 'order_day_of_week'\n",
    "crosstab_dow_loyal= pd.crosstab(df_ic_cus['order_day_of_week'], df_ic_cus['loyalty_flag'])"
   ]
  },
  {
   "cell_type": "code",
   "execution_count": 40,
   "id": "e92e2dad",
   "metadata": {
    "scrolled": true
   },
   "outputs": [
    {
     "data": {
      "text/html": [
       "<div>\n",
       "<style scoped>\n",
       "    .dataframe tbody tr th:only-of-type {\n",
       "        vertical-align: middle;\n",
       "    }\n",
       "\n",
       "    .dataframe tbody tr th {\n",
       "        vertical-align: top;\n",
       "    }\n",
       "\n",
       "    .dataframe thead th {\n",
       "        text-align: right;\n",
       "    }\n",
       "</style>\n",
       "<table border=\"1\" class=\"dataframe\">\n",
       "  <thead>\n",
       "    <tr style=\"text-align: right;\">\n",
       "      <th>loyalty_flag</th>\n",
       "      <th>Loyal customer</th>\n",
       "      <th>New customer</th>\n",
       "      <th>Regular customer</th>\n",
       "    </tr>\n",
       "    <tr>\n",
       "      <th>order_day_of_week</th>\n",
       "      <th></th>\n",
       "      <th></th>\n",
       "      <th></th>\n",
       "    </tr>\n",
       "  </thead>\n",
       "  <tbody>\n",
       "    <tr>\n",
       "      <th>0</th>\n",
       "      <td>1754731</td>\n",
       "      <td>984879</td>\n",
       "      <td>3169000</td>\n",
       "    </tr>\n",
       "    <tr>\n",
       "      <th>1</th>\n",
       "      <td>1843401</td>\n",
       "      <td>818902</td>\n",
       "      <td>2749383</td>\n",
       "    </tr>\n",
       "    <tr>\n",
       "      <th>2</th>\n",
       "      <td>1352343</td>\n",
       "      <td>625288</td>\n",
       "      <td>2047075</td>\n",
       "    </tr>\n",
       "    <tr>\n",
       "      <th>3</th>\n",
       "      <td>1266495</td>\n",
       "      <td>560418</td>\n",
       "      <td>1842622</td>\n",
       "    </tr>\n",
       "    <tr>\n",
       "      <th>4</th>\n",
       "      <td>1292042</td>\n",
       "      <td>535931</td>\n",
       "      <td>1797021</td>\n",
       "    </tr>\n",
       "    <tr>\n",
       "      <th>5</th>\n",
       "      <td>1456715</td>\n",
       "      <td>587718</td>\n",
       "      <td>1989296</td>\n",
       "    </tr>\n",
       "    <tr>\n",
       "      <th>6</th>\n",
       "      <td>1318366</td>\n",
       "      <td>690559</td>\n",
       "      <td>2282379</td>\n",
       "    </tr>\n",
       "  </tbody>\n",
       "</table>\n",
       "</div>"
      ],
      "text/plain": [
       "loyalty_flag       Loyal customer  New customer  Regular customer\n",
       "order_day_of_week                                                \n",
       "0                         1754731        984879           3169000\n",
       "1                         1843401        818902           2749383\n",
       "2                         1352343        625288           2047075\n",
       "3                         1266495        560418           1842622\n",
       "4                         1292042        535931           1797021\n",
       "5                         1456715        587718           1989296\n",
       "6                         1318366        690559           2282379"
      ]
     },
     "execution_count": 40,
     "metadata": {},
     "output_type": "execute_result"
    }
   ],
   "source": [
    "crosstab_dow_loyal"
   ]
  },
  {
   "cell_type": "code",
   "execution_count": 41,
   "id": "b3af00b6",
   "metadata": {},
   "outputs": [
    {
     "data": {
      "image/png": "[encoded data removed]",
      "text/plain": [
       "<Figure size 1000x600 with 1 Axes>"
      ]
     },
     "metadata": {},
     "output_type": "display_data"
    }
   ],
   "source": [
    "# Create grouped bar chart\n",
    "grouped_chart_loyal_dow=crosstab_department_loyal.plot(kind='bar', figsize=(10,6), title='Orders by Day of Week and Loyalty Status', rot=0)"
   ]
  },
  {
   "cell_type": "markdown",
   "id": "01079c75",
   "metadata": {},
   "source": [
    "Observation: \n",
    "The highest count of Loyal customers is observed on day 1 (Monday). This suggests that Mondays attract a significant number of customers who consistently show loyalty to the business.\n",
    "New customers are relatively evenly distributed throughout the week, with the highest count on day 0 (Sunday)\n",
    "Regular customers show the highest count on day 6 (Saturday). This indicates that Saturdays tend to have a larger number of customers who shop regularly but may not have a strong loyalty status.\n",
    "Overall, different days of the week attract varying customer behaviors, with some days being more popular among loyal customers while others have higher counts of new or regular customers. This information can be valuable for businesses to plan their marketing and promotional strategies tailored to different customer segments on specific days of the week."
   ]
  },
  {
   "cell_type": "code",
   "execution_count": 42,
   "id": "0ea1235d",
   "metadata": {},
   "outputs": [],
   "source": [
    "# Exporting viz\n",
    "grouped_chart_loyal_dow.figure.savefig(os.path.join(path, '04 Analysis', 'Visualizations', 'orders_by_dow_loyalty_status_bar.png'))"
   ]
  },
  {
   "cell_type": "markdown",
   "id": "42dd934e",
   "metadata": {},
   "source": [
    "### Are there differences in ordering habits based on a customer’s region?"
   ]
  },
  {
   "cell_type": "code",
   "execution_count": 70,
   "id": "f86a8bfc",
   "metadata": {},
   "outputs": [],
   "source": [
    "# Import the customer_data_set dataframe\n",
    "df_ic = pd.read_pickle(os.path.join(path, '02 Data', 'Prepared Data', 'ic_final.pkl'))"
   ]
  },
  {
   "cell_type": "code",
   "execution_count": 74,
   "id": "0ae8d368",
   "metadata": {},
   "outputs": [],
   "source": [
    "# Creating a crosstab comparing 'department' and 'region'\n",
    "crosstab_department_region= pd.crosstab(df_ic['region'], df_ic['department'])"
   ]
  },
  {
   "cell_type": "code",
   "execution_count": 77,
   "id": "27ecc63f",
   "metadata": {},
   "outputs": [
    {
     "data": {
      "text/html": [
       "<div>\n",
       "<style scoped>\n",
       "    .dataframe tbody tr th:only-of-type {\n",
       "        vertical-align: middle;\n",
       "    }\n",
       "\n",
       "    .dataframe tbody tr th {\n",
       "        vertical-align: top;\n",
       "    }\n",
       "\n",
       "    .dataframe thead th {\n",
       "        text-align: right;\n",
       "    }\n",
       "</style>\n",
       "<table border=\"1\" class=\"dataframe\">\n",
       "  <thead>\n",
       "    <tr style=\"text-align: right;\">\n",
       "      <th>department</th>\n",
       "      <th>alcohol</th>\n",
       "      <th>babies</th>\n",
       "      <th>bakery</th>\n",
       "      <th>beverages</th>\n",
       "      <th>breakfast</th>\n",
       "      <th>bulk</th>\n",
       "      <th>canned goods</th>\n",
       "      <th>dairy eggs</th>\n",
       "      <th>deli</th>\n",
       "      <th>dry goods pasta</th>\n",
       "      <th>frozen</th>\n",
       "      <th>household</th>\n",
       "      <th>international</th>\n",
       "      <th>meat seafood</th>\n",
       "      <th>missing</th>\n",
       "      <th>other</th>\n",
       "      <th>pantry</th>\n",
       "      <th>personal care</th>\n",
       "      <th>pets</th>\n",
       "      <th>produce</th>\n",
       "      <th>snacks</th>\n",
       "    </tr>\n",
       "    <tr>\n",
       "      <th>region</th>\n",
       "      <th></th>\n",
       "      <th></th>\n",
       "      <th></th>\n",
       "      <th></th>\n",
       "      <th></th>\n",
       "      <th></th>\n",
       "      <th></th>\n",
       "      <th></th>\n",
       "      <th></th>\n",
       "      <th></th>\n",
       "      <th></th>\n",
       "      <th></th>\n",
       "      <th></th>\n",
       "      <th></th>\n",
       "      <th></th>\n",
       "      <th></th>\n",
       "      <th></th>\n",
       "      <th></th>\n",
       "      <th></th>\n",
       "      <th></th>\n",
       "      <th></th>\n",
       "    </tr>\n",
       "  </thead>\n",
       "  <tbody>\n",
       "    <tr>\n",
       "      <th>Midwest</th>\n",
       "      <td>34043</td>\n",
       "      <td>95741</td>\n",
       "      <td>261753</td>\n",
       "      <td>598979</td>\n",
       "      <td>156155</td>\n",
       "      <td>7929</td>\n",
       "      <td>237459</td>\n",
       "      <td>1212490</td>\n",
       "      <td>234464</td>\n",
       "      <td>193463</td>\n",
       "      <td>498225</td>\n",
       "      <td>166992</td>\n",
       "      <td>60666</td>\n",
       "      <td>158260</td>\n",
       "      <td>15563</td>\n",
       "      <td>7983</td>\n",
       "      <td>420334</td>\n",
       "      <td>100398</td>\n",
       "      <td>21358</td>\n",
       "      <td>2134115</td>\n",
       "      <td>645143</td>\n",
       "    </tr>\n",
       "    <tr>\n",
       "      <th>Northeast</th>\n",
       "      <td>25017</td>\n",
       "      <td>72712</td>\n",
       "      <td>199300</td>\n",
       "      <td>462929</td>\n",
       "      <td>117904</td>\n",
       "      <td>5599</td>\n",
       "      <td>176936</td>\n",
       "      <td>914616</td>\n",
       "      <td>178398</td>\n",
       "      <td>143817</td>\n",
       "      <td>370436</td>\n",
       "      <td>124604</td>\n",
       "      <td>44678</td>\n",
       "      <td>118571</td>\n",
       "      <td>11512</td>\n",
       "      <td>6268</td>\n",
       "      <td>312731</td>\n",
       "      <td>74765</td>\n",
       "      <td>17734</td>\n",
       "      <td>1593004</td>\n",
       "      <td>493154</td>\n",
       "    </tr>\n",
       "    <tr>\n",
       "      <th>South</th>\n",
       "      <td>48813</td>\n",
       "      <td>139511</td>\n",
       "      <td>371620</td>\n",
       "      <td>859419</td>\n",
       "      <td>223172</td>\n",
       "      <td>11180</td>\n",
       "      <td>337458</td>\n",
       "      <td>1723016</td>\n",
       "      <td>333620</td>\n",
       "      <td>272813</td>\n",
       "      <td>709906</td>\n",
       "      <td>230061</td>\n",
       "      <td>84649</td>\n",
       "      <td>224120</td>\n",
       "      <td>21787</td>\n",
       "      <td>11579</td>\n",
       "      <td>591754</td>\n",
       "      <td>142496</td>\n",
       "      <td>29909</td>\n",
       "      <td>3027476</td>\n",
       "      <td>916780</td>\n",
       "    </tr>\n",
       "    <tr>\n",
       "      <th>West</th>\n",
       "      <td>36754</td>\n",
       "      <td>102428</td>\n",
       "      <td>288155</td>\n",
       "      <td>650574</td>\n",
       "      <td>173619</td>\n",
       "      <td>8743</td>\n",
       "      <td>260221</td>\n",
       "      <td>1327060</td>\n",
       "      <td>257352</td>\n",
       "      <td>212043</td>\n",
       "      <td>543164</td>\n",
       "      <td>178200</td>\n",
       "      <td>65998</td>\n",
       "      <td>173830</td>\n",
       "      <td>15906</td>\n",
       "      <td>8581</td>\n",
       "      <td>457886</td>\n",
       "      <td>106647</td>\n",
       "      <td>24059</td>\n",
       "      <td>2324678</td>\n",
       "      <td>711329</td>\n",
       "    </tr>\n",
       "  </tbody>\n",
       "</table>\n",
       "</div>"
      ],
      "text/plain": [
       "department  alcohol  babies  bakery  beverages  breakfast   bulk  \\\n",
       "region                                                             \n",
       "Midwest       34043   95741  261753     598979     156155   7929   \n",
       "Northeast     25017   72712  199300     462929     117904   5599   \n",
       "South         48813  139511  371620     859419     223172  11180   \n",
       "West          36754  102428  288155     650574     173619   8743   \n",
       "\n",
       "department  canned goods  dairy eggs    deli  dry goods pasta  frozen  \\\n",
       "region                                                                  \n",
       "Midwest           237459     1212490  234464           193463  498225   \n",
       "Northeast         176936      914616  178398           143817  370436   \n",
       "South             337458     1723016  333620           272813  709906   \n",
       "West              260221     1327060  257352           212043  543164   \n",
       "\n",
       "department  household  international  meat seafood  missing  other  pantry  \\\n",
       "region                                                                       \n",
       "Midwest        166992          60666        158260    15563   7983  420334   \n",
       "Northeast      124604          44678        118571    11512   6268  312731   \n",
       "South          230061          84649        224120    21787  11579  591754   \n",
       "West           178200          65998        173830    15906   8581  457886   \n",
       "\n",
       "department  personal care   pets  produce  snacks  \n",
       "region                                             \n",
       "Midwest            100398  21358  2134115  645143  \n",
       "Northeast           74765  17734  1593004  493154  \n",
       "South              142496  29909  3027476  916780  \n",
       "West               106647  24059  2324678  711329  "
      ]
     },
     "execution_count": 77,
     "metadata": {},
     "output_type": "execute_result"
    }
   ],
   "source": [
    "crosstab_department_region"
   ]
  },
  {
   "cell_type": "code",
   "execution_count": 76,
   "id": "ba14ffd5",
   "metadata": {},
   "outputs": [
    {
     "data": {
      "image/png": "[encoded data removed]",
      "text/plain": [
       "<Figure size 1000x600 with 1 Axes>"
      ]
     },
     "metadata": {},
     "output_type": "display_data"
    }
   ],
   "source": [
    "# Create grouped bar chart\n",
    "grouped_chart_dep_region=crosstab_department_region.T.plot(kind='bar', figsize=(10,6), title='Orders by Departments across Regions')"
   ]
  },
  {
   "cell_type": "code",
   "execution_count": 78,
   "id": "d8c67b90",
   "metadata": {},
   "outputs": [],
   "source": [
    "# Exporting viz\n",
    "grouped_chart_dep_region.figure.savefig(os.path.join(path, '04 Analysis', 'Visualizations', 'orders_by_dep_regions.png'))"
   ]
  },
  {
   "cell_type": "code",
   "execution_count": 84,
   "id": "d053498a",
   "metadata": {},
   "outputs": [],
   "source": [
    " # Creating a crosstab comparing 'order_day_of_week' and 'region'\n",
    "crosstab_dow_region= pd.crosstab(df_ic['region'], df_ic['order_day_of_week'])"
   ]
  },
  {
   "cell_type": "code",
   "execution_count": 85,
   "id": "1564e7e5",
   "metadata": {},
   "outputs": [
    {
     "data": {
      "text/html": [
       "<div>\n",
       "<style scoped>\n",
       "    .dataframe tbody tr th:only-of-type {\n",
       "        vertical-align: middle;\n",
       "    }\n",
       "\n",
       "    .dataframe tbody tr th {\n",
       "        vertical-align: top;\n",
       "    }\n",
       "\n",
       "    .dataframe thead th {\n",
       "        text-align: right;\n",
       "    }\n",
       "</style>\n",
       "<table border=\"1\" class=\"dataframe\">\n",
       "  <thead>\n",
       "    <tr style=\"text-align: right;\">\n",
       "      <th>order_day_of_week</th>\n",
       "      <th>0</th>\n",
       "      <th>1</th>\n",
       "      <th>2</th>\n",
       "      <th>3</th>\n",
       "      <th>4</th>\n",
       "      <th>5</th>\n",
       "      <th>6</th>\n",
       "    </tr>\n",
       "    <tr>\n",
       "      <th>region</th>\n",
       "      <th></th>\n",
       "      <th></th>\n",
       "      <th></th>\n",
       "      <th></th>\n",
       "      <th></th>\n",
       "      <th></th>\n",
       "      <th></th>\n",
       "    </tr>\n",
       "  </thead>\n",
       "  <tbody>\n",
       "    <tr>\n",
       "      <th>Midwest</th>\n",
       "      <td>1390189</td>\n",
       "      <td>1263655</td>\n",
       "      <td>947370</td>\n",
       "      <td>855316</td>\n",
       "      <td>851501</td>\n",
       "      <td>943396</td>\n",
       "      <td>1010086</td>\n",
       "    </tr>\n",
       "    <tr>\n",
       "      <th>Northeast</th>\n",
       "      <td>1043698</td>\n",
       "      <td>954332</td>\n",
       "      <td>713159</td>\n",
       "      <td>649305</td>\n",
       "      <td>637781</td>\n",
       "      <td>716128</td>\n",
       "      <td>750282</td>\n",
       "    </tr>\n",
       "    <tr>\n",
       "      <th>South</th>\n",
       "      <td>1955352</td>\n",
       "      <td>1808348</td>\n",
       "      <td>1340387</td>\n",
       "      <td>1229002</td>\n",
       "      <td>1205497</td>\n",
       "      <td>1342849</td>\n",
       "      <td>1429704</td>\n",
       "    </tr>\n",
       "    <tr>\n",
       "      <th>West</th>\n",
       "      <td>1519371</td>\n",
       "      <td>1385351</td>\n",
       "      <td>1023790</td>\n",
       "      <td>935912</td>\n",
       "      <td>930215</td>\n",
       "      <td>1031356</td>\n",
       "      <td>1101232</td>\n",
       "    </tr>\n",
       "  </tbody>\n",
       "</table>\n",
       "</div>"
      ],
      "text/plain": [
       "order_day_of_week        0        1        2        3        4        5  \\\n",
       "region                                                                    \n",
       "Midwest            1390189  1263655   947370   855316   851501   943396   \n",
       "Northeast          1043698   954332   713159   649305   637781   716128   \n",
       "South              1955352  1808348  1340387  1229002  1205497  1342849   \n",
       "West               1519371  1385351  1023790   935912   930215  1031356   \n",
       "\n",
       "order_day_of_week        6  \n",
       "region                      \n",
       "Midwest            1010086  \n",
       "Northeast           750282  \n",
       "South              1429704  \n",
       "West               1101232  "
      ]
     },
     "execution_count": 85,
     "metadata": {},
     "output_type": "execute_result"
    }
   ],
   "source": [
    "crosstab_dow_region"
   ]
  },
  {
   "cell_type": "code",
   "execution_count": 82,
   "id": "f2b59add",
   "metadata": {},
   "outputs": [
    {
     "data": {
      "image/png": "[encoded data removed]",
      "text/plain": [
       "<Figure size 1000x600 with 1 Axes>"
      ]
     },
     "metadata": {},
     "output_type": "display_data"
    }
   ],
   "source": [
    "# Create grouped bar chart\n",
    "grouped_chart_dow_region=crosstab_dow_region.T.plot(kind='bar', figsize=(10,6), title='Orders by Days of Week across Regions')"
   ]
  },
  {
   "cell_type": "code",
   "execution_count": 83,
   "id": "85b2555a",
   "metadata": {},
   "outputs": [],
   "source": [
    "# Exporting viz\n",
    "grouped_chart_dow_region.figure.savefig(os.path.join(path, '04 Analysis', 'Visualizations', 'orders_by_dow_regions.png'))"
   ]
  },
  {
   "cell_type": "markdown",
   "id": "e792dc53",
   "metadata": {},
   "source": [
    "## Step 10. Export Data"
   ]
  },
  {
   "cell_type": "code",
   "execution_count": 213,
   "id": "98b29313",
   "metadata": {},
   "outputs": [],
   "source": [
    "# Exporting final data set as \n",
    "df_ic.to_pickle(os.path.join(path, '02 Data', 'Prepared Data', 'ic_final_official.pkl'))"
   ]
  },
  {
   "cell_type": "code",
   "execution_count": 221,
   "id": "f73a5f98",
   "metadata": {},
   "outputs": [
    {
     "data": {
      "text/plain": [
       "(30964564, 41)"
      ]
     },
     "execution_count": 221,
     "metadata": {},
     "output_type": "execute_result"
    }
   ],
   "source": [
    "df_ic.shape"
   ]
  }
 ],
 "metadata": {
  "kernelspec": {
   "display_name": "Python 3 (ipykernel)",
   "language": "python",
   "name": "python3"
  },
  "language_info": {
   "codemirror_mode": {
    "name": "ipython",
    "version": 3
   },
   "file_extension": ".py",
   "mimetype": "text/x-python",
   "name": "python",
   "nbconvert_exporter": "python",
   "pygments_lexer": "ipython3",
   "version": "3.9.13"
  }
 },
 "nbformat": 4,
 "nbformat_minor": 5
}
